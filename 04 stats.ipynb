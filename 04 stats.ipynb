{
 "cells": [
  {
   "cell_type": "markdown",
   "id": "b9c5687b-2fae-48fd-8da1-a59979237039",
   "metadata": {},
   "source": [
    "## Organize"
   ]
  },
  {
   "cell_type": "code",
   "execution_count": 1,
   "id": "5390612c-3e02-460f-addf-042c8b7585a2",
   "metadata": {},
   "outputs": [
    {
     "name": "stderr",
     "output_type": "stream",
     "text": [
      "── \u001b[1mAttaching packages\u001b[22m ─────────────────────────────────────── tidyverse 1.3.1 ──\n",
      "\n",
      "\u001b[32m✔\u001b[39m \u001b[34mggplot2\u001b[39m 3.3.5     \u001b[32m✔\u001b[39m \u001b[34mpurrr  \u001b[39m 0.3.4\n",
      "\u001b[32m✔\u001b[39m \u001b[34mtibble \u001b[39m 3.1.2     \u001b[32m✔\u001b[39m \u001b[34mdplyr  \u001b[39m 1.0.5\n",
      "\u001b[32m✔\u001b[39m \u001b[34mtidyr  \u001b[39m 1.1.3     \u001b[32m✔\u001b[39m \u001b[34mstringr\u001b[39m 1.4.0\n",
      "\u001b[32m✔\u001b[39m \u001b[34mreadr  \u001b[39m 1.4.0     \u001b[32m✔\u001b[39m \u001b[34mforcats\u001b[39m 0.5.1\n",
      "\n",
      "── \u001b[1mConflicts\u001b[22m ────────────────────────────────────────── tidyverse_conflicts() ──\n",
      "\u001b[31m✖\u001b[39m \u001b[34mdplyr\u001b[39m::\u001b[32mfilter()\u001b[39m masks \u001b[34mstats\u001b[39m::filter()\n",
      "\u001b[31m✖\u001b[39m \u001b[34mdplyr\u001b[39m::\u001b[32mlag()\u001b[39m    masks \u001b[34mstats\u001b[39m::lag()\n",
      "\n",
      "\n",
      "Attaching package: ‘rstatix’\n",
      "\n",
      "\n",
      "The following object is masked from ‘package:stats’:\n",
      "\n",
      "    filter\n",
      "\n",
      "\n"
     ]
    }
   ],
   "source": [
    "library(tidyverse)\n",
    "library(rstatix)\n",
    "#library(ggsignif)"
   ]
  },
  {
   "cell_type": "code",
   "execution_count": 2,
   "id": "cbf467a7-4763-4ca7-b45e-ef62560f64a6",
   "metadata": {},
   "outputs": [],
   "source": [
    "# theme with all the settings to make ggplot look nice\n",
    "pub_theme <- function(text.size){\n",
    "    theme(\n",
    "        # text settings\n",
    "        text = element_text(size = text.size),\n",
    "        plot.title = element_text(hjust = 0.5),\n",
    "        # background color\n",
    "        panel.background = element_rect(fill = NA),\n",
    "        # border color\n",
    "        panel.border = element_blank(),\n",
    "        axis.line = element_line(),\n",
    "        # get rid of axis\n",
    "        panel.grid.major.x = element_blank(),\n",
    "        panel.grid.major.y = element_blank(),\n",
    "        panel.grid.minor.x = element_blank(),\n",
    "        panel.grid.minor.y = element_blank(),\n",
    "        # legend settings\n",
    "        legend.background = element_blank()\n",
    "    )\n",
    "}"
   ]
  },
  {
   "cell_type": "code",
   "execution_count": 11,
   "id": "885d6f06-52ba-4c4a-a5e1-1c818fc0d731",
   "metadata": {},
   "outputs": [],
   "source": [
    "df <- read.csv('data_formatted/apen.csv')"
   ]
  },
  {
   "cell_type": "code",
   "execution_count": 88,
   "id": "c0ec06f0-288e-40b3-adf7-5fe7a6470d23",
   "metadata": {},
   "outputs": [],
   "source": [
    "joints <- read.csv('data_formatted/joints_labeled.csv')"
   ]
  },
  {
   "cell_type": "code",
   "execution_count": 12,
   "id": "81d48989-6f26-4517-9f81-3f3513524261",
   "metadata": {},
   "outputs": [
    {
     "data": {
      "text/html": [
       "<table class=\"dataframe\">\n",
       "<caption>A data.frame: 6 × 10</caption>\n",
       "<thead>\n",
       "\t<tr><th></th><th scope=col>unique_id</th><th scope=col>group</th><th scope=col>dance_group</th><th scope=col>measure</th><th scope=col>apen</th><th scope=col>limb</th><th scope=col>movement</th><th scope=col>limb_move</th><th scope=col>side</th><th scope=col>side_limb_move</th></tr>\n",
       "\t<tr><th></th><th scope=col>&lt;chr&gt;</th><th scope=col>&lt;chr&gt;</th><th scope=col>&lt;chr&gt;</th><th scope=col>&lt;chr&gt;</th><th scope=col>&lt;dbl&gt;</th><th scope=col>&lt;chr&gt;</th><th scope=col>&lt;chr&gt;</th><th scope=col>&lt;chr&gt;</th><th scope=col>&lt;chr&gt;</th><th scope=col>&lt;chr&gt;</th></tr>\n",
       "</thead>\n",
       "<tbody>\n",
       "\t<tr><th scope=row>1</th><td>pddance001_record01</td><td>PD</td><td>tango  </td><td>ap-hip_lt-flexion_(deg)</td><td>0.28195412</td><td>hip</td><td>flexion</td><td>hip_flexion</td><td>left</td><td>left_hip_flexion</td></tr>\n",
       "\t<tr><th scope=row>2</th><td>pddance001_record02</td><td>PD</td><td>tango  </td><td>ap-hip_lt-flexion_(deg)</td><td>0.17633145</td><td>hip</td><td>flexion</td><td>hip_flexion</td><td>left</td><td>left_hip_flexion</td></tr>\n",
       "\t<tr><th scope=row>3</th><td>pddance002_record02</td><td>PD</td><td>line   </td><td>ap-hip_lt-flexion_(deg)</td><td>0.08686219</td><td>hip</td><td>flexion</td><td>hip_flexion</td><td>left</td><td>left_hip_flexion</td></tr>\n",
       "\t<tr><th scope=row>4</th><td>pddance002_record03</td><td>PD</td><td>foxtrot</td><td>ap-hip_lt-flexion_(deg)</td><td>0.14133672</td><td>hip</td><td>flexion</td><td>hip_flexion</td><td>left</td><td>left_hip_flexion</td></tr>\n",
       "\t<tr><th scope=row>5</th><td>pddance002_record04</td><td>PD</td><td>foxtrot</td><td>ap-hip_lt-flexion_(deg)</td><td>0.20238947</td><td>hip</td><td>flexion</td><td>hip_flexion</td><td>left</td><td>left_hip_flexion</td></tr>\n",
       "\t<tr><th scope=row>6</th><td>pddance002_record05</td><td>PD</td><td>waltz  </td><td>ap-hip_lt-flexion_(deg)</td><td>0.19261587</td><td>hip</td><td>flexion</td><td>hip_flexion</td><td>left</td><td>left_hip_flexion</td></tr>\n",
       "</tbody>\n",
       "</table>\n"
      ],
      "text/latex": [
       "A data.frame: 6 × 10\n",
       "\\begin{tabular}{r|llllllllll}\n",
       "  & unique\\_id & group & dance\\_group & measure & apen & limb & movement & limb\\_move & side & side\\_limb\\_move\\\\\n",
       "  & <chr> & <chr> & <chr> & <chr> & <dbl> & <chr> & <chr> & <chr> & <chr> & <chr>\\\\\n",
       "\\hline\n",
       "\t1 & pddance001\\_record01 & PD & tango   & ap-hip\\_lt-flexion\\_(deg) & 0.28195412 & hip & flexion & hip\\_flexion & left & left\\_hip\\_flexion\\\\\n",
       "\t2 & pddance001\\_record02 & PD & tango   & ap-hip\\_lt-flexion\\_(deg) & 0.17633145 & hip & flexion & hip\\_flexion & left & left\\_hip\\_flexion\\\\\n",
       "\t3 & pddance002\\_record02 & PD & line    & ap-hip\\_lt-flexion\\_(deg) & 0.08686219 & hip & flexion & hip\\_flexion & left & left\\_hip\\_flexion\\\\\n",
       "\t4 & pddance002\\_record03 & PD & foxtrot & ap-hip\\_lt-flexion\\_(deg) & 0.14133672 & hip & flexion & hip\\_flexion & left & left\\_hip\\_flexion\\\\\n",
       "\t5 & pddance002\\_record04 & PD & foxtrot & ap-hip\\_lt-flexion\\_(deg) & 0.20238947 & hip & flexion & hip\\_flexion & left & left\\_hip\\_flexion\\\\\n",
       "\t6 & pddance002\\_record05 & PD & waltz   & ap-hip\\_lt-flexion\\_(deg) & 0.19261587 & hip & flexion & hip\\_flexion & left & left\\_hip\\_flexion\\\\\n",
       "\\end{tabular}\n"
      ],
      "text/markdown": [
       "\n",
       "A data.frame: 6 × 10\n",
       "\n",
       "| <!--/--> | unique_id &lt;chr&gt; | group &lt;chr&gt; | dance_group &lt;chr&gt; | measure &lt;chr&gt; | apen &lt;dbl&gt; | limb &lt;chr&gt; | movement &lt;chr&gt; | limb_move &lt;chr&gt; | side &lt;chr&gt; | side_limb_move &lt;chr&gt; |\n",
       "|---|---|---|---|---|---|---|---|---|---|---|\n",
       "| 1 | pddance001_record01 | PD | tango   | ap-hip_lt-flexion_(deg) | 0.28195412 | hip | flexion | hip_flexion | left | left_hip_flexion |\n",
       "| 2 | pddance001_record02 | PD | tango   | ap-hip_lt-flexion_(deg) | 0.17633145 | hip | flexion | hip_flexion | left | left_hip_flexion |\n",
       "| 3 | pddance002_record02 | PD | line    | ap-hip_lt-flexion_(deg) | 0.08686219 | hip | flexion | hip_flexion | left | left_hip_flexion |\n",
       "| 4 | pddance002_record03 | PD | foxtrot | ap-hip_lt-flexion_(deg) | 0.14133672 | hip | flexion | hip_flexion | left | left_hip_flexion |\n",
       "| 5 | pddance002_record04 | PD | foxtrot | ap-hip_lt-flexion_(deg) | 0.20238947 | hip | flexion | hip_flexion | left | left_hip_flexion |\n",
       "| 6 | pddance002_record05 | PD | waltz   | ap-hip_lt-flexion_(deg) | 0.19261587 | hip | flexion | hip_flexion | left | left_hip_flexion |\n",
       "\n"
      ],
      "text/plain": [
       "  unique_id           group dance_group measure                 apen       limb\n",
       "1 pddance001_record01 PD    tango       ap-hip_lt-flexion_(deg) 0.28195412 hip \n",
       "2 pddance001_record02 PD    tango       ap-hip_lt-flexion_(deg) 0.17633145 hip \n",
       "3 pddance002_record02 PD    line        ap-hip_lt-flexion_(deg) 0.08686219 hip \n",
       "4 pddance002_record03 PD    foxtrot     ap-hip_lt-flexion_(deg) 0.14133672 hip \n",
       "5 pddance002_record04 PD    foxtrot     ap-hip_lt-flexion_(deg) 0.20238947 hip \n",
       "6 pddance002_record05 PD    waltz       ap-hip_lt-flexion_(deg) 0.19261587 hip \n",
       "  movement limb_move   side side_limb_move  \n",
       "1 flexion  hip_flexion left left_hip_flexion\n",
       "2 flexion  hip_flexion left left_hip_flexion\n",
       "3 flexion  hip_flexion left left_hip_flexion\n",
       "4 flexion  hip_flexion left left_hip_flexion\n",
       "5 flexion  hip_flexion left left_hip_flexion\n",
       "6 flexion  hip_flexion left left_hip_flexion"
      ]
     },
     "metadata": {},
     "output_type": "display_data"
    }
   ],
   "source": [
    "head(df)"
   ]
  },
  {
   "cell_type": "code",
   "execution_count": 13,
   "id": "365b7952-b300-437b-baa6-a40a64f63d35",
   "metadata": {},
   "outputs": [],
   "source": [
    "# separate left and right into separate columns\n",
    "df.lr <- df %>% \n",
    "            select(unique_id, group, dance_group, side, limb_move, apen) %>% \n",
    "            filter(side == 'left') %>% \n",
    "            rename(left = apen)\n",
    "df.lr$right <- df %>% \n",
    "            filter(side == 'right') %>%\n",
    "            pull(apen)\n",
    "\n",
    "# separate PD and OA for easier analysis\n",
    "pd.lr <- df.lr %>% filter(group=='PD')\n",
    "oa.lr <- df.lr %>% filter(group=='OA')"
   ]
  },
  {
   "cell_type": "markdown",
   "id": "28eb7fb1-083f-4ddc-8b48-fadd847f527a",
   "metadata": {
    "tags": []
   },
   "source": [
    "# ApEn"
   ]
  },
  {
   "cell_type": "code",
   "execution_count": 8,
   "id": "97feb31f-2b0d-45a1-a120-96662386ca9b",
   "metadata": {},
   "outputs": [],
   "source": [
    "record <- read.csv('data_formatted/dance_recordings.csv')"
   ]
  },
  {
   "cell_type": "code",
   "execution_count": 14,
   "id": "e3cc1f70-78a7-4bb9-a569-139a47b297bd",
   "metadata": {},
   "outputs": [
    {
     "data": {
      "text/html": [
       "<table class=\"dataframe\">\n",
       "<caption>A data.frame: 6 × 12</caption>\n",
       "<thead>\n",
       "\t<tr><th></th><th scope=col>unique_id</th><th scope=col>id</th><th scope=col>record</th><th scope=col>group</th><th scope=col>dance_group</th><th scope=col>measure</th><th scope=col>apen</th><th scope=col>limb</th><th scope=col>movement</th><th scope=col>limb_move</th><th scope=col>side</th><th scope=col>side_limb_move</th></tr>\n",
       "\t<tr><th></th><th scope=col>&lt;chr&gt;</th><th scope=col>&lt;chr&gt;</th><th scope=col>&lt;chr&gt;</th><th scope=col>&lt;chr&gt;</th><th scope=col>&lt;chr&gt;</th><th scope=col>&lt;chr&gt;</th><th scope=col>&lt;dbl&gt;</th><th scope=col>&lt;chr&gt;</th><th scope=col>&lt;chr&gt;</th><th scope=col>&lt;chr&gt;</th><th scope=col>&lt;chr&gt;</th><th scope=col>&lt;chr&gt;</th></tr>\n",
       "</thead>\n",
       "<tbody>\n",
       "\t<tr><th scope=row>1</th><td>pddance001_record01</td><td>pddance001</td><td>record01</td><td>PD</td><td>tango  </td><td>ap-hip_lt-flexion_(deg)</td><td>0.28195412</td><td>hip</td><td>flexion</td><td>hip_flexion</td><td>left</td><td>left_hip_flexion</td></tr>\n",
       "\t<tr><th scope=row>2</th><td>pddance001_record02</td><td>pddance001</td><td>record02</td><td>PD</td><td>tango  </td><td>ap-hip_lt-flexion_(deg)</td><td>0.17633145</td><td>hip</td><td>flexion</td><td>hip_flexion</td><td>left</td><td>left_hip_flexion</td></tr>\n",
       "\t<tr><th scope=row>3</th><td>pddance002_record02</td><td>pddance002</td><td>record02</td><td>PD</td><td>line   </td><td>ap-hip_lt-flexion_(deg)</td><td>0.08686219</td><td>hip</td><td>flexion</td><td>hip_flexion</td><td>left</td><td>left_hip_flexion</td></tr>\n",
       "\t<tr><th scope=row>4</th><td>pddance002_record03</td><td>pddance002</td><td>record03</td><td>PD</td><td>foxtrot</td><td>ap-hip_lt-flexion_(deg)</td><td>0.14133672</td><td>hip</td><td>flexion</td><td>hip_flexion</td><td>left</td><td>left_hip_flexion</td></tr>\n",
       "\t<tr><th scope=row>5</th><td>pddance002_record04</td><td>pddance002</td><td>record04</td><td>PD</td><td>foxtrot</td><td>ap-hip_lt-flexion_(deg)</td><td>0.20238947</td><td>hip</td><td>flexion</td><td>hip_flexion</td><td>left</td><td>left_hip_flexion</td></tr>\n",
       "\t<tr><th scope=row>6</th><td>pddance002_record05</td><td>pddance002</td><td>record05</td><td>PD</td><td>waltz  </td><td>ap-hip_lt-flexion_(deg)</td><td>0.19261587</td><td>hip</td><td>flexion</td><td>hip_flexion</td><td>left</td><td>left_hip_flexion</td></tr>\n",
       "</tbody>\n",
       "</table>\n"
      ],
      "text/latex": [
       "A data.frame: 6 × 12\n",
       "\\begin{tabular}{r|llllllllllll}\n",
       "  & unique\\_id & id & record & group & dance\\_group & measure & apen & limb & movement & limb\\_move & side & side\\_limb\\_move\\\\\n",
       "  & <chr> & <chr> & <chr> & <chr> & <chr> & <chr> & <dbl> & <chr> & <chr> & <chr> & <chr> & <chr>\\\\\n",
       "\\hline\n",
       "\t1 & pddance001\\_record01 & pddance001 & record01 & PD & tango   & ap-hip\\_lt-flexion\\_(deg) & 0.28195412 & hip & flexion & hip\\_flexion & left & left\\_hip\\_flexion\\\\\n",
       "\t2 & pddance001\\_record02 & pddance001 & record02 & PD & tango   & ap-hip\\_lt-flexion\\_(deg) & 0.17633145 & hip & flexion & hip\\_flexion & left & left\\_hip\\_flexion\\\\\n",
       "\t3 & pddance002\\_record02 & pddance002 & record02 & PD & line    & ap-hip\\_lt-flexion\\_(deg) & 0.08686219 & hip & flexion & hip\\_flexion & left & left\\_hip\\_flexion\\\\\n",
       "\t4 & pddance002\\_record03 & pddance002 & record03 & PD & foxtrot & ap-hip\\_lt-flexion\\_(deg) & 0.14133672 & hip & flexion & hip\\_flexion & left & left\\_hip\\_flexion\\\\\n",
       "\t5 & pddance002\\_record04 & pddance002 & record04 & PD & foxtrot & ap-hip\\_lt-flexion\\_(deg) & 0.20238947 & hip & flexion & hip\\_flexion & left & left\\_hip\\_flexion\\\\\n",
       "\t6 & pddance002\\_record05 & pddance002 & record05 & PD & waltz   & ap-hip\\_lt-flexion\\_(deg) & 0.19261587 & hip & flexion & hip\\_flexion & left & left\\_hip\\_flexion\\\\\n",
       "\\end{tabular}\n"
      ],
      "text/markdown": [
       "\n",
       "A data.frame: 6 × 12\n",
       "\n",
       "| <!--/--> | unique_id &lt;chr&gt; | id &lt;chr&gt; | record &lt;chr&gt; | group &lt;chr&gt; | dance_group &lt;chr&gt; | measure &lt;chr&gt; | apen &lt;dbl&gt; | limb &lt;chr&gt; | movement &lt;chr&gt; | limb_move &lt;chr&gt; | side &lt;chr&gt; | side_limb_move &lt;chr&gt; |\n",
       "|---|---|---|---|---|---|---|---|---|---|---|---|---|\n",
       "| 1 | pddance001_record01 | pddance001 | record01 | PD | tango   | ap-hip_lt-flexion_(deg) | 0.28195412 | hip | flexion | hip_flexion | left | left_hip_flexion |\n",
       "| 2 | pddance001_record02 | pddance001 | record02 | PD | tango   | ap-hip_lt-flexion_(deg) | 0.17633145 | hip | flexion | hip_flexion | left | left_hip_flexion |\n",
       "| 3 | pddance002_record02 | pddance002 | record02 | PD | line    | ap-hip_lt-flexion_(deg) | 0.08686219 | hip | flexion | hip_flexion | left | left_hip_flexion |\n",
       "| 4 | pddance002_record03 | pddance002 | record03 | PD | foxtrot | ap-hip_lt-flexion_(deg) | 0.14133672 | hip | flexion | hip_flexion | left | left_hip_flexion |\n",
       "| 5 | pddance002_record04 | pddance002 | record04 | PD | foxtrot | ap-hip_lt-flexion_(deg) | 0.20238947 | hip | flexion | hip_flexion | left | left_hip_flexion |\n",
       "| 6 | pddance002_record05 | pddance002 | record05 | PD | waltz   | ap-hip_lt-flexion_(deg) | 0.19261587 | hip | flexion | hip_flexion | left | left_hip_flexion |\n",
       "\n"
      ],
      "text/plain": [
       "  unique_id           id         record   group dance_group\n",
       "1 pddance001_record01 pddance001 record01 PD    tango      \n",
       "2 pddance001_record02 pddance001 record02 PD    tango      \n",
       "3 pddance002_record02 pddance002 record02 PD    line       \n",
       "4 pddance002_record03 pddance002 record03 PD    foxtrot    \n",
       "5 pddance002_record04 pddance002 record04 PD    foxtrot    \n",
       "6 pddance002_record05 pddance002 record05 PD    waltz      \n",
       "  measure                 apen       limb movement limb_move   side\n",
       "1 ap-hip_lt-flexion_(deg) 0.28195412 hip  flexion  hip_flexion left\n",
       "2 ap-hip_lt-flexion_(deg) 0.17633145 hip  flexion  hip_flexion left\n",
       "3 ap-hip_lt-flexion_(deg) 0.08686219 hip  flexion  hip_flexion left\n",
       "4 ap-hip_lt-flexion_(deg) 0.14133672 hip  flexion  hip_flexion left\n",
       "5 ap-hip_lt-flexion_(deg) 0.20238947 hip  flexion  hip_flexion left\n",
       "6 ap-hip_lt-flexion_(deg) 0.19261587 hip  flexion  hip_flexion left\n",
       "  side_limb_move  \n",
       "1 left_hip_flexion\n",
       "2 left_hip_flexion\n",
       "3 left_hip_flexion\n",
       "4 left_hip_flexion\n",
       "5 left_hip_flexion\n",
       "6 left_hip_flexion"
      ]
     },
     "metadata": {},
     "output_type": "display_data"
    }
   ],
   "source": [
    "df <- df %>% separate(col=unique_id, sep='_',into=c('id','record'), remove=FALSE)\n",
    "df %>% head"
   ]
  },
  {
   "cell_type": "code",
   "execution_count": 15,
   "id": "2ae04325-9aee-4ac1-8cb5-0a4c064e7fdc",
   "metadata": {},
   "outputs": [
    {
     "name": "stderr",
     "output_type": "stream",
     "text": [
      "`summarise()` has grouped output by 'id', 'group', 'dance_group', 'side'. You can override using the `.groups` argument.\n",
      "\n"
     ]
    },
    {
     "data": {
      "text/html": [
       "<table class=\"dataframe\">\n",
       "<caption>A grouped_df: 6 × 7</caption>\n",
       "<thead>\n",
       "\t<tr><th scope=col>id</th><th scope=col>group</th><th scope=col>dance_group</th><th scope=col>side</th><th scope=col>limb_move</th><th scope=col>apen</th><th scope=col>n()</th></tr>\n",
       "\t<tr><th scope=col>&lt;chr&gt;</th><th scope=col>&lt;chr&gt;</th><th scope=col>&lt;chr&gt;</th><th scope=col>&lt;chr&gt;</th><th scope=col>&lt;chr&gt;</th><th scope=col>&lt;dbl&gt;</th><th scope=col>&lt;int&gt;</th></tr>\n",
       "</thead>\n",
       "<tbody>\n",
       "\t<tr><td>pddance001</td><td>PD</td><td>tango</td><td>left </td><td>hip_abduction   </td><td>0.61697711</td><td>2</td></tr>\n",
       "\t<tr><td>pddance001</td><td>PD</td><td>tango</td><td>left </td><td>hip_flexion     </td><td>0.22914278</td><td>2</td></tr>\n",
       "\t<tr><td>pddance001</td><td>PD</td><td>tango</td><td>left </td><td>hip_rotation_ext</td><td>0.04364859</td><td>2</td></tr>\n",
       "\t<tr><td>pddance001</td><td>PD</td><td>tango</td><td>left </td><td>knee_flexion    </td><td>0.11785455</td><td>2</td></tr>\n",
       "\t<tr><td>pddance001</td><td>PD</td><td>tango</td><td>right</td><td>hip_abduction   </td><td>0.46963949</td><td>2</td></tr>\n",
       "\t<tr><td>pddance001</td><td>PD</td><td>tango</td><td>right</td><td>hip_flexion     </td><td>0.33044038</td><td>2</td></tr>\n",
       "</tbody>\n",
       "</table>\n"
      ],
      "text/latex": [
       "A grouped\\_df: 6 × 7\n",
       "\\begin{tabular}{lllllll}\n",
       " id & group & dance\\_group & side & limb\\_move & apen & n()\\\\\n",
       " <chr> & <chr> & <chr> & <chr> & <chr> & <dbl> & <int>\\\\\n",
       "\\hline\n",
       "\t pddance001 & PD & tango & left  & hip\\_abduction    & 0.61697711 & 2\\\\\n",
       "\t pddance001 & PD & tango & left  & hip\\_flexion      & 0.22914278 & 2\\\\\n",
       "\t pddance001 & PD & tango & left  & hip\\_rotation\\_ext & 0.04364859 & 2\\\\\n",
       "\t pddance001 & PD & tango & left  & knee\\_flexion     & 0.11785455 & 2\\\\\n",
       "\t pddance001 & PD & tango & right & hip\\_abduction    & 0.46963949 & 2\\\\\n",
       "\t pddance001 & PD & tango & right & hip\\_flexion      & 0.33044038 & 2\\\\\n",
       "\\end{tabular}\n"
      ],
      "text/markdown": [
       "\n",
       "A grouped_df: 6 × 7\n",
       "\n",
       "| id &lt;chr&gt; | group &lt;chr&gt; | dance_group &lt;chr&gt; | side &lt;chr&gt; | limb_move &lt;chr&gt; | apen &lt;dbl&gt; | n() &lt;int&gt; |\n",
       "|---|---|---|---|---|---|---|\n",
       "| pddance001 | PD | tango | left  | hip_abduction    | 0.61697711 | 2 |\n",
       "| pddance001 | PD | tango | left  | hip_flexion      | 0.22914278 | 2 |\n",
       "| pddance001 | PD | tango | left  | hip_rotation_ext | 0.04364859 | 2 |\n",
       "| pddance001 | PD | tango | left  | knee_flexion     | 0.11785455 | 2 |\n",
       "| pddance001 | PD | tango | right | hip_abduction    | 0.46963949 | 2 |\n",
       "| pddance001 | PD | tango | right | hip_flexion      | 0.33044038 | 2 |\n",
       "\n"
      ],
      "text/plain": [
       "  id         group dance_group side  limb_move        apen       n()\n",
       "1 pddance001 PD    tango       left  hip_abduction    0.61697711 2  \n",
       "2 pddance001 PD    tango       left  hip_flexion      0.22914278 2  \n",
       "3 pddance001 PD    tango       left  hip_rotation_ext 0.04364859 2  \n",
       "4 pddance001 PD    tango       left  knee_flexion     0.11785455 2  \n",
       "5 pddance001 PD    tango       right hip_abduction    0.46963949 2  \n",
       "6 pddance001 PD    tango       right hip_flexion      0.33044038 2  "
      ]
     },
     "metadata": {},
     "output_type": "display_data"
    }
   ],
   "source": [
    "df.means <- df %>% group_by(id, group, dance_group, side, limb_move) %>% summarize(apen=mean(apen), n())\n",
    "df.means %>% head"
   ]
  },
  {
   "cell_type": "code",
   "execution_count": 16,
   "id": "7a15397d-8945-4b19-b364-98409ce7a085",
   "metadata": {},
   "outputs": [],
   "source": [
    "df.means <- df.means %>% filter(dance_group=='foxtrot' | dance_group=='tango' | dance_group=='line')"
   ]
  },
  {
   "cell_type": "code",
   "execution_count": 17,
   "id": "7bc73ed1-1670-4d5e-8f91-eda2c8b833a9",
   "metadata": {},
   "outputs": [],
   "source": [
    "pd <- df.means %>% filter(group == 'PD')\n",
    "oa <- df.means %>% filter(group == 'OA')"
   ]
  },
  {
   "cell_type": "markdown",
   "id": "82b9d5fc-c5d0-4053-9864-92ab95914c25",
   "metadata": {},
   "source": [
    "## Assumptions"
   ]
  },
  {
   "cell_type": "markdown",
   "id": "26b6686a-3560-44cb-a688-67c1e03c06d6",
   "metadata": {},
   "source": [
    "Source: [T-test in R at Datanovia](https://www.datanovia.com/en/lessons/t-test-in-r/#assumptions-and-preliminary-tests-1)"
   ]
  },
  {
   "cell_type": "markdown",
   "id": "553a92f2-3064-4f07-92b5-cada892f776b",
   "metadata": {},
   "source": [
    "### Outliers - pd pass, oa fail"
   ]
  },
  {
   "cell_type": "code",
   "execution_count": 18,
   "id": "f18cdd91-860a-4722-a5cd-cdffdd22b3df",
   "metadata": {},
   "outputs": [
    {
     "data": {
      "text/html": [
       "<table class=\"dataframe\">\n",
       "<caption>A tibble: 3 × 9</caption>\n",
       "<thead>\n",
       "\t<tr><th scope=col>side</th><th scope=col>limb_move</th><th scope=col>id</th><th scope=col>group</th><th scope=col>dance_group</th><th scope=col>apen</th><th scope=col>n()</th><th scope=col>is.outlier</th><th scope=col>is.extreme</th></tr>\n",
       "\t<tr><th scope=col>&lt;chr&gt;</th><th scope=col>&lt;chr&gt;</th><th scope=col>&lt;chr&gt;</th><th scope=col>&lt;chr&gt;</th><th scope=col>&lt;chr&gt;</th><th scope=col>&lt;dbl&gt;</th><th scope=col>&lt;int&gt;</th><th scope=col>&lt;lgl&gt;</th><th scope=col>&lt;lgl&gt;</th></tr>\n",
       "</thead>\n",
       "<tbody>\n",
       "\t<tr><td>right</td><td>hip_abduction</td><td>pddance002</td><td>PD</td><td>foxtrot</td><td>0.1665234</td><td>2</td><td>TRUE</td><td>FALSE</td></tr>\n",
       "\t<tr><td>right</td><td>hip_abduction</td><td>pddance007</td><td>PD</td><td>line   </td><td>0.6758345</td><td>1</td><td>TRUE</td><td>FALSE</td></tr>\n",
       "\t<tr><td>left </td><td>hip_flexion  </td><td>pddance005</td><td>PD</td><td>tango  </td><td>0.3782397</td><td>2</td><td>TRUE</td><td>FALSE</td></tr>\n",
       "</tbody>\n",
       "</table>\n"
      ],
      "text/latex": [
       "A tibble: 3 × 9\n",
       "\\begin{tabular}{lllllllll}\n",
       " side & limb\\_move & id & group & dance\\_group & apen & n() & is.outlier & is.extreme\\\\\n",
       " <chr> & <chr> & <chr> & <chr> & <chr> & <dbl> & <int> & <lgl> & <lgl>\\\\\n",
       "\\hline\n",
       "\t right & hip\\_abduction & pddance002 & PD & foxtrot & 0.1665234 & 2 & TRUE & FALSE\\\\\n",
       "\t right & hip\\_abduction & pddance007 & PD & line    & 0.6758345 & 1 & TRUE & FALSE\\\\\n",
       "\t left  & hip\\_flexion   & pddance005 & PD & tango   & 0.3782397 & 2 & TRUE & FALSE\\\\\n",
       "\\end{tabular}\n"
      ],
      "text/markdown": [
       "\n",
       "A tibble: 3 × 9\n",
       "\n",
       "| side &lt;chr&gt; | limb_move &lt;chr&gt; | id &lt;chr&gt; | group &lt;chr&gt; | dance_group &lt;chr&gt; | apen &lt;dbl&gt; | n() &lt;int&gt; | is.outlier &lt;lgl&gt; | is.extreme &lt;lgl&gt; |\n",
       "|---|---|---|---|---|---|---|---|---|\n",
       "| right | hip_abduction | pddance002 | PD | foxtrot | 0.1665234 | 2 | TRUE | FALSE |\n",
       "| right | hip_abduction | pddance007 | PD | line    | 0.6758345 | 1 | TRUE | FALSE |\n",
       "| left  | hip_flexion   | pddance005 | PD | tango   | 0.3782397 | 2 | TRUE | FALSE |\n",
       "\n"
      ],
      "text/plain": [
       "  side  limb_move     id         group dance_group apen      n() is.outlier\n",
       "1 right hip_abduction pddance002 PD    foxtrot     0.1665234 2   TRUE      \n",
       "2 right hip_abduction pddance007 PD    line        0.6758345 1   TRUE      \n",
       "3 left  hip_flexion   pddance005 PD    tango       0.3782397 2   TRUE      \n",
       "  is.extreme\n",
       "1 FALSE     \n",
       "2 FALSE     \n",
       "3 FALSE     "
      ]
     },
     "metadata": {},
     "output_type": "display_data"
    }
   ],
   "source": [
    "pd %>% group_by(limb_move, side) %>% identify_outliers(apen)"
   ]
  },
  {
   "cell_type": "markdown",
   "id": "6918121f-c411-4ca3-99ea-5511648833ba",
   "metadata": {},
   "source": [
    "No extreme outliers"
   ]
  },
  {
   "cell_type": "code",
   "execution_count": 19,
   "id": "c5c47f62-758d-47d7-b596-fa54f61c25f2",
   "metadata": {},
   "outputs": [
    {
     "data": {
      "text/html": [
       "<table class=\"dataframe\">\n",
       "<caption>A tibble: 6 × 9</caption>\n",
       "<thead>\n",
       "\t<tr><th scope=col>side</th><th scope=col>limb_move</th><th scope=col>id</th><th scope=col>group</th><th scope=col>dance_group</th><th scope=col>apen</th><th scope=col>n()</th><th scope=col>is.outlier</th><th scope=col>is.extreme</th></tr>\n",
       "\t<tr><th scope=col>&lt;chr&gt;</th><th scope=col>&lt;chr&gt;</th><th scope=col>&lt;chr&gt;</th><th scope=col>&lt;chr&gt;</th><th scope=col>&lt;chr&gt;</th><th scope=col>&lt;dbl&gt;</th><th scope=col>&lt;int&gt;</th><th scope=col>&lt;lgl&gt;</th><th scope=col>&lt;lgl&gt;</th></tr>\n",
       "</thead>\n",
       "<tbody>\n",
       "\t<tr><td>left </td><td>hip_abduction   </td><td>pddancecon005</td><td>OA</td><td>line</td><td>0.76779445</td><td>2</td><td>TRUE</td><td>FALSE</td></tr>\n",
       "\t<tr><td>right</td><td>hip_abduction   </td><td>pddancecon005</td><td>OA</td><td>line</td><td>0.85432486</td><td>2</td><td>TRUE</td><td> TRUE</td></tr>\n",
       "\t<tr><td>right</td><td>hip_rotation_ext</td><td>pddancecon001</td><td>OA</td><td>line</td><td>0.04403799</td><td>1</td><td>TRUE</td><td>FALSE</td></tr>\n",
       "\t<tr><td>right</td><td>hip_rotation_ext</td><td>pddancecon005</td><td>OA</td><td>line</td><td>0.59728504</td><td>2</td><td>TRUE</td><td> TRUE</td></tr>\n",
       "\t<tr><td>left </td><td>knee_flexion    </td><td>pddancecon001</td><td>OA</td><td>line</td><td>0.07861025</td><td>1</td><td>TRUE</td><td> TRUE</td></tr>\n",
       "\t<tr><td>left </td><td>knee_flexion    </td><td>pddancecon005</td><td>OA</td><td>line</td><td>0.27163057</td><td>2</td><td>TRUE</td><td> TRUE</td></tr>\n",
       "</tbody>\n",
       "</table>\n"
      ],
      "text/latex": [
       "A tibble: 6 × 9\n",
       "\\begin{tabular}{lllllllll}\n",
       " side & limb\\_move & id & group & dance\\_group & apen & n() & is.outlier & is.extreme\\\\\n",
       " <chr> & <chr> & <chr> & <chr> & <chr> & <dbl> & <int> & <lgl> & <lgl>\\\\\n",
       "\\hline\n",
       "\t left  & hip\\_abduction    & pddancecon005 & OA & line & 0.76779445 & 2 & TRUE & FALSE\\\\\n",
       "\t right & hip\\_abduction    & pddancecon005 & OA & line & 0.85432486 & 2 & TRUE &  TRUE\\\\\n",
       "\t right & hip\\_rotation\\_ext & pddancecon001 & OA & line & 0.04403799 & 1 & TRUE & FALSE\\\\\n",
       "\t right & hip\\_rotation\\_ext & pddancecon005 & OA & line & 0.59728504 & 2 & TRUE &  TRUE\\\\\n",
       "\t left  & knee\\_flexion     & pddancecon001 & OA & line & 0.07861025 & 1 & TRUE &  TRUE\\\\\n",
       "\t left  & knee\\_flexion     & pddancecon005 & OA & line & 0.27163057 & 2 & TRUE &  TRUE\\\\\n",
       "\\end{tabular}\n"
      ],
      "text/markdown": [
       "\n",
       "A tibble: 6 × 9\n",
       "\n",
       "| side &lt;chr&gt; | limb_move &lt;chr&gt; | id &lt;chr&gt; | group &lt;chr&gt; | dance_group &lt;chr&gt; | apen &lt;dbl&gt; | n() &lt;int&gt; | is.outlier &lt;lgl&gt; | is.extreme &lt;lgl&gt; |\n",
       "|---|---|---|---|---|---|---|---|---|\n",
       "| left  | hip_abduction    | pddancecon005 | OA | line | 0.76779445 | 2 | TRUE | FALSE |\n",
       "| right | hip_abduction    | pddancecon005 | OA | line | 0.85432486 | 2 | TRUE |  TRUE |\n",
       "| right | hip_rotation_ext | pddancecon001 | OA | line | 0.04403799 | 1 | TRUE | FALSE |\n",
       "| right | hip_rotation_ext | pddancecon005 | OA | line | 0.59728504 | 2 | TRUE |  TRUE |\n",
       "| left  | knee_flexion     | pddancecon001 | OA | line | 0.07861025 | 1 | TRUE |  TRUE |\n",
       "| left  | knee_flexion     | pddancecon005 | OA | line | 0.27163057 | 2 | TRUE |  TRUE |\n",
       "\n"
      ],
      "text/plain": [
       "  side  limb_move        id            group dance_group apen       n()\n",
       "1 left  hip_abduction    pddancecon005 OA    line        0.76779445 2  \n",
       "2 right hip_abduction    pddancecon005 OA    line        0.85432486 2  \n",
       "3 right hip_rotation_ext pddancecon001 OA    line        0.04403799 1  \n",
       "4 right hip_rotation_ext pddancecon005 OA    line        0.59728504 2  \n",
       "5 left  knee_flexion     pddancecon001 OA    line        0.07861025 1  \n",
       "6 left  knee_flexion     pddancecon005 OA    line        0.27163057 2  \n",
       "  is.outlier is.extreme\n",
       "1 TRUE       FALSE     \n",
       "2 TRUE        TRUE     \n",
       "3 TRUE       FALSE     \n",
       "4 TRUE        TRUE     \n",
       "5 TRUE        TRUE     \n",
       "6 TRUE        TRUE     "
      ]
     },
     "metadata": {},
     "output_type": "display_data"
    }
   ],
   "source": [
    "oa %>% group_by(limb_move, side) %>% identify_outliers(apen)"
   ]
  },
  {
   "cell_type": "markdown",
   "id": "56229873-48f7-4cdc-9073-abbab26b7852",
   "metadata": {},
   "source": [
    "4 extreme outliers in right hip abduction and left knee flexion"
   ]
  },
  {
   "cell_type": "markdown",
   "id": "b83696c1-cbdc-435b-97e8-91f65a12ecb9",
   "metadata": {},
   "source": [
    "### Normality - pd pass, oa fail"
   ]
  },
  {
   "cell_type": "code",
   "execution_count": 20,
   "id": "c6340be2-bde1-49c6-9ce7-cbbf640de7ae",
   "metadata": {},
   "outputs": [
    {
     "data": {
      "text/html": [
       "<table class=\"dataframe\">\n",
       "<caption>A tibble: 8 × 5</caption>\n",
       "<thead>\n",
       "\t<tr><th scope=col>side</th><th scope=col>limb_move</th><th scope=col>variable</th><th scope=col>statistic</th><th scope=col>p</th></tr>\n",
       "\t<tr><th scope=col>&lt;chr&gt;</th><th scope=col>&lt;chr&gt;</th><th scope=col>&lt;chr&gt;</th><th scope=col>&lt;dbl&gt;</th><th scope=col>&lt;dbl&gt;</th></tr>\n",
       "</thead>\n",
       "<tbody>\n",
       "\t<tr><td>left </td><td>hip_abduction   </td><td>apen</td><td>0.9366158</td><td>0.5160068</td></tr>\n",
       "\t<tr><td>right</td><td>hip_abduction   </td><td>apen</td><td>0.9346298</td><td>0.4949412</td></tr>\n",
       "\t<tr><td>left </td><td>hip_flexion     </td><td>apen</td><td>0.9339709</td><td>0.4880651</td></tr>\n",
       "\t<tr><td>right</td><td>hip_flexion     </td><td>apen</td><td>0.9144722</td><td>0.3131440</td></tr>\n",
       "\t<tr><td>left </td><td>hip_rotation_ext</td><td>apen</td><td>0.8906992</td><td>0.1726771</td></tr>\n",
       "\t<tr><td>right</td><td>hip_rotation_ext</td><td>apen</td><td>0.9800083</td><td>0.9652125</td></tr>\n",
       "\t<tr><td>left </td><td>knee_flexion    </td><td>apen</td><td>0.9692313</td><td>0.8836277</td></tr>\n",
       "\t<tr><td>right</td><td>knee_flexion    </td><td>apen</td><td>0.9221469</td><td>0.3752095</td></tr>\n",
       "</tbody>\n",
       "</table>\n"
      ],
      "text/latex": [
       "A tibble: 8 × 5\n",
       "\\begin{tabular}{lllll}\n",
       " side & limb\\_move & variable & statistic & p\\\\\n",
       " <chr> & <chr> & <chr> & <dbl> & <dbl>\\\\\n",
       "\\hline\n",
       "\t left  & hip\\_abduction    & apen & 0.9366158 & 0.5160068\\\\\n",
       "\t right & hip\\_abduction    & apen & 0.9346298 & 0.4949412\\\\\n",
       "\t left  & hip\\_flexion      & apen & 0.9339709 & 0.4880651\\\\\n",
       "\t right & hip\\_flexion      & apen & 0.9144722 & 0.3131440\\\\\n",
       "\t left  & hip\\_rotation\\_ext & apen & 0.8906992 & 0.1726771\\\\\n",
       "\t right & hip\\_rotation\\_ext & apen & 0.9800083 & 0.9652125\\\\\n",
       "\t left  & knee\\_flexion     & apen & 0.9692313 & 0.8836277\\\\\n",
       "\t right & knee\\_flexion     & apen & 0.9221469 & 0.3752095\\\\\n",
       "\\end{tabular}\n"
      ],
      "text/markdown": [
       "\n",
       "A tibble: 8 × 5\n",
       "\n",
       "| side &lt;chr&gt; | limb_move &lt;chr&gt; | variable &lt;chr&gt; | statistic &lt;dbl&gt; | p &lt;dbl&gt; |\n",
       "|---|---|---|---|---|\n",
       "| left  | hip_abduction    | apen | 0.9366158 | 0.5160068 |\n",
       "| right | hip_abduction    | apen | 0.9346298 | 0.4949412 |\n",
       "| left  | hip_flexion      | apen | 0.9339709 | 0.4880651 |\n",
       "| right | hip_flexion      | apen | 0.9144722 | 0.3131440 |\n",
       "| left  | hip_rotation_ext | apen | 0.8906992 | 0.1726771 |\n",
       "| right | hip_rotation_ext | apen | 0.9800083 | 0.9652125 |\n",
       "| left  | knee_flexion     | apen | 0.9692313 | 0.8836277 |\n",
       "| right | knee_flexion     | apen | 0.9221469 | 0.3752095 |\n",
       "\n"
      ],
      "text/plain": [
       "  side  limb_move        variable statistic p        \n",
       "1 left  hip_abduction    apen     0.9366158 0.5160068\n",
       "2 right hip_abduction    apen     0.9346298 0.4949412\n",
       "3 left  hip_flexion      apen     0.9339709 0.4880651\n",
       "4 right hip_flexion      apen     0.9144722 0.3131440\n",
       "5 left  hip_rotation_ext apen     0.8906992 0.1726771\n",
       "6 right hip_rotation_ext apen     0.9800083 0.9652125\n",
       "7 left  knee_flexion     apen     0.9692313 0.8836277\n",
       "8 right knee_flexion     apen     0.9221469 0.3752095"
      ]
     },
     "metadata": {},
     "output_type": "display_data"
    }
   ],
   "source": [
    "pd %>% group_by(limb_move, side) %>% shapiro_test(apen)"
   ]
  },
  {
   "cell_type": "markdown",
   "id": "b25886be-0b1d-4614-9ce6-ca4d8e258bc7",
   "metadata": {},
   "source": [
    "Passed"
   ]
  },
  {
   "cell_type": "code",
   "execution_count": 21,
   "id": "64c4345c-b1f7-4d46-8742-a23104fbf22f",
   "metadata": {},
   "outputs": [
    {
     "data": {
      "text/html": [
       "<table class=\"dataframe\">\n",
       "<caption>A tibble: 8 × 5</caption>\n",
       "<thead>\n",
       "\t<tr><th scope=col>side</th><th scope=col>limb_move</th><th scope=col>variable</th><th scope=col>statistic</th><th scope=col>p</th></tr>\n",
       "\t<tr><th scope=col>&lt;chr&gt;</th><th scope=col>&lt;chr&gt;</th><th scope=col>&lt;chr&gt;</th><th scope=col>&lt;dbl&gt;</th><th scope=col>&lt;dbl&gt;</th></tr>\n",
       "</thead>\n",
       "<tbody>\n",
       "\t<tr><td>left </td><td>hip_abduction   </td><td>apen</td><td>0.8986477</td><td>0.40245668</td></tr>\n",
       "\t<tr><td>right</td><td>hip_abduction   </td><td>apen</td><td>0.7471201</td><td>0.02798446</td></tr>\n",
       "\t<tr><td>left </td><td>hip_flexion     </td><td>apen</td><td>0.9302632</td><td>0.59816629</td></tr>\n",
       "\t<tr><td>right</td><td>hip_flexion     </td><td>apen</td><td>0.8690662</td><td>0.26266327</td></tr>\n",
       "\t<tr><td>left </td><td>hip_rotation_ext</td><td>apen</td><td>0.9373628</td><td>0.64735863</td></tr>\n",
       "\t<tr><td>right</td><td>hip_rotation_ext</td><td>apen</td><td>0.7386856</td><td>0.02330439</td></tr>\n",
       "\t<tr><td>left </td><td>knee_flexion    </td><td>apen</td><td>0.9261850</td><td>0.57059624</td></tr>\n",
       "\t<tr><td>right</td><td>knee_flexion    </td><td>apen</td><td>0.9354277</td><td>0.63381976</td></tr>\n",
       "</tbody>\n",
       "</table>\n"
      ],
      "text/latex": [
       "A tibble: 8 × 5\n",
       "\\begin{tabular}{lllll}\n",
       " side & limb\\_move & variable & statistic & p\\\\\n",
       " <chr> & <chr> & <chr> & <dbl> & <dbl>\\\\\n",
       "\\hline\n",
       "\t left  & hip\\_abduction    & apen & 0.8986477 & 0.40245668\\\\\n",
       "\t right & hip\\_abduction    & apen & 0.7471201 & 0.02798446\\\\\n",
       "\t left  & hip\\_flexion      & apen & 0.9302632 & 0.59816629\\\\\n",
       "\t right & hip\\_flexion      & apen & 0.8690662 & 0.26266327\\\\\n",
       "\t left  & hip\\_rotation\\_ext & apen & 0.9373628 & 0.64735863\\\\\n",
       "\t right & hip\\_rotation\\_ext & apen & 0.7386856 & 0.02330439\\\\\n",
       "\t left  & knee\\_flexion     & apen & 0.9261850 & 0.57059624\\\\\n",
       "\t right & knee\\_flexion     & apen & 0.9354277 & 0.63381976\\\\\n",
       "\\end{tabular}\n"
      ],
      "text/markdown": [
       "\n",
       "A tibble: 8 × 5\n",
       "\n",
       "| side &lt;chr&gt; | limb_move &lt;chr&gt; | variable &lt;chr&gt; | statistic &lt;dbl&gt; | p &lt;dbl&gt; |\n",
       "|---|---|---|---|---|\n",
       "| left  | hip_abduction    | apen | 0.8986477 | 0.40245668 |\n",
       "| right | hip_abduction    | apen | 0.7471201 | 0.02798446 |\n",
       "| left  | hip_flexion      | apen | 0.9302632 | 0.59816629 |\n",
       "| right | hip_flexion      | apen | 0.8690662 | 0.26266327 |\n",
       "| left  | hip_rotation_ext | apen | 0.9373628 | 0.64735863 |\n",
       "| right | hip_rotation_ext | apen | 0.7386856 | 0.02330439 |\n",
       "| left  | knee_flexion     | apen | 0.9261850 | 0.57059624 |\n",
       "| right | knee_flexion     | apen | 0.9354277 | 0.63381976 |\n",
       "\n"
      ],
      "text/plain": [
       "  side  limb_move        variable statistic p         \n",
       "1 left  hip_abduction    apen     0.8986477 0.40245668\n",
       "2 right hip_abduction    apen     0.7471201 0.02798446\n",
       "3 left  hip_flexion      apen     0.9302632 0.59816629\n",
       "4 right hip_flexion      apen     0.8690662 0.26266327\n",
       "5 left  hip_rotation_ext apen     0.9373628 0.64735863\n",
       "6 right hip_rotation_ext apen     0.7386856 0.02330439\n",
       "7 left  knee_flexion     apen     0.9261850 0.57059624\n",
       "8 right knee_flexion     apen     0.9354277 0.63381976"
      ]
     },
     "metadata": {},
     "output_type": "display_data"
    }
   ],
   "source": [
    "oa %>% group_by(limb_move, side) %>% shapiro_test(apen)"
   ]
  },
  {
   "cell_type": "markdown",
   "id": "65848b98-3093-466c-a2c3-6353f4c8f96b",
   "metadata": {},
   "source": [
    "Right hip abduction and right hip rotation are not normally distributed"
   ]
  },
  {
   "cell_type": "markdown",
   "id": "c1ff5b34-9df6-4a63-8052-8af25ea031c7",
   "metadata": {},
   "source": [
    "### Equality of variance - passed"
   ]
  },
  {
   "cell_type": "code",
   "execution_count": 22,
   "id": "e995c777-25f0-4f22-a37a-0a2f28a918d4",
   "metadata": {},
   "outputs": [
    {
     "name": "stderr",
     "output_type": "stream",
     "text": [
      "Warning message in leveneTest.default(y = y, group = group, ...):\n",
      "“group coerced to factor.”\n",
      "Warning message in leveneTest.default(y = y, group = group, ...):\n",
      "“group coerced to factor.”\n",
      "Warning message in leveneTest.default(y = y, group = group, ...):\n",
      "“group coerced to factor.”\n",
      "Warning message in leveneTest.default(y = y, group = group, ...):\n",
      "“group coerced to factor.”\n"
     ]
    },
    {
     "data": {
      "text/html": [
       "<table class=\"dataframe\">\n",
       "<caption>A tibble: 4 × 5</caption>\n",
       "<thead>\n",
       "\t<tr><th scope=col>limb_move</th><th scope=col>df1</th><th scope=col>df2</th><th scope=col>statistic</th><th scope=col>p</th></tr>\n",
       "\t<tr><th scope=col>&lt;chr&gt;</th><th scope=col>&lt;int&gt;</th><th scope=col>&lt;int&gt;</th><th scope=col>&lt;dbl&gt;</th><th scope=col>&lt;dbl&gt;</th></tr>\n",
       "</thead>\n",
       "<tbody>\n",
       "\t<tr><td>hip_abduction   </td><td>1</td><td>18</td><td>0.00334934</td><td>0.9544870</td></tr>\n",
       "\t<tr><td>hip_flexion     </td><td>1</td><td>18</td><td>0.09383228</td><td>0.7628755</td></tr>\n",
       "\t<tr><td>hip_rotation_ext</td><td>1</td><td>18</td><td>0.00215126</td><td>0.9635168</td></tr>\n",
       "\t<tr><td>knee_flexion    </td><td>1</td><td>18</td><td>2.74289924</td><td>0.1150159</td></tr>\n",
       "</tbody>\n",
       "</table>\n"
      ],
      "text/latex": [
       "A tibble: 4 × 5\n",
       "\\begin{tabular}{lllll}\n",
       " limb\\_move & df1 & df2 & statistic & p\\\\\n",
       " <chr> & <int> & <int> & <dbl> & <dbl>\\\\\n",
       "\\hline\n",
       "\t hip\\_abduction    & 1 & 18 & 0.00334934 & 0.9544870\\\\\n",
       "\t hip\\_flexion      & 1 & 18 & 0.09383228 & 0.7628755\\\\\n",
       "\t hip\\_rotation\\_ext & 1 & 18 & 0.00215126 & 0.9635168\\\\\n",
       "\t knee\\_flexion     & 1 & 18 & 2.74289924 & 0.1150159\\\\\n",
       "\\end{tabular}\n"
      ],
      "text/markdown": [
       "\n",
       "A tibble: 4 × 5\n",
       "\n",
       "| limb_move &lt;chr&gt; | df1 &lt;int&gt; | df2 &lt;int&gt; | statistic &lt;dbl&gt; | p &lt;dbl&gt; |\n",
       "|---|---|---|---|---|\n",
       "| hip_abduction    | 1 | 18 | 0.00334934 | 0.9544870 |\n",
       "| hip_flexion      | 1 | 18 | 0.09383228 | 0.7628755 |\n",
       "| hip_rotation_ext | 1 | 18 | 0.00215126 | 0.9635168 |\n",
       "| knee_flexion     | 1 | 18 | 2.74289924 | 0.1150159 |\n",
       "\n"
      ],
      "text/plain": [
       "  limb_move        df1 df2 statistic  p        \n",
       "1 hip_abduction    1   18  0.00334934 0.9544870\n",
       "2 hip_flexion      1   18  0.09383228 0.7628755\n",
       "3 hip_rotation_ext 1   18  0.00215126 0.9635168\n",
       "4 knee_flexion     1   18  2.74289924 0.1150159"
      ]
     },
     "metadata": {},
     "output_type": "display_data"
    }
   ],
   "source": [
    "pd %>%  group_by(limb_move) %>% levene_test(apen ~ side)"
   ]
  },
  {
   "cell_type": "markdown",
   "id": "06f3bb5a-c97a-4f1f-a91c-3ddfa8604e52",
   "metadata": {},
   "source": [
    "Passed equality of variance"
   ]
  },
  {
   "cell_type": "code",
   "execution_count": 23,
   "id": "c26765c0-a264-415d-bd97-2903f92feb95",
   "metadata": {},
   "outputs": [
    {
     "name": "stderr",
     "output_type": "stream",
     "text": [
      "Warning message in leveneTest.default(y = y, group = group, ...):\n",
      "“group coerced to factor.”\n",
      "Warning message in leveneTest.default(y = y, group = group, ...):\n",
      "“group coerced to factor.”\n",
      "Warning message in leveneTest.default(y = y, group = group, ...):\n",
      "“group coerced to factor.”\n",
      "Warning message in leveneTest.default(y = y, group = group, ...):\n",
      "“group coerced to factor.”\n"
     ]
    },
    {
     "data": {
      "text/html": [
       "<table class=\"dataframe\">\n",
       "<caption>A tibble: 4 × 5</caption>\n",
       "<thead>\n",
       "\t<tr><th scope=col>limb_move</th><th scope=col>df1</th><th scope=col>df2</th><th scope=col>statistic</th><th scope=col>p</th></tr>\n",
       "\t<tr><th scope=col>&lt;chr&gt;</th><th scope=col>&lt;int&gt;</th><th scope=col>&lt;int&gt;</th><th scope=col>&lt;dbl&gt;</th><th scope=col>&lt;dbl&gt;</th></tr>\n",
       "</thead>\n",
       "<tbody>\n",
       "\t<tr><td>hip_abduction   </td><td>1</td><td>8</td><td>0.0008896456</td><td>0.9769358</td></tr>\n",
       "\t<tr><td>hip_flexion     </td><td>1</td><td>8</td><td>0.6159973344</td><td>0.4551500</td></tr>\n",
       "\t<tr><td>hip_rotation_ext</td><td>1</td><td>8</td><td>0.3397390499</td><td>0.5760367</td></tr>\n",
       "\t<tr><td>knee_flexion    </td><td>1</td><td>8</td><td>0.7948333405</td><td>0.3986628</td></tr>\n",
       "</tbody>\n",
       "</table>\n"
      ],
      "text/latex": [
       "A tibble: 4 × 5\n",
       "\\begin{tabular}{lllll}\n",
       " limb\\_move & df1 & df2 & statistic & p\\\\\n",
       " <chr> & <int> & <int> & <dbl> & <dbl>\\\\\n",
       "\\hline\n",
       "\t hip\\_abduction    & 1 & 8 & 0.0008896456 & 0.9769358\\\\\n",
       "\t hip\\_flexion      & 1 & 8 & 0.6159973344 & 0.4551500\\\\\n",
       "\t hip\\_rotation\\_ext & 1 & 8 & 0.3397390499 & 0.5760367\\\\\n",
       "\t knee\\_flexion     & 1 & 8 & 0.7948333405 & 0.3986628\\\\\n",
       "\\end{tabular}\n"
      ],
      "text/markdown": [
       "\n",
       "A tibble: 4 × 5\n",
       "\n",
       "| limb_move &lt;chr&gt; | df1 &lt;int&gt; | df2 &lt;int&gt; | statistic &lt;dbl&gt; | p &lt;dbl&gt; |\n",
       "|---|---|---|---|---|\n",
       "| hip_abduction    | 1 | 8 | 0.0008896456 | 0.9769358 |\n",
       "| hip_flexion      | 1 | 8 | 0.6159973344 | 0.4551500 |\n",
       "| hip_rotation_ext | 1 | 8 | 0.3397390499 | 0.5760367 |\n",
       "| knee_flexion     | 1 | 8 | 0.7948333405 | 0.3986628 |\n",
       "\n"
      ],
      "text/plain": [
       "  limb_move        df1 df2 statistic    p        \n",
       "1 hip_abduction    1   8   0.0008896456 0.9769358\n",
       "2 hip_flexion      1   8   0.6159973344 0.4551500\n",
       "3 hip_rotation_ext 1   8   0.3397390499 0.5760367\n",
       "4 knee_flexion     1   8   0.7948333405 0.3986628"
      ]
     },
     "metadata": {},
     "output_type": "display_data"
    }
   ],
   "source": [
    "oa %>%  group_by(limb_move) %>% levene_test(apen ~ side)"
   ]
  },
  {
   "cell_type": "markdown",
   "id": "55eee14e-ea2f-4a11-91ee-8f5f65d96387",
   "metadata": {},
   "source": [
    "Passed equality of variance"
   ]
  },
  {
   "cell_type": "markdown",
   "id": "167a6f26-31cd-4b96-986e-053218587b09",
   "metadata": {},
   "source": [
    "### Summary"
   ]
  },
  {
   "cell_type": "markdown",
   "id": "84b61144-5a8f-4b79-a44c-b12024bd56ed",
   "metadata": {},
   "source": [
    "Summary of assumptions for testing left vs right body movement\n",
    "* P = Passed\n",
    "* F = Failed\n",
    "* L = Left\n",
    "* R = Right\n",
    "\n",
    "|                   | Hip Abduction | Hip Flexion | Hip Rotation | Knee Flexion     |\n",
    "| ----------------- | ------------- | ----------- | ------------ | ---------------- |\n",
    "| Normality (PD)    | L: P, R: P    | L: P, R: P  | L: P, R: P   | L: P, R: P       |\n",
    "| Eq. Variance (PD) | P             | P           | P            | P                | \n",
    "| Outliers (PD)     | 0             | 0           | 0            | 0                |\n",
    "| Effect size (PD)  | Moderate      | Large       | Small        | Large            |\n",
    "| ----------------- | ------------- | ----------- | ------------ | ---------------- |\n",
    "| Normality (OA)    | L: P, R: F    | L: P, R: P  | L: P, R: F   | L: P, R: P       |\n",
    "| Eq. Variance (OA) | P             | P           | P            | P                |\n",
    "| Outliers (OA)     | 1 in right    | 0           | 1 in right   | 2 in left        |\n",
    "| Effect size (OA)  | Negligible    | Moderate    | Negligible   | Negligible       |\n",
    "\n"
   ]
  },
  {
   "cell_type": "markdown",
   "id": "8df57e21-0fc5-46e1-98b2-4cfc7ef54114",
   "metadata": {},
   "source": [
    "## Effect size"
   ]
  },
  {
   "cell_type": "code",
   "execution_count": 24,
   "id": "eed5f323-a0df-4f43-8877-8800bedf2e01",
   "metadata": {},
   "outputs": [
    {
     "data": {
      "text/html": [
       "<table class=\"dataframe\">\n",
       "<caption>A rstatix_test: 4 × 8</caption>\n",
       "<thead>\n",
       "\t<tr><th></th><th scope=col>.y.</th><th scope=col>group1</th><th scope=col>group2</th><th scope=col>effsize</th><th scope=col>limb_move</th><th scope=col>n1</th><th scope=col>n2</th><th scope=col>magnitude</th></tr>\n",
       "\t<tr><th></th><th scope=col>&lt;chr&gt;</th><th scope=col>&lt;chr&gt;</th><th scope=col>&lt;chr&gt;</th><th scope=col>&lt;dbl&gt;</th><th scope=col>&lt;chr&gt;</th><th scope=col>&lt;int&gt;</th><th scope=col>&lt;int&gt;</th><th scope=col>&lt;ord&gt;</th></tr>\n",
       "</thead>\n",
       "<tbody>\n",
       "\t<tr><th scope=row>1</th><td>apen</td><td>left</td><td>right</td><td> 0.5181636</td><td>hip_abduction   </td><td>10</td><td>10</td><td>moderate</td></tr>\n",
       "\t<tr><th scope=row>2</th><td>apen</td><td>left</td><td>right</td><td>-0.9374159</td><td>hip_flexion     </td><td>10</td><td>10</td><td>large   </td></tr>\n",
       "\t<tr><th scope=row>3</th><td>apen</td><td>left</td><td>right</td><td>-0.2223113</td><td>hip_rotation_ext</td><td>10</td><td>10</td><td>small   </td></tr>\n",
       "\t<tr><th scope=row>4</th><td>apen</td><td>left</td><td>right</td><td>-1.1963043</td><td>knee_flexion    </td><td>10</td><td>10</td><td>large   </td></tr>\n",
       "</tbody>\n",
       "</table>\n"
      ],
      "text/latex": [
       "A rstatix\\_test: 4 × 8\n",
       "\\begin{tabular}{r|llllllll}\n",
       "  & .y. & group1 & group2 & effsize & limb\\_move & n1 & n2 & magnitude\\\\\n",
       "  & <chr> & <chr> & <chr> & <dbl> & <chr> & <int> & <int> & <ord>\\\\\n",
       "\\hline\n",
       "\t1 & apen & left & right &  0.5181636 & hip\\_abduction    & 10 & 10 & moderate\\\\\n",
       "\t2 & apen & left & right & -0.9374159 & hip\\_flexion      & 10 & 10 & large   \\\\\n",
       "\t3 & apen & left & right & -0.2223113 & hip\\_rotation\\_ext & 10 & 10 & small   \\\\\n",
       "\t4 & apen & left & right & -1.1963043 & knee\\_flexion     & 10 & 10 & large   \\\\\n",
       "\\end{tabular}\n"
      ],
      "text/markdown": [
       "\n",
       "A rstatix_test: 4 × 8\n",
       "\n",
       "| <!--/--> | .y. &lt;chr&gt; | group1 &lt;chr&gt; | group2 &lt;chr&gt; | effsize &lt;dbl&gt; | limb_move &lt;chr&gt; | n1 &lt;int&gt; | n2 &lt;int&gt; | magnitude &lt;ord&gt; |\n",
       "|---|---|---|---|---|---|---|---|---|\n",
       "| 1 | apen | left | right |  0.5181636 | hip_abduction    | 10 | 10 | moderate |\n",
       "| 2 | apen | left | right | -0.9374159 | hip_flexion      | 10 | 10 | large    |\n",
       "| 3 | apen | left | right | -0.2223113 | hip_rotation_ext | 10 | 10 | small    |\n",
       "| 4 | apen | left | right | -1.1963043 | knee_flexion     | 10 | 10 | large    |\n",
       "\n"
      ],
      "text/plain": [
       "  .y.  group1 group2 effsize    limb_move        n1 n2 magnitude\n",
       "1 apen left   right   0.5181636 hip_abduction    10 10 moderate \n",
       "2 apen left   right  -0.9374159 hip_flexion      10 10 large    \n",
       "3 apen left   right  -0.2223113 hip_rotation_ext 10 10 small    \n",
       "4 apen left   right  -1.1963043 knee_flexion     10 10 large    "
      ]
     },
     "metadata": {},
     "output_type": "display_data"
    }
   ],
   "source": [
    "pd %>% group_by(limb_move) %>% cohens_d(apen ~ side, var.equal = TRUE)"
   ]
  },
  {
   "cell_type": "code",
   "execution_count": 25,
   "id": "97050a20-3da9-476e-a355-166c9b217661",
   "metadata": {},
   "outputs": [
    {
     "data": {
      "text/html": [
       "<table class=\"dataframe\">\n",
       "<caption>A rstatix_test: 4 × 8</caption>\n",
       "<thead>\n",
       "\t<tr><th></th><th scope=col>.y.</th><th scope=col>group1</th><th scope=col>group2</th><th scope=col>effsize</th><th scope=col>limb_move</th><th scope=col>n1</th><th scope=col>n2</th><th scope=col>magnitude</th></tr>\n",
       "\t<tr><th></th><th scope=col>&lt;chr&gt;</th><th scope=col>&lt;chr&gt;</th><th scope=col>&lt;chr&gt;</th><th scope=col>&lt;dbl&gt;</th><th scope=col>&lt;chr&gt;</th><th scope=col>&lt;int&gt;</th><th scope=col>&lt;int&gt;</th><th scope=col>&lt;ord&gt;</th></tr>\n",
       "</thead>\n",
       "<tbody>\n",
       "\t<tr><th scope=row>1</th><td>apen</td><td>left</td><td>right</td><td>-0.01146745</td><td>hip_abduction   </td><td>5</td><td>5</td><td>negligible</td></tr>\n",
       "\t<tr><th scope=row>2</th><td>apen</td><td>left</td><td>right</td><td>-0.51814563</td><td>hip_flexion     </td><td>5</td><td>5</td><td>moderate  </td></tr>\n",
       "\t<tr><th scope=row>3</th><td>apen</td><td>left</td><td>right</td><td>-0.15988486</td><td>hip_rotation_ext</td><td>5</td><td>5</td><td>negligible</td></tr>\n",
       "\t<tr><th scope=row>4</th><td>apen</td><td>left</td><td>right</td><td> 0.06154704</td><td>knee_flexion    </td><td>5</td><td>5</td><td>negligible</td></tr>\n",
       "</tbody>\n",
       "</table>\n"
      ],
      "text/latex": [
       "A rstatix\\_test: 4 × 8\n",
       "\\begin{tabular}{r|llllllll}\n",
       "  & .y. & group1 & group2 & effsize & limb\\_move & n1 & n2 & magnitude\\\\\n",
       "  & <chr> & <chr> & <chr> & <dbl> & <chr> & <int> & <int> & <ord>\\\\\n",
       "\\hline\n",
       "\t1 & apen & left & right & -0.01146745 & hip\\_abduction    & 5 & 5 & negligible\\\\\n",
       "\t2 & apen & left & right & -0.51814563 & hip\\_flexion      & 5 & 5 & moderate  \\\\\n",
       "\t3 & apen & left & right & -0.15988486 & hip\\_rotation\\_ext & 5 & 5 & negligible\\\\\n",
       "\t4 & apen & left & right &  0.06154704 & knee\\_flexion     & 5 & 5 & negligible\\\\\n",
       "\\end{tabular}\n"
      ],
      "text/markdown": [
       "\n",
       "A rstatix_test: 4 × 8\n",
       "\n",
       "| <!--/--> | .y. &lt;chr&gt; | group1 &lt;chr&gt; | group2 &lt;chr&gt; | effsize &lt;dbl&gt; | limb_move &lt;chr&gt; | n1 &lt;int&gt; | n2 &lt;int&gt; | magnitude &lt;ord&gt; |\n",
       "|---|---|---|---|---|---|---|---|---|\n",
       "| 1 | apen | left | right | -0.01146745 | hip_abduction    | 5 | 5 | negligible |\n",
       "| 2 | apen | left | right | -0.51814563 | hip_flexion      | 5 | 5 | moderate   |\n",
       "| 3 | apen | left | right | -0.15988486 | hip_rotation_ext | 5 | 5 | negligible |\n",
       "| 4 | apen | left | right |  0.06154704 | knee_flexion     | 5 | 5 | negligible |\n",
       "\n"
      ],
      "text/plain": [
       "  .y.  group1 group2 effsize     limb_move        n1 n2 magnitude \n",
       "1 apen left   right  -0.01146745 hip_abduction    5  5  negligible\n",
       "2 apen left   right  -0.51814563 hip_flexion      5  5  moderate  \n",
       "3 apen left   right  -0.15988486 hip_rotation_ext 5  5  negligible\n",
       "4 apen left   right   0.06154704 knee_flexion     5  5  negligible"
      ]
     },
     "metadata": {},
     "output_type": "display_data"
    }
   ],
   "source": [
    "oa %>% group_by(limb_move) %>% cohens_d(apen ~ side, var.equal = TRUE)"
   ]
  },
  {
   "cell_type": "markdown",
   "id": "4715e143-cd41-4547-beb2-9cd69a5f8b8e",
   "metadata": {},
   "source": [
    "## t test"
   ]
  },
  {
   "cell_type": "code",
   "execution_count": 26,
   "id": "c1fe85b4-fd5f-49f0-a1b4-1f679a298880",
   "metadata": {},
   "outputs": [],
   "source": [
    "df.means2 <- df.means %>% mutate('limb_move' = factor(limb_move))"
   ]
  },
  {
   "cell_type": "code",
   "execution_count": 27,
   "id": "6dd206f8-abeb-4754-a742-7b7955cea796",
   "metadata": {},
   "outputs": [],
   "source": [
    "df.means.l <- df.means %>% filter(side == 'left')\n",
    "df.means.r <- df.means %>% filter(side == 'right')"
   ]
  },
  {
   "cell_type": "code",
   "execution_count": 28,
   "id": "fe04816a-fe84-435a-8701-de276ae24d1e",
   "metadata": {},
   "outputs": [],
   "source": [
    "df.means.l$right <- df.means.r$apen\n",
    "pd <- df.means.l %>% filter(group == 'PD') %>% mutate(left=apen)\n",
    "oa <- df.means.l %>% filter(group == 'OA') %>% mutate(left=apen)"
   ]
  },
  {
   "cell_type": "code",
   "execution_count": 29,
   "id": "dadc3a0f-152a-4210-a364-91b29f164afc",
   "metadata": {
    "tags": []
   },
   "outputs": [
    {
     "data": {
      "text/plain": [
       ": hip_abduction\n",
       "\n",
       "\tTwo Sample t-test\n",
       "\n",
       "data:  x$left and x$right\n",
       "t = 1.1586, df = 18, p-value = 0.2617\n",
       "alternative hypothesis: true difference in means is not equal to 0\n",
       "95 percent confidence interval:\n",
       " -0.05274191  0.18244820\n",
       "sample estimates:\n",
       "mean of x mean of y \n",
       "0.4741398 0.4092866 \n",
       "\n",
       "------------------------------------------------------------ \n",
       ": hip_flexion\n",
       "\n",
       "\tTwo Sample t-test\n",
       "\n",
       "data:  x$left and x$right\n",
       "t = -2.0961, df = 18, p-value = 0.05047\n",
       "alternative hypothesis: true difference in means is not equal to 0\n",
       "95 percent confidence interval:\n",
       " -0.1460232654  0.0001668739\n",
       "sample estimates:\n",
       "mean of x mean of y \n",
       "0.2004674 0.2733956 \n",
       "\n",
       "------------------------------------------------------------ \n",
       ": hip_rotation_ext\n",
       "\n",
       "\tTwo Sample t-test\n",
       "\n",
       "data:  x$left and x$right\n",
       "t = -0.4971, df = 18, p-value = 0.6251\n",
       "alternative hypothesis: true difference in means is not equal to 0\n",
       "95 percent confidence interval:\n",
       " -0.15584612  0.09620728\n",
       "sample estimates:\n",
       "mean of x mean of y \n",
       "0.2167461 0.2465655 \n",
       "\n",
       "------------------------------------------------------------ \n",
       ": knee_flexion\n",
       "\n",
       "\tTwo Sample t-test\n",
       "\n",
       "data:  x$left and x$right\n",
       "t = -2.675, df = 18, p-value = 0.01545\n",
       "alternative hypothesis: true difference in means is not equal to 0\n",
       "95 percent confidence interval:\n",
       " -0.10568638 -0.01270411\n",
       "sample estimates:\n",
       " mean of x  mean of y \n",
       "0.09566475 0.15485999 \n"
      ]
     },
     "metadata": {},
     "output_type": "display_data"
    }
   ],
   "source": [
    "pd.result <- by(pd, list(pd$limb_move), \n",
    "    function(x) t.test(x$left, x$right, mu=0, alt=\"two.sided\",conf.level = 0.95, var.equal=TRUE))\n",
    "pd.result"
   ]
  },
  {
   "cell_type": "code",
   "execution_count": 30,
   "id": "d003406a-76da-4a83-9f70-ea204ac26b63",
   "metadata": {
    "tags": []
   },
   "outputs": [
    {
     "data": {
      "text/plain": [
       ": hip_abduction\n",
       "\n",
       "\tTwo Sample t-test\n",
       "\n",
       "data:  x$left and x$right\n",
       "t = -0.018132, df = 8, p-value = 0.986\n",
       "alternative hypothesis: true difference in means is not equal to 0\n",
       "95 percent confidence interval:\n",
       " -0.3130084  0.3081246\n",
       "sample estimates:\n",
       "mean of x mean of y \n",
       "0.4492987 0.4517406 \n",
       "\n",
       "------------------------------------------------------------ \n",
       ": hip_flexion\n",
       "\n",
       "\tTwo Sample t-test\n",
       "\n",
       "data:  x$left and x$right\n",
       "t = -0.81926, df = 8, p-value = 0.4364\n",
       "alternative hypothesis: true difference in means is not equal to 0\n",
       "95 percent confidence interval:\n",
       " -0.3288288  0.1564297\n",
       "sample estimates:\n",
       "mean of x mean of y \n",
       "0.1161779 0.2023774 \n",
       "\n",
       "------------------------------------------------------------ \n",
       ": hip_rotation_ext\n",
       "\n",
       "\tTwo Sample t-test\n",
       "\n",
       "data:  x$left and x$right\n",
       "t = -0.2528, df = 8, p-value = 0.8068\n",
       "alternative hypothesis: true difference in means is not equal to 0\n",
       "95 percent confidence interval:\n",
       " -0.2726593  0.2187839\n",
       "sample estimates:\n",
       "mean of x mean of y \n",
       "0.1866670 0.2136047 \n",
       "\n",
       "------------------------------------------------------------ \n",
       ": knee_flexion\n",
       "\n",
       "\tTwo Sample t-test\n",
       "\n",
       "data:  x$left and x$right\n",
       "t = 0.097314, df = 8, p-value = 0.9249\n",
       "alternative hypothesis: true difference in means is not equal to 0\n",
       "95 percent confidence interval:\n",
       " -0.1224271  0.1332153\n",
       "sample estimates:\n",
       "mean of x mean of y \n",
       "0.1847619 0.1793678 \n"
      ]
     },
     "metadata": {},
     "output_type": "display_data"
    }
   ],
   "source": [
    "oa.result <- by(oa, list(oa$limb_move), \n",
    "    function(x) t.test(x$left, x$right, mu=0, alt=\"two.sided\",conf.level = 0.95, var.equal=TRUE))\n",
    "oa.result"
   ]
  },
  {
   "cell_type": "markdown",
   "id": "9c98629d-ba8d-4687-be20-707604485c54",
   "metadata": {},
   "source": [
    "__NOTE:__ The `t.test` function (above) is used by `rstatix::stat_compare_means(method=t.test)` to calculate t values with holms adjustment.\n",
    "\n",
    "| PD            | t     | p-value | df    | CI (0.95)     | left.mean | right.mean |\n",
    "| ------------- | ----- | ------- | ----- | ------------- | --------- | ---------- |\n",
    "| Hip Abduction | 1.16  | 0.26    | 17.20 | -0.05, 0.18   | 0.47      | 0.41       |\n",
    "| Hip Flexion   | -2.10 | 0.051   | 17.88 | -0.15, 0.0002 | 0.20      | 0.27       |\n",
    "| Hip Rotation  | -0.50 | 0.63    | 17.99 | -0.16, 0.10   | 0.22      | 0.25       |\n",
    "| Knee Flexion  | -2.68 | 0.02    | 12.49 | -0.11, -0.01  | 0.10      | 0.15           |\n",
    "\n",
    "| OA            | t     | p-value | df   | CI (0.95)   | left.mean | right.mean |\n",
    "| ------------- | ----- | ------- | ---- | ----------- | --------- | ---------- |\n",
    "| Hip Abduction | -0.02 | 0.99    | 7.78 | -0.31, 0.31 | 0.45      | 0.45       |\n",
    "| Hip Flexion   | -0.82 | 0.44    | 5.98 | -0.34, 0.17 | 0.12      | 0.20       |\n",
    "| Hip Rotation  | -0.25 | 0.81    | 5.41 | -0.29, 0.24 | 0.19      | 0.21       |\n",
    "| Knee Flexion  | 0.10  | 0.93    | 7.02 | -0.13, 0.14 | 0.18      | 0.18       |\n"
   ]
  },
  {
   "cell_type": "markdown",
   "id": "bb417490-7991-438e-8cec-a2842c1e6d44",
   "metadata": {},
   "source": [
    "## Graphing"
   ]
  },
  {
   "cell_type": "code",
   "execution_count": 31,
   "id": "b7fab5c5-0a1d-43a4-93af-dfee4b15273f",
   "metadata": {},
   "outputs": [],
   "source": [
    "library(ggpubr)"
   ]
  },
  {
   "cell_type": "code",
   "execution_count": 32,
   "id": "0cc9c876-8ef4-452a-8ae7-202aa0eed491",
   "metadata": {},
   "outputs": [],
   "source": [
    "# symbols to use\n",
    "symnum.list <- list(cutpoints = c(0, 0.0001, 0.001, 0.01, 0.05, 1), symbols = c(\"****\", \"***\", \"**\", \"*\", \"ns\"))\n",
    "\n",
    "# prettier labels\n",
    "limb.labs <- c('Hip Abduction','Hip Flexion','Hip Rotation','Knee Flexion')\n",
    "names(limb.labs) <- c('hip_abduction','hip_flexion','hip_rotation_ext','knee_flexion')"
   ]
  },
  {
   "cell_type": "code",
   "execution_count": 33,
   "id": "33ab03d8-6c47-4231-9063-c5630aa17fbb",
   "metadata": {},
   "outputs": [
    {
     "data": {
      "image/png": "[encoded data removed]",
      "text/plain": [
       "plot without title"
      ]
     },
     "metadata": {
      "image/png": {
       "height": 420,
       "width": 420
      }
     },
     "output_type": "display_data"
    }
   ],
   "source": [
    "p.apen <- df.means %>%\n",
    "    ggplot(aes(x=side,y=apen)) +\n",
    "        facet_grid(rows=vars(group), cols=vars(limb_move), labeller=labeller(limb_move=limb.labs)) +\n",
    "        # ggtitle(\"Left vs Right ApEn of Body Movement in PD and OA\") +\n",
    "        xlab('Side') +\n",
    "        ylab('ApEn') +\n",
    "        geom_boxplot() +\n",
    "        stat_compare_means(method='t.test',symnum.args=symnum.list, \n",
    "                           label=\"p.format\", method.args=list(var.equal=TRUE),\n",
    "                           size=5.5) +\n",
    "        pub_theme(16)\n",
    "p.apen"
   ]
  },
  {
   "cell_type": "code",
   "execution_count": 34,
   "id": "ac6e19be-8ab0-40e1-88a2-46176fe5e1b6",
   "metadata": {},
   "outputs": [],
   "source": [
    "# cowplot::save_plot('figures/joint_entropy_facet.jpeg',p.apen,ncol=2, nrow=2, dpi=1000)"
   ]
  },
  {
   "cell_type": "markdown",
   "id": "a3c77b38-9429-4294-ac99-76b2ff31f67a",
   "metadata": {},
   "source": [
    "__Why is this different from rstatix results?__\n",
    "\n",
    "- Rstatix didn't actually do holms correction, because groupby separated them to independent means\n",
    "- Boxplots in python included some points that were labeled as outliers by the ggpubr\n",
    "- Boxplot whisker in ggpubr was much shorter than in python"
   ]
  },
  {
   "cell_type": "code",
   "execution_count": 35,
   "id": "7204cdb3-9da7-418d-bb48-f1cd107ca8a0",
   "metadata": {},
   "outputs": [
    {
     "data": {
      "text/html": [
       "<style>\n",
       ".list-inline {list-style: none; margin:0; padding: 0}\n",
       ".list-inline>li {display: inline-block}\n",
       ".list-inline>li:not(:last-child)::after {content: \"\\00b7\"; padding: 0 .5ex}\n",
       "</style>\n",
       "<ol class=list-inline><li>'tango'</li><li>'line'</li><li>'foxtrot'</li><li>'waltz'</li></ol>\n"
      ],
      "text/latex": [
       "\\begin{enumerate*}\n",
       "\\item 'tango'\n",
       "\\item 'line'\n",
       "\\item 'foxtrot'\n",
       "\\item 'waltz'\n",
       "\\end{enumerate*}\n"
      ],
      "text/markdown": [
       "1. 'tango'\n",
       "2. 'line'\n",
       "3. 'foxtrot'\n",
       "4. 'waltz'\n",
       "\n",
       "\n"
      ],
      "text/plain": [
       "[1] \"tango\"   \"line\"    \"foxtrot\" \"waltz\"  "
      ]
     },
     "metadata": {},
     "output_type": "display_data"
    }
   ],
   "source": [
    "df$dance_group %>% unique()"
   ]
  },
  {
   "cell_type": "code",
   "execution_count": 36,
   "id": "5e4ea947-6804-46b9-991f-9ee24531f75b",
   "metadata": {},
   "outputs": [],
   "source": [
    "df.new <- df.means %>%\n",
    "    unite(\"dance_side\", c(\"dance_group\",\"side\"), remove=FALSE)"
   ]
  },
  {
   "cell_type": "markdown",
   "id": "ea273eef-8de2-43ac-829a-0a4b495908da",
   "metadata": {},
   "source": [
    "__Nested Facets__\n",
    "\n",
    "https://stackoverflow.com/questions/40316169/nested-facets-in-ggplot2-spanning-groups"
   ]
  },
  {
   "cell_type": "markdown",
   "id": "75200020-8d5b-4e09-a957-fc11f4a084bd",
   "metadata": {},
   "source": [
    "- left side effected most\n",
    "- gender roles in dance movement"
   ]
  },
  {
   "cell_type": "code",
   "execution_count": 37,
   "id": "d1eebc43-a61d-4f08-8caf-41bcca5dce23",
   "metadata": {},
   "outputs": [],
   "source": [
    "library(ggh4x)"
   ]
  },
  {
   "cell_type": "code",
   "execution_count": 38,
   "id": "3c991b28-5c29-45e7-82b0-bb925bba9be8",
   "metadata": {},
   "outputs": [
    {
     "name": "stdout",
     "output_type": "stream",
     "text": [
      "Rows: 120\n",
      "Columns: 8\n",
      "Groups: id, group, dance_group, side [30]\n",
      "$ id          \u001b[3m\u001b[90m<chr>\u001b[39m\u001b[23m \"pddance001\", \"pddance001\", \"pddance001\", \"pddance001\", \"p…\n",
      "$ group       \u001b[3m\u001b[90m<chr>\u001b[39m\u001b[23m \"PD\", \"PD\", \"PD\", \"PD\", \"PD\", \"PD\", \"PD\", \"PD\", \"PD\", \"PD\"…\n",
      "$ dance_side  \u001b[3m\u001b[90m<chr>\u001b[39m\u001b[23m \"tango_left\", \"tango_left\", \"tango_left\", \"tango_left\", \"t…\n",
      "$ dance_group \u001b[3m\u001b[90m<chr>\u001b[39m\u001b[23m \"tango\", \"tango\", \"tango\", \"tango\", \"tango\", \"tango\", \"tan…\n",
      "$ side        \u001b[3m\u001b[90m<chr>\u001b[39m\u001b[23m \"left\", \"left\", \"left\", \"left\", \"right\", \"right\", \"right\",…\n",
      "$ limb_move   \u001b[3m\u001b[90m<chr>\u001b[39m\u001b[23m \"hip_abduction\", \"hip_flexion\", \"hip_rotation_ext\", \"knee_…\n",
      "$ apen        \u001b[3m\u001b[90m<dbl>\u001b[39m\u001b[23m 0.61697711, 0.22914278, 0.04364859, 0.11785455, 0.46963949…\n",
      "$ `n()`       \u001b[3m\u001b[90m<int>\u001b[39m\u001b[23m 2, 2, 2, 2, 2, 2, 2, 2, 2, 2, 2, 2, 2, 2, 2, 2, 1, 1, 1, 1…\n"
     ]
    }
   ],
   "source": [
    "df.new %>% glimpse"
   ]
  },
  {
   "cell_type": "code",
   "execution_count": 39,
   "id": "249fedc6-3b52-4a03-9f34-94e4fd770e7f",
   "metadata": {},
   "outputs": [],
   "source": [
    "dance.labs <- c('Tango','Line','Foxtrot')\n",
    "names(dance.labs) <- c('tango','line','foxtrot')"
   ]
  },
  {
   "cell_type": "code",
   "execution_count": 40,
   "id": "d6a07003-5581-4418-a4e6-47725242bdca",
   "metadata": {},
   "outputs": [
    {
     "data": {
      "image/png": "[encoded data removed]",
      "text/plain": [
       "plot without title"
      ]
     },
     "metadata": {
      "image/png": {
       "height": 420,
       "width": 420
      }
     },
     "output_type": "display_data"
    }
   ],
   "source": [
    "q.nested <- df.new %>%\n",
    "    ggboxplot(x='side', y='apen') +\n",
    "        facet_nested(group ~ dance_group + limb_move, labeller=labeller(limb_move=limb.labs, dance_group=dance.labs)) +\n",
    "        stat_compare_means(comparisons=list(c('left','right'))) +\n",
    "        # theme(axis.text.x = element_text(angle=45, hjust=1)) +\n",
    "        ggtitle('Left vs Right ApEn of Body Movement by Dance and Group') +\n",
    "        xlab('Side') +\n",
    "        ylab('ApEn') +\n",
    "        pub_theme(11)\n",
    "\n",
    "q.nested"
   ]
  },
  {
   "cell_type": "code",
   "execution_count": 41,
   "id": "c0e31fbe-cf5b-4728-b4e8-bc5b0b51571f",
   "metadata": {},
   "outputs": [
    {
     "data": {
      "text/html": [
       "<table class=\"dataframe\">\n",
       "<caption>A tibble: 16 × 13</caption>\n",
       "<thead>\n",
       "\t<tr><th scope=col>group</th><th scope=col>dance_group</th><th scope=col>side</th><th scope=col>variable</th><th scope=col>n</th><th scope=col>min</th><th scope=col>max</th><th scope=col>median</th><th scope=col>iqr</th><th scope=col>mean</th><th scope=col>sd</th><th scope=col>se</th><th scope=col>ci</th></tr>\n",
       "\t<tr><th scope=col>&lt;chr&gt;</th><th scope=col>&lt;chr&gt;</th><th scope=col>&lt;chr&gt;</th><th scope=col>&lt;chr&gt;</th><th scope=col>&lt;dbl&gt;</th><th scope=col>&lt;dbl&gt;</th><th scope=col>&lt;dbl&gt;</th><th scope=col>&lt;dbl&gt;</th><th scope=col>&lt;dbl&gt;</th><th scope=col>&lt;dbl&gt;</th><th scope=col>&lt;dbl&gt;</th><th scope=col>&lt;dbl&gt;</th><th scope=col>&lt;dbl&gt;</th></tr>\n",
       "</thead>\n",
       "<tbody>\n",
       "\t<tr><td>OA</td><td>foxtrot</td><td>left </td><td>apen</td><td> 8</td><td>0.066</td><td>0.451</td><td>0.179</td><td>0.186</td><td>0.232</td><td>0.134</td><td>0.047</td><td>0.112</td></tr>\n",
       "\t<tr><td>OA</td><td>foxtrot</td><td>right</td><td>apen</td><td> 8</td><td>0.004</td><td>0.505</td><td>0.240</td><td>0.240</td><td>0.226</td><td>0.175</td><td>0.062</td><td>0.146</td></tr>\n",
       "\t<tr><td>OA</td><td>line   </td><td>left </td><td>apen</td><td>12</td><td>0.031</td><td>0.803</td><td>0.279</td><td>0.203</td><td>0.319</td><td>0.247</td><td>0.071</td><td>0.157</td></tr>\n",
       "\t<tr><td>OA</td><td>line   </td><td>right</td><td>apen</td><td>12</td><td>0.044</td><td>0.938</td><td>0.465</td><td>0.400</td><td>0.429</td><td>0.286</td><td>0.083</td><td>0.182</td></tr>\n",
       "\t<tr><td>OA</td><td>tango  </td><td>left </td><td>apen</td><td>16</td><td>0.012</td><td>0.345</td><td>0.195</td><td>0.053</td><td>0.190</td><td>0.079</td><td>0.020</td><td>0.042</td></tr>\n",
       "\t<tr><td>OA</td><td>tango  </td><td>right</td><td>apen</td><td>16</td><td>0.016</td><td>0.595</td><td>0.168</td><td>0.130</td><td>0.183</td><td>0.134</td><td>0.034</td><td>0.071</td></tr>\n",
       "\t<tr><td>OA</td><td>waltz  </td><td>left </td><td>apen</td><td>12</td><td>0.000</td><td>0.810</td><td>0.260</td><td>0.277</td><td>0.294</td><td>0.241</td><td>0.070</td><td>0.153</td></tr>\n",
       "\t<tr><td>OA</td><td>waltz  </td><td>right</td><td>apen</td><td>12</td><td>0.005</td><td>0.505</td><td>0.293</td><td>0.163</td><td>0.261</td><td>0.149</td><td>0.043</td><td>0.094</td></tr>\n",
       "\t<tr><td>PD</td><td>foxtrot</td><td>left </td><td>apen</td><td>16</td><td>0.067</td><td>0.525</td><td>0.226</td><td>0.306</td><td>0.264</td><td>0.165</td><td>0.041</td><td>0.088</td></tr>\n",
       "\t<tr><td>PD</td><td>foxtrot</td><td>right</td><td>apen</td><td>16</td><td>0.052</td><td>0.530</td><td>0.283</td><td>0.259</td><td>0.292</td><td>0.160</td><td>0.040</td><td>0.085</td></tr>\n",
       "\t<tr><td>PD</td><td>line   </td><td>left </td><td>apen</td><td> 8</td><td>0.072</td><td>0.610</td><td>0.269</td><td>0.286</td><td>0.276</td><td>0.193</td><td>0.068</td><td>0.161</td></tr>\n",
       "\t<tr><td>PD</td><td>line   </td><td>right</td><td>apen</td><td> 8</td><td>0.050</td><td>0.676</td><td>0.259</td><td>0.336</td><td>0.298</td><td>0.216</td><td>0.077</td><td>0.181</td></tr>\n",
       "\t<tr><td>PD</td><td>tango  </td><td>left </td><td>apen</td><td>52</td><td>0.002</td><td>0.775</td><td>0.154</td><td>0.230</td><td>0.230</td><td>0.192</td><td>0.027</td><td>0.053</td></tr>\n",
       "\t<tr><td>PD</td><td>tango  </td><td>right</td><td>apen</td><td>52</td><td>0.005</td><td>0.533</td><td>0.215</td><td>0.172</td><td>0.249</td><td>0.134</td><td>0.019</td><td>0.037</td></tr>\n",
       "\t<tr><td>PD</td><td>waltz  </td><td>left </td><td>apen</td><td> 4</td><td>0.112</td><td>0.488</td><td>0.334</td><td>0.306</td><td>0.317</td><td>0.193</td><td>0.097</td><td>0.307</td></tr>\n",
       "\t<tr><td>PD</td><td>waltz  </td><td>right</td><td>apen</td><td> 4</td><td>0.102</td><td>0.280</td><td>0.242</td><td>0.075</td><td>0.217</td><td>0.080</td><td>0.040</td><td>0.127</td></tr>\n",
       "</tbody>\n",
       "</table>\n"
      ],
      "text/latex": [
       "A tibble: 16 × 13\n",
       "\\begin{tabular}{lllllllllllll}\n",
       " group & dance\\_group & side & variable & n & min & max & median & iqr & mean & sd & se & ci\\\\\n",
       " <chr> & <chr> & <chr> & <chr> & <dbl> & <dbl> & <dbl> & <dbl> & <dbl> & <dbl> & <dbl> & <dbl> & <dbl>\\\\\n",
       "\\hline\n",
       "\t OA & foxtrot & left  & apen &  8 & 0.066 & 0.451 & 0.179 & 0.186 & 0.232 & 0.134 & 0.047 & 0.112\\\\\n",
       "\t OA & foxtrot & right & apen &  8 & 0.004 & 0.505 & 0.240 & 0.240 & 0.226 & 0.175 & 0.062 & 0.146\\\\\n",
       "\t OA & line    & left  & apen & 12 & 0.031 & 0.803 & 0.279 & 0.203 & 0.319 & 0.247 & 0.071 & 0.157\\\\\n",
       "\t OA & line    & right & apen & 12 & 0.044 & 0.938 & 0.465 & 0.400 & 0.429 & 0.286 & 0.083 & 0.182\\\\\n",
       "\t OA & tango   & left  & apen & 16 & 0.012 & 0.345 & 0.195 & 0.053 & 0.190 & 0.079 & 0.020 & 0.042\\\\\n",
       "\t OA & tango   & right & apen & 16 & 0.016 & 0.595 & 0.168 & 0.130 & 0.183 & 0.134 & 0.034 & 0.071\\\\\n",
       "\t OA & waltz   & left  & apen & 12 & 0.000 & 0.810 & 0.260 & 0.277 & 0.294 & 0.241 & 0.070 & 0.153\\\\\n",
       "\t OA & waltz   & right & apen & 12 & 0.005 & 0.505 & 0.293 & 0.163 & 0.261 & 0.149 & 0.043 & 0.094\\\\\n",
       "\t PD & foxtrot & left  & apen & 16 & 0.067 & 0.525 & 0.226 & 0.306 & 0.264 & 0.165 & 0.041 & 0.088\\\\\n",
       "\t PD & foxtrot & right & apen & 16 & 0.052 & 0.530 & 0.283 & 0.259 & 0.292 & 0.160 & 0.040 & 0.085\\\\\n",
       "\t PD & line    & left  & apen &  8 & 0.072 & 0.610 & 0.269 & 0.286 & 0.276 & 0.193 & 0.068 & 0.161\\\\\n",
       "\t PD & line    & right & apen &  8 & 0.050 & 0.676 & 0.259 & 0.336 & 0.298 & 0.216 & 0.077 & 0.181\\\\\n",
       "\t PD & tango   & left  & apen & 52 & 0.002 & 0.775 & 0.154 & 0.230 & 0.230 & 0.192 & 0.027 & 0.053\\\\\n",
       "\t PD & tango   & right & apen & 52 & 0.005 & 0.533 & 0.215 & 0.172 & 0.249 & 0.134 & 0.019 & 0.037\\\\\n",
       "\t PD & waltz   & left  & apen &  4 & 0.112 & 0.488 & 0.334 & 0.306 & 0.317 & 0.193 & 0.097 & 0.307\\\\\n",
       "\t PD & waltz   & right & apen &  4 & 0.102 & 0.280 & 0.242 & 0.075 & 0.217 & 0.080 & 0.040 & 0.127\\\\\n",
       "\\end{tabular}\n"
      ],
      "text/markdown": [
       "\n",
       "A tibble: 16 × 13\n",
       "\n",
       "| group &lt;chr&gt; | dance_group &lt;chr&gt; | side &lt;chr&gt; | variable &lt;chr&gt; | n &lt;dbl&gt; | min &lt;dbl&gt; | max &lt;dbl&gt; | median &lt;dbl&gt; | iqr &lt;dbl&gt; | mean &lt;dbl&gt; | sd &lt;dbl&gt; | se &lt;dbl&gt; | ci &lt;dbl&gt; |\n",
       "|---|---|---|---|---|---|---|---|---|---|---|---|---|\n",
       "| OA | foxtrot | left  | apen |  8 | 0.066 | 0.451 | 0.179 | 0.186 | 0.232 | 0.134 | 0.047 | 0.112 |\n",
       "| OA | foxtrot | right | apen |  8 | 0.004 | 0.505 | 0.240 | 0.240 | 0.226 | 0.175 | 0.062 | 0.146 |\n",
       "| OA | line    | left  | apen | 12 | 0.031 | 0.803 | 0.279 | 0.203 | 0.319 | 0.247 | 0.071 | 0.157 |\n",
       "| OA | line    | right | apen | 12 | 0.044 | 0.938 | 0.465 | 0.400 | 0.429 | 0.286 | 0.083 | 0.182 |\n",
       "| OA | tango   | left  | apen | 16 | 0.012 | 0.345 | 0.195 | 0.053 | 0.190 | 0.079 | 0.020 | 0.042 |\n",
       "| OA | tango   | right | apen | 16 | 0.016 | 0.595 | 0.168 | 0.130 | 0.183 | 0.134 | 0.034 | 0.071 |\n",
       "| OA | waltz   | left  | apen | 12 | 0.000 | 0.810 | 0.260 | 0.277 | 0.294 | 0.241 | 0.070 | 0.153 |\n",
       "| OA | waltz   | right | apen | 12 | 0.005 | 0.505 | 0.293 | 0.163 | 0.261 | 0.149 | 0.043 | 0.094 |\n",
       "| PD | foxtrot | left  | apen | 16 | 0.067 | 0.525 | 0.226 | 0.306 | 0.264 | 0.165 | 0.041 | 0.088 |\n",
       "| PD | foxtrot | right | apen | 16 | 0.052 | 0.530 | 0.283 | 0.259 | 0.292 | 0.160 | 0.040 | 0.085 |\n",
       "| PD | line    | left  | apen |  8 | 0.072 | 0.610 | 0.269 | 0.286 | 0.276 | 0.193 | 0.068 | 0.161 |\n",
       "| PD | line    | right | apen |  8 | 0.050 | 0.676 | 0.259 | 0.336 | 0.298 | 0.216 | 0.077 | 0.181 |\n",
       "| PD | tango   | left  | apen | 52 | 0.002 | 0.775 | 0.154 | 0.230 | 0.230 | 0.192 | 0.027 | 0.053 |\n",
       "| PD | tango   | right | apen | 52 | 0.005 | 0.533 | 0.215 | 0.172 | 0.249 | 0.134 | 0.019 | 0.037 |\n",
       "| PD | waltz   | left  | apen |  4 | 0.112 | 0.488 | 0.334 | 0.306 | 0.317 | 0.193 | 0.097 | 0.307 |\n",
       "| PD | waltz   | right | apen |  4 | 0.102 | 0.280 | 0.242 | 0.075 | 0.217 | 0.080 | 0.040 | 0.127 |\n",
       "\n"
      ],
      "text/plain": [
       "   group dance_group side  variable n  min   max   median iqr   mean  sd   \n",
       "1  OA    foxtrot     left  apen      8 0.066 0.451 0.179  0.186 0.232 0.134\n",
       "2  OA    foxtrot     right apen      8 0.004 0.505 0.240  0.240 0.226 0.175\n",
       "3  OA    line        left  apen     12 0.031 0.803 0.279  0.203 0.319 0.247\n",
       "4  OA    line        right apen     12 0.044 0.938 0.465  0.400 0.429 0.286\n",
       "5  OA    tango       left  apen     16 0.012 0.345 0.195  0.053 0.190 0.079\n",
       "6  OA    tango       right apen     16 0.016 0.595 0.168  0.130 0.183 0.134\n",
       "7  OA    waltz       left  apen     12 0.000 0.810 0.260  0.277 0.294 0.241\n",
       "8  OA    waltz       right apen     12 0.005 0.505 0.293  0.163 0.261 0.149\n",
       "9  PD    foxtrot     left  apen     16 0.067 0.525 0.226  0.306 0.264 0.165\n",
       "10 PD    foxtrot     right apen     16 0.052 0.530 0.283  0.259 0.292 0.160\n",
       "11 PD    line        left  apen      8 0.072 0.610 0.269  0.286 0.276 0.193\n",
       "12 PD    line        right apen      8 0.050 0.676 0.259  0.336 0.298 0.216\n",
       "13 PD    tango       left  apen     52 0.002 0.775 0.154  0.230 0.230 0.192\n",
       "14 PD    tango       right apen     52 0.005 0.533 0.215  0.172 0.249 0.134\n",
       "15 PD    waltz       left  apen      4 0.112 0.488 0.334  0.306 0.317 0.193\n",
       "16 PD    waltz       right apen      4 0.102 0.280 0.242  0.075 0.217 0.080\n",
       "   se    ci   \n",
       "1  0.047 0.112\n",
       "2  0.062 0.146\n",
       "3  0.071 0.157\n",
       "4  0.083 0.182\n",
       "5  0.020 0.042\n",
       "6  0.034 0.071\n",
       "7  0.070 0.153\n",
       "8  0.043 0.094\n",
       "9  0.041 0.088\n",
       "10 0.040 0.085\n",
       "11 0.068 0.161\n",
       "12 0.077 0.181\n",
       "13 0.027 0.053\n",
       "14 0.019 0.037\n",
       "15 0.097 0.307\n",
       "16 0.040 0.127"
      ]
     },
     "metadata": {},
     "output_type": "display_data"
    }
   ],
   "source": [
    "df %>% \n",
    "    group_by(group, dance_group, side) %>%\n",
    "    get_summary_stats(apen, type='common')"
   ]
  },
  {
   "cell_type": "code",
   "execution_count": 42,
   "id": "bbd0988a-49d2-46df-aa3b-f6f7780a6318",
   "metadata": {},
   "outputs": [
    {
     "data": {
      "text/html": [
       "<table class=\"dataframe\">\n",
       "<caption>A rstatix_test: 8 × 12</caption>\n",
       "<thead>\n",
       "\t<tr><th></th><th scope=col>group</th><th scope=col>limb_move</th><th scope=col>.y.</th><th scope=col>group1</th><th scope=col>group2</th><th scope=col>n1</th><th scope=col>n2</th><th scope=col>statistic</th><th scope=col>df</th><th scope=col>p</th><th scope=col>p.adj</th><th scope=col>p.adj.signif</th></tr>\n",
       "\t<tr><th></th><th scope=col>&lt;chr&gt;</th><th scope=col>&lt;chr&gt;</th><th scope=col>&lt;chr&gt;</th><th scope=col>&lt;chr&gt;</th><th scope=col>&lt;chr&gt;</th><th scope=col>&lt;int&gt;</th><th scope=col>&lt;int&gt;</th><th scope=col>&lt;dbl&gt;</th><th scope=col>&lt;dbl&gt;</th><th scope=col>&lt;dbl&gt;</th><th scope=col>&lt;dbl&gt;</th><th scope=col>&lt;chr&gt;</th></tr>\n",
       "</thead>\n",
       "<tbody>\n",
       "\t<tr><th scope=row>1</th><td>OA</td><td>hip_abduction   </td><td>apen</td><td>left</td><td>right</td><td>12</td><td>12</td><td>-0.1544346</td><td>20.91932</td><td>0.879000</td><td>1.000000</td><td>ns</td></tr>\n",
       "\t<tr><th scope=row>2</th><td>OA</td><td>hip_flexion     </td><td>apen</td><td>left</td><td>right</td><td>12</td><td>12</td><td>-1.3751626</td><td>16.07483</td><td>0.188000</td><td>1.000000</td><td>ns</td></tr>\n",
       "\t<tr><th scope=row>3</th><td>OA</td><td>hip_rotation_ext</td><td>apen</td><td>left</td><td>right</td><td>12</td><td>12</td><td>-0.6385427</td><td>17.19168</td><td>0.532000</td><td>1.000000</td><td>ns</td></tr>\n",
       "\t<tr><th scope=row>4</th><td>OA</td><td>knee_flexion    </td><td>apen</td><td>left</td><td>right</td><td>12</td><td>12</td><td> 1.1413227</td><td>16.76037</td><td>0.270000</td><td>1.000000</td><td>ns</td></tr>\n",
       "\t<tr><th scope=row>5</th><td>PD</td><td>hip_abduction   </td><td>apen</td><td>left</td><td>right</td><td>20</td><td>20</td><td> 2.1038222</td><td>37.98466</td><td>0.042100</td><td>0.336800</td><td>ns</td></tr>\n",
       "\t<tr><th scope=row>6</th><td>PD</td><td>hip_flexion     </td><td>apen</td><td>left</td><td>right</td><td>20</td><td>20</td><td>-2.0098841</td><td>37.88143</td><td>0.051600</td><td>0.412800</td><td>ns</td></tr>\n",
       "\t<tr><th scope=row>7</th><td>PD</td><td>hip_rotation_ext</td><td>apen</td><td>left</td><td>right</td><td>20</td><td>20</td><td>-0.3311336</td><td>37.86766</td><td>0.742000</td><td>1.000000</td><td>ns</td></tr>\n",
       "\t<tr><th scope=row>8</th><td>PD</td><td>knee_flexion    </td><td>apen</td><td>left</td><td>right</td><td>20</td><td>20</td><td>-3.6823123</td><td>30.29817</td><td>0.000897</td><td>0.007176</td><td>**</td></tr>\n",
       "</tbody>\n",
       "</table>\n"
      ],
      "text/latex": [
       "A rstatix\\_test: 8 × 12\n",
       "\\begin{tabular}{r|llllllllllll}\n",
       "  & group & limb\\_move & .y. & group1 & group2 & n1 & n2 & statistic & df & p & p.adj & p.adj.signif\\\\\n",
       "  & <chr> & <chr> & <chr> & <chr> & <chr> & <int> & <int> & <dbl> & <dbl> & <dbl> & <dbl> & <chr>\\\\\n",
       "\\hline\n",
       "\t1 & OA & hip\\_abduction    & apen & left & right & 12 & 12 & -0.1544346 & 20.91932 & 0.879000 & 1.000000 & ns\\\\\n",
       "\t2 & OA & hip\\_flexion      & apen & left & right & 12 & 12 & -1.3751626 & 16.07483 & 0.188000 & 1.000000 & ns\\\\\n",
       "\t3 & OA & hip\\_rotation\\_ext & apen & left & right & 12 & 12 & -0.6385427 & 17.19168 & 0.532000 & 1.000000 & ns\\\\\n",
       "\t4 & OA & knee\\_flexion     & apen & left & right & 12 & 12 &  1.1413227 & 16.76037 & 0.270000 & 1.000000 & ns\\\\\n",
       "\t5 & PD & hip\\_abduction    & apen & left & right & 20 & 20 &  2.1038222 & 37.98466 & 0.042100 & 0.336800 & ns\\\\\n",
       "\t6 & PD & hip\\_flexion      & apen & left & right & 20 & 20 & -2.0098841 & 37.88143 & 0.051600 & 0.412800 & ns\\\\\n",
       "\t7 & PD & hip\\_rotation\\_ext & apen & left & right & 20 & 20 & -0.3311336 & 37.86766 & 0.742000 & 1.000000 & ns\\\\\n",
       "\t8 & PD & knee\\_flexion     & apen & left & right & 20 & 20 & -3.6823123 & 30.29817 & 0.000897 & 0.007176 & **\\\\\n",
       "\\end{tabular}\n"
      ],
      "text/markdown": [
       "\n",
       "A rstatix_test: 8 × 12\n",
       "\n",
       "| <!--/--> | group &lt;chr&gt; | limb_move &lt;chr&gt; | .y. &lt;chr&gt; | group1 &lt;chr&gt; | group2 &lt;chr&gt; | n1 &lt;int&gt; | n2 &lt;int&gt; | statistic &lt;dbl&gt; | df &lt;dbl&gt; | p &lt;dbl&gt; | p.adj &lt;dbl&gt; | p.adj.signif &lt;chr&gt; |\n",
       "|---|---|---|---|---|---|---|---|---|---|---|---|---|\n",
       "| 1 | OA | hip_abduction    | apen | left | right | 12 | 12 | -0.1544346 | 20.91932 | 0.879000 | 1.000000 | ns |\n",
       "| 2 | OA | hip_flexion      | apen | left | right | 12 | 12 | -1.3751626 | 16.07483 | 0.188000 | 1.000000 | ns |\n",
       "| 3 | OA | hip_rotation_ext | apen | left | right | 12 | 12 | -0.6385427 | 17.19168 | 0.532000 | 1.000000 | ns |\n",
       "| 4 | OA | knee_flexion     | apen | left | right | 12 | 12 |  1.1413227 | 16.76037 | 0.270000 | 1.000000 | ns |\n",
       "| 5 | PD | hip_abduction    | apen | left | right | 20 | 20 |  2.1038222 | 37.98466 | 0.042100 | 0.336800 | ns |\n",
       "| 6 | PD | hip_flexion      | apen | left | right | 20 | 20 | -2.0098841 | 37.88143 | 0.051600 | 0.412800 | ns |\n",
       "| 7 | PD | hip_rotation_ext | apen | left | right | 20 | 20 | -0.3311336 | 37.86766 | 0.742000 | 1.000000 | ns |\n",
       "| 8 | PD | knee_flexion     | apen | left | right | 20 | 20 | -3.6823123 | 30.29817 | 0.000897 | 0.007176 | ** |\n",
       "\n"
      ],
      "text/plain": [
       "  group limb_move        .y.  group1 group2 n1 n2 statistic  df       p       \n",
       "1 OA    hip_abduction    apen left   right  12 12 -0.1544346 20.91932 0.879000\n",
       "2 OA    hip_flexion      apen left   right  12 12 -1.3751626 16.07483 0.188000\n",
       "3 OA    hip_rotation_ext apen left   right  12 12 -0.6385427 17.19168 0.532000\n",
       "4 OA    knee_flexion     apen left   right  12 12  1.1413227 16.76037 0.270000\n",
       "5 PD    hip_abduction    apen left   right  20 20  2.1038222 37.98466 0.042100\n",
       "6 PD    hip_flexion      apen left   right  20 20 -2.0098841 37.88143 0.051600\n",
       "7 PD    hip_rotation_ext apen left   right  20 20 -0.3311336 37.86766 0.742000\n",
       "8 PD    knee_flexion     apen left   right  20 20 -3.6823123 30.29817 0.000897\n",
       "  p.adj    p.adj.signif\n",
       "1 1.000000 ns          \n",
       "2 1.000000 ns          \n",
       "3 1.000000 ns          \n",
       "4 1.000000 ns          \n",
       "5 0.336800 ns          \n",
       "6 0.412800 ns          \n",
       "7 1.000000 ns          \n",
       "8 0.007176 **          "
      ]
     },
     "metadata": {},
     "output_type": "display_data"
    }
   ],
   "source": [
    "stat.test <- df %>%\n",
    "    group_by(group, limb_move) %>%\n",
    "    t_test(apen ~ side) %>%\n",
    "    adjust_pvalue(method=\"bonferroni\") %>%\n",
    "    add_significance()\n",
    "stat.test"
   ]
  },
  {
   "cell_type": "code",
   "execution_count": 43,
   "id": "9f4541d5-15fa-46a1-b827-d81f5e669cc8",
   "metadata": {},
   "outputs": [],
   "source": [
    "# add xy positions for graphing\n",
    "stat.test <- stat.test %>% add_xy_position(x='side')"
   ]
  },
  {
   "cell_type": "code",
   "execution_count": 44,
   "id": "b3ddca62-d418-4c2a-9c34-125190b51019",
   "metadata": {},
   "outputs": [
    {
     "data": {
      "image/png": "[encoded data removed]",
      "text/plain": [
       "plot without title"
      ]
     },
     "metadata": {
      "image/png": {
       "height": 420,
       "width": 420
      }
     },
     "output_type": "display_data"
    }
   ],
   "source": [
    "bxp <- ggboxplot(df, x = \"side\", y = \"apen\", facet.by=c(\"group\",'limb_move')) +\n",
    "        rotate_x_text(angle=60) +\n",
    "        stat_pvalue_manual(stat.test, label='{p.adj}{p.adj.signif}')\n",
    "bxp"
   ]
  },
  {
   "cell_type": "markdown",
   "id": "86048ddd-c478-44ee-bdce-bc7a235cab9e",
   "metadata": {
    "tags": []
   },
   "source": [
    "# Tau"
   ]
  },
  {
   "cell_type": "code",
   "execution_count": 45,
   "id": "b1f3c471-0e4f-46c8-a02d-92c2d619611d",
   "metadata": {},
   "outputs": [],
   "source": [
    "tau <- read.csv('data_formatted/tau_values.csv')"
   ]
  },
  {
   "cell_type": "code",
   "execution_count": 46,
   "id": "83ac5be6-2710-4971-96df-99876607fe63",
   "metadata": {},
   "outputs": [],
   "source": [
    "library(ggpubr)"
   ]
  },
  {
   "cell_type": "code",
   "execution_count": 47,
   "id": "a19aca4c-6c35-4da8-b5eb-aec632c2e035",
   "metadata": {},
   "outputs": [
    {
     "data": {
      "image/png": "[encoded data removed]",
      "text/plain": [
       "plot without title"
      ]
     },
     "metadata": {
      "image/png": {
       "height": 420,
       "width": 420
      }
     },
     "output_type": "display_data"
    }
   ],
   "source": [
    "ggboxplot(tau, x='dance_group',y='lag')"
   ]
  },
  {
   "cell_type": "code",
   "execution_count": 48,
   "id": "f5aafee3-c4f1-4869-a206-6488dbf154c5",
   "metadata": {},
   "outputs": [],
   "source": [
    "#tau <- tau %>% mutate(dance_group = factor(dance_group))"
   ]
  },
  {
   "cell_type": "code",
   "execution_count": 49,
   "id": "09685f0c-68b9-4506-a752-17e2142bfd57",
   "metadata": {},
   "outputs": [
    {
     "name": "stderr",
     "output_type": "stream",
     "text": [
      "`summarise()` has grouped output by 'id'. You can override using the `.groups` argument.\n",
      "\n"
     ]
    }
   ],
   "source": [
    "tau.mean <- tau%>% group_by(id, dance_group) %>% summarize(avg_lag = mean(lag), avg_acf = mean(acf))"
   ]
  },
  {
   "cell_type": "code",
   "execution_count": 91,
   "id": "e73c02fc-43ef-482e-83ef-628ac0472422",
   "metadata": {},
   "outputs": [],
   "source": [
    "cat_group <- function(my_id){\n",
    "    if(grepl('cecon',my_id)){\n",
    "        return('OA')\n",
    "    }else{\n",
    "        return('PD')\n",
    "    }\n",
    "}"
   ]
  },
  {
   "cell_type": "code",
   "execution_count": 51,
   "id": "541a8cfc-2669-47ee-b9b2-3b6561562e3b",
   "metadata": {},
   "outputs": [],
   "source": [
    "tau.mean$group <- tau.mean %>% pull(id) %>% sapply(cat_group)"
   ]
  },
  {
   "cell_type": "markdown",
   "id": "1969212c-dbce-443d-94fd-915b3e3cd9f5",
   "metadata": {},
   "source": [
    "## Assumptions"
   ]
  },
  {
   "cell_type": "code",
   "execution_count": 52,
   "id": "5cddccc3-268f-41bf-a919-6619bd49b46d",
   "metadata": {},
   "outputs": [],
   "source": [
    "library(rstatix)"
   ]
  },
  {
   "cell_type": "markdown",
   "id": "7b1695b4-1ed6-42b6-b754-da7733c2c6ab",
   "metadata": {},
   "source": [
    "### Outliers - pass"
   ]
  },
  {
   "cell_type": "code",
   "execution_count": 53,
   "id": "4db3195b-e220-4d2c-8601-ee502f796854",
   "metadata": {},
   "outputs": [
    {
     "data": {
      "text/html": [
       "<table class=\"dataframe\">\n",
       "<caption>A data.frame: 0 × 7</caption>\n",
       "<thead>\n",
       "\t<tr><th scope=col>dance_group</th><th scope=col>id</th><th scope=col>avg_lag</th><th scope=col>avg_acf</th><th scope=col>group</th><th scope=col>is.outlier</th><th scope=col>is.extreme</th></tr>\n",
       "\t<tr><th scope=col>&lt;chr&gt;</th><th scope=col>&lt;chr&gt;</th><th scope=col>&lt;dbl&gt;</th><th scope=col>&lt;dbl&gt;</th><th scope=col>&lt;chr&gt;</th><th scope=col>&lt;lgl&gt;</th><th scope=col>&lt;lgl&gt;</th></tr>\n",
       "</thead>\n",
       "<tbody>\n",
       "</tbody>\n",
       "</table>\n"
      ],
      "text/latex": [
       "A data.frame: 0 × 7\n",
       "\\begin{tabular}{lllllll}\n",
       " dance\\_group & id & avg\\_lag & avg\\_acf & group & is.outlier & is.extreme\\\\\n",
       " <chr> & <chr> & <dbl> & <dbl> & <chr> & <lgl> & <lgl>\\\\\n",
       "\\hline\n",
       "\\end{tabular}\n"
      ],
      "text/markdown": [
       "\n",
       "A data.frame: 0 × 7\n",
       "\n",
       "| dance_group &lt;chr&gt; | id &lt;chr&gt; | avg_lag &lt;dbl&gt; | avg_acf &lt;dbl&gt; | group &lt;chr&gt; | is.outlier &lt;lgl&gt; | is.extreme &lt;lgl&gt; |\n",
       "|---|---|---|---|---|---|---|\n",
       "\n"
      ],
      "text/plain": [
       "     dance_group id avg_lag avg_acf group is.outlier is.extreme"
      ]
     },
     "metadata": {},
     "output_type": "display_data"
    }
   ],
   "source": [
    "tau.mean %>% group_by(dance_group) %>% identify_outliers(avg_lag)"
   ]
  },
  {
   "cell_type": "code",
   "execution_count": 54,
   "id": "0eddd5d9-a868-4ab0-b945-96aaed30ae3b",
   "metadata": {},
   "outputs": [
    {
     "data": {
      "text/html": [
       "<table class=\"dataframe\">\n",
       "<caption>A tibble: 1 × 7</caption>\n",
       "<thead>\n",
       "\t<tr><th scope=col>dance_group</th><th scope=col>id</th><th scope=col>avg_lag</th><th scope=col>avg_acf</th><th scope=col>group</th><th scope=col>is.outlier</th><th scope=col>is.extreme</th></tr>\n",
       "\t<tr><th scope=col>&lt;chr&gt;</th><th scope=col>&lt;chr&gt;</th><th scope=col>&lt;dbl&gt;</th><th scope=col>&lt;dbl&gt;</th><th scope=col>&lt;chr&gt;</th><th scope=col>&lt;lgl&gt;</th><th scope=col>&lt;lgl&gt;</th></tr>\n",
       "</thead>\n",
       "<tbody>\n",
       "\t<tr><td>tango</td><td>pddancecon004</td><td>980.5333</td><td>0.0630504</td><td>OA</td><td>TRUE</td><td>FALSE</td></tr>\n",
       "</tbody>\n",
       "</table>\n"
      ],
      "text/latex": [
       "A tibble: 1 × 7\n",
       "\\begin{tabular}{lllllll}\n",
       " dance\\_group & id & avg\\_lag & avg\\_acf & group & is.outlier & is.extreme\\\\\n",
       " <chr> & <chr> & <dbl> & <dbl> & <chr> & <lgl> & <lgl>\\\\\n",
       "\\hline\n",
       "\t tango & pddancecon004 & 980.5333 & 0.0630504 & OA & TRUE & FALSE\\\\\n",
       "\\end{tabular}\n"
      ],
      "text/markdown": [
       "\n",
       "A tibble: 1 × 7\n",
       "\n",
       "| dance_group &lt;chr&gt; | id &lt;chr&gt; | avg_lag &lt;dbl&gt; | avg_acf &lt;dbl&gt; | group &lt;chr&gt; | is.outlier &lt;lgl&gt; | is.extreme &lt;lgl&gt; |\n",
       "|---|---|---|---|---|---|---|\n",
       "| tango | pddancecon004 | 980.5333 | 0.0630504 | OA | TRUE | FALSE |\n",
       "\n"
      ],
      "text/plain": [
       "  dance_group id            avg_lag  avg_acf   group is.outlier is.extreme\n",
       "1 tango       pddancecon004 980.5333 0.0630504 OA    TRUE       FALSE     "
      ]
     },
     "metadata": {},
     "output_type": "display_data"
    }
   ],
   "source": [
    "tau.mean %>% group_by(dance_group) %>% identify_outliers(avg_acf)"
   ]
  },
  {
   "cell_type": "markdown",
   "id": "5be75166-4159-4f7e-bd3c-4cce047d60f5",
   "metadata": {},
   "source": [
    "No extreme outliers"
   ]
  },
  {
   "cell_type": "markdown",
   "id": "0aeae158-6af9-481f-b6e7-e36d217e3803",
   "metadata": {},
   "source": [
    "### Normality - pass"
   ]
  },
  {
   "cell_type": "code",
   "execution_count": 55,
   "id": "98f789bf-d17d-4fb8-a61d-1dafd279144c",
   "metadata": {},
   "outputs": [
    {
     "data": {
      "image/png": "[encoded data removed]",
      "text/plain": [
       "plot without title"
      ]
     },
     "metadata": {
      "image/png": {
       "height": 420,
       "width": 420
      }
     },
     "output_type": "display_data"
    }
   ],
   "source": [
    "ggqqplot(residuals(lm(avg_lag ~ group, data=tau.mean))) +\n",
    "    ggtitle('Residuals of avg_lag vs group')"
   ]
  },
  {
   "cell_type": "code",
   "execution_count": 56,
   "id": "79828f24-6a8d-4925-a493-437c16712b34",
   "metadata": {},
   "outputs": [
    {
     "data": {
      "image/png": "[encoded data removed]",
      "text/plain": [
       "plot without title"
      ]
     },
     "metadata": {
      "image/png": {
       "height": 420,
       "width": 420
      }
     },
     "output_type": "display_data"
    }
   ],
   "source": [
    "ggqqplot(residuals(lm(avg_lag ~ dance_group, data=tau.mean))) +\n",
    "    ggtitle('Residuals of avg_lag vs dance_group')"
   ]
  },
  {
   "cell_type": "markdown",
   "id": "b7569f6c-b577-418b-b59f-b78327a7b1e3",
   "metadata": {},
   "source": [
    "Passes normality assumption"
   ]
  },
  {
   "cell_type": "code",
   "execution_count": 57,
   "id": "36180588-7077-41ac-bb4e-0095b969b2aa",
   "metadata": {},
   "outputs": [
    {
     "data": {
      "image/png": "[encoded data removed]",
      "text/plain": [
       "plot without title"
      ]
     },
     "metadata": {
      "image/png": {
       "height": 420,
       "width": 420
      }
     },
     "output_type": "display_data"
    }
   ],
   "source": [
    "ggqqplot(tau.mean, 'avg_lag', facet.by='group')"
   ]
  },
  {
   "cell_type": "code",
   "execution_count": 58,
   "id": "dbebe792-0dc7-40e3-b9af-d98e9d997e33",
   "metadata": {},
   "outputs": [
    {
     "data": {
      "image/png": "[encoded data removed]",
      "text/plain": [
       "plot without title"
      ]
     },
     "metadata": {
      "image/png": {
       "height": 420,
       "width": 420
      }
     },
     "output_type": "display_data"
    }
   ],
   "source": [
    "ggqqplot(tau.mean, 'avg_lag', facet.by='dance_group')"
   ]
  },
  {
   "cell_type": "markdown",
   "id": "67d8fd31-f2ab-4013-991a-b06489516e2f",
   "metadata": {},
   "source": [
    "Still passes normality assumption"
   ]
  },
  {
   "cell_type": "markdown",
   "id": "ee504f64-0b2a-43b9-a001-664dc92dd910",
   "metadata": {},
   "source": [
    "### Equality of variance"
   ]
  },
  {
   "cell_type": "code",
   "execution_count": 59,
   "id": "11361753-c71a-496b-b569-959577dda50f",
   "metadata": {
    "scrolled": true,
    "tags": []
   },
   "outputs": [
    {
     "data": {
      "image/png": "[encoded data removed]",
      "text/plain": [
       "Plot with title “”"
      ]
     },
     "metadata": {
      "image/png": {
       "height": 420,
       "width": 420
      }
     },
     "output_type": "display_data"
    },
    {
     "data": {
      "image/png": "[encoded data removed]",
      "text/plain": [
       "Plot with title “”"
      ]
     },
     "metadata": {
      "image/png": {
       "height": 420,
       "width": 420
      }
     },
     "output_type": "display_data"
    },
    {
     "data": {
      "image/png": "[encoded data removed]",
      "text/plain": [
       "Plot with title “”"
      ]
     },
     "metadata": {
      "image/png": {
       "height": 420,
       "width": 420
      }
     },
     "output_type": "display_data"
    },
    {
     "data": {
      "image/png": "[encoded data removed]",
      "text/plain": [
       "Plot with title “”"
      ]
     },
     "metadata": {
      "image/png": {
       "height": 420,
       "width": 420
      }
     },
     "output_type": "display_data"
    }
   ],
   "source": [
    "plot(lm(avg_lag ~ group, data=tau.mean))"
   ]
  },
  {
   "cell_type": "markdown",
   "id": "ee2d10e7-670e-44d7-9328-440efef445ec",
   "metadata": {},
   "source": [
    "Passed: Residuals vs Fitted graph shows no obvious pattern"
   ]
  },
  {
   "cell_type": "code",
   "execution_count": 60,
   "id": "c1c5a201-1805-4f15-83b9-2290bf1aab87",
   "metadata": {
    "scrolled": true,
    "tags": []
   },
   "outputs": [
    {
     "data": {
      "image/png": "[encoded data removed]",
      "text/plain": [
       "Plot with title “”"
      ]
     },
     "metadata": {
      "image/png": {
       "height": 420,
       "width": 420
      }
     },
     "output_type": "display_data"
    },
    {
     "data": {
      "image/png": "[encoded data removed]",
      "text/plain": [
       "Plot with title “”"
      ]
     },
     "metadata": {
      "image/png": {
       "height": 420,
       "width": 420
      }
     },
     "output_type": "display_data"
    },
    {
     "data": {
      "image/png": "[encoded data removed]",
      "text/plain": [
       "Plot with title “”"
      ]
     },
     "metadata": {
      "image/png": {
       "height": 420,
       "width": 420
      }
     },
     "output_type": "display_data"
    },
    {
     "data": {
      "image/png": "[encoded data removed]",
      "text/plain": [
       "Plot with title “”"
      ]
     },
     "metadata": {
      "image/png": {
       "height": 420,
       "width": 420
      }
     },
     "output_type": "display_data"
    }
   ],
   "source": [
    "plot(lm(avg_lag ~ dance_group, data=tau.mean))"
   ]
  },
  {
   "cell_type": "markdown",
   "id": "462b8e7f-ce28-407c-8792-540f1a610f8a",
   "metadata": {},
   "source": [
    "Passed: Residuals vs Fitted graph shows no obvious pattern"
   ]
  },
  {
   "cell_type": "markdown",
   "id": "de2b6809-9c23-4452-a5bc-a9edb427aa2a",
   "metadata": {},
   "source": [
    "## ANOVA - dance group"
   ]
  },
  {
   "cell_type": "code",
   "execution_count": 61,
   "id": "bfcf14b1-d140-4fa2-b73d-7ce107821108",
   "metadata": {},
   "outputs": [],
   "source": [
    "pd.tau <- tau.mean %>% filter(group=='PD')\n",
    "oa.tau <- tau.mean %>% filter(group=='OA')"
   ]
  },
  {
   "cell_type": "markdown",
   "id": "c1ff0554-af73-4fa1-b316-9e582d1b23dd",
   "metadata": {},
   "source": [
    "### Tau"
   ]
  },
  {
   "cell_type": "code",
   "execution_count": 62,
   "id": "11c47ab8-b015-4c6e-9a07-4f637e5087a3",
   "metadata": {},
   "outputs": [
    {
     "data": {
      "text/plain": [
       "            Df  Sum Sq Mean Sq F value Pr(>F)\n",
       "dance_group  3  102607   34202   0.219  0.882\n",
       "Residuals   14 2185633  156117               "
      ]
     },
     "metadata": {},
     "output_type": "display_data"
    }
   ],
   "source": [
    "dance.aov <- aov(avg_lag ~ dance_group, data=tau.mean)\n",
    "summary(dance.aov)"
   ]
  },
  {
   "cell_type": "markdown",
   "id": "284713f3-f3de-4499-83c1-7d975c43372b",
   "metadata": {},
   "source": [
    "No significant difference in lag between dance groups. `F(3, 14) = 0.22, p = 0.88`"
   ]
  },
  {
   "cell_type": "code",
   "execution_count": 63,
   "id": "62dfae10-58c5-4f1a-8219-49f3d977b027",
   "metadata": {},
   "outputs": [
    {
     "data": {
      "text/plain": [
       "            Df  Sum Sq Mean Sq F value Pr(>F)\n",
       "dance_group  3  243369   81123   0.347  0.793\n",
       "Residuals    7 1636579  233797               "
      ]
     },
     "metadata": {},
     "output_type": "display_data"
    }
   ],
   "source": [
    "dance.aov <- aov(avg_lag ~ dance_group, data=pd.tau)\n",
    "summary(dance.aov)"
   ]
  },
  {
   "cell_type": "code",
   "execution_count": 64,
   "id": "e17a4402-8b20-48db-9f66-e0dde5a0f054",
   "metadata": {},
   "outputs": [
    {
     "data": {
      "text/plain": [
       "            Df Sum Sq Mean Sq F value Pr(>F)\n",
       "dance_group  3 210304   70101   1.074  0.477\n",
       "Residuals    3 195726   65242               "
      ]
     },
     "metadata": {},
     "output_type": "display_data"
    }
   ],
   "source": [
    "dance.aov <- aov(avg_lag ~ dance_group, data=oa.tau)\n",
    "summary(dance.aov)"
   ]
  },
  {
   "cell_type": "markdown",
   "id": "9329718a-ca66-473a-8447-e919a1e5c127",
   "metadata": {},
   "source": [
    "No significant difference in tau between dance groups for PD `(F(3, 7) = 0.35, p = 0.79)` or OA (`F(3, 3) = 1.07, p = 0.48`)"
   ]
  },
  {
   "cell_type": "markdown",
   "id": "b078c8bf-67fc-42c2-aa2d-30473ba969c0",
   "metadata": {},
   "source": [
    "### ACF"
   ]
  },
  {
   "cell_type": "code",
   "execution_count": 65,
   "id": "7927381d-829c-47c9-9eaa-9cd8784e9b70",
   "metadata": {},
   "outputs": [
    {
     "data": {
      "text/plain": [
       "            Df    Sum Sq   Mean Sq F value Pr(>F)\n",
       "dance_group  3 0.0000123 4.110e-06   0.038  0.989\n",
       "Residuals    7 0.0007552 1.079e-04               "
      ]
     },
     "metadata": {},
     "output_type": "display_data"
    }
   ],
   "source": [
    "dance.aov <- aov(avg_acf ~ dance_group, data=pd.tau)\n",
    "summary(dance.aov)"
   ]
  },
  {
   "cell_type": "code",
   "execution_count": 66,
   "id": "d47cd690-ec85-4b16-a862-71aee53036a6",
   "metadata": {},
   "outputs": [
    {
     "data": {
      "text/plain": [
       "            Df    Sum Sq   Mean Sq F value Pr(>F)\n",
       "dance_group  3 0.0002343 7.811e-05   0.393  0.768\n",
       "Residuals    3 0.0005958 1.986e-04               "
      ]
     },
     "metadata": {},
     "output_type": "display_data"
    }
   ],
   "source": [
    "dance.aov <- aov(avg_acf ~ dance_group, data=oa.tau)\n",
    "summary(dance.aov)"
   ]
  },
  {
   "cell_type": "markdown",
   "id": "1a31bd18-3200-4abb-95b3-c55902440c43",
   "metadata": {},
   "source": [
    "No significant difference in ACF between dance groups for PD `(F(3, 7) = 0.04, p = 0.99)` or OA (`F(3, 3) = 0.39, p = 0.77`)"
   ]
  },
  {
   "cell_type": "markdown",
   "id": "eac7d2f9-f18a-41a0-984f-f120e4edb14a",
   "metadata": {},
   "source": [
    "## t test - pd vs oa"
   ]
  },
  {
   "cell_type": "code",
   "execution_count": 67,
   "id": "25246ffb-60b0-43fe-9fca-41a610011e08",
   "metadata": {},
   "outputs": [
    {
     "data": {
      "text/html": [
       "<table class=\"dataframe\">\n",
       "<caption>A grouped_df: 6 × 5</caption>\n",
       "<thead>\n",
       "\t<tr><th scope=col>id</th><th scope=col>dance_group</th><th scope=col>avg_lag</th><th scope=col>avg_acf</th><th scope=col>group</th></tr>\n",
       "\t<tr><th scope=col>&lt;chr&gt;</th><th scope=col>&lt;chr&gt;</th><th scope=col>&lt;dbl&gt;</th><th scope=col>&lt;dbl&gt;</th><th scope=col>&lt;chr&gt;</th></tr>\n",
       "</thead>\n",
       "<tbody>\n",
       "\t<tr><td>pddance001</td><td>tango  </td><td>792.7000</td><td>0.02547531</td><td>PD</td></tr>\n",
       "\t<tr><td>pddance002</td><td>foxtrot</td><td> 78.4500</td><td>0.02111884</td><td>PD</td></tr>\n",
       "\t<tr><td>pddance002</td><td>line   </td><td>115.2000</td><td>0.01297114</td><td>PD</td></tr>\n",
       "\t<tr><td>pddance002</td><td>tango  </td><td>317.5667</td><td>0.02042861</td><td>PD</td></tr>\n",
       "\t<tr><td>pddance002</td><td>waltz  </td><td>199.9000</td><td>0.02681196</td><td>PD</td></tr>\n",
       "\t<tr><td>pddance003</td><td>tango  </td><td>998.5000</td><td>0.02505717</td><td>PD</td></tr>\n",
       "</tbody>\n",
       "</table>\n"
      ],
      "text/latex": [
       "A grouped\\_df: 6 × 5\n",
       "\\begin{tabular}{lllll}\n",
       " id & dance\\_group & avg\\_lag & avg\\_acf & group\\\\\n",
       " <chr> & <chr> & <dbl> & <dbl> & <chr>\\\\\n",
       "\\hline\n",
       "\t pddance001 & tango   & 792.7000 & 0.02547531 & PD\\\\\n",
       "\t pddance002 & foxtrot &  78.4500 & 0.02111884 & PD\\\\\n",
       "\t pddance002 & line    & 115.2000 & 0.01297114 & PD\\\\\n",
       "\t pddance002 & tango   & 317.5667 & 0.02042861 & PD\\\\\n",
       "\t pddance002 & waltz   & 199.9000 & 0.02681196 & PD\\\\\n",
       "\t pddance003 & tango   & 998.5000 & 0.02505717 & PD\\\\\n",
       "\\end{tabular}\n"
      ],
      "text/markdown": [
       "\n",
       "A grouped_df: 6 × 5\n",
       "\n",
       "| id &lt;chr&gt; | dance_group &lt;chr&gt; | avg_lag &lt;dbl&gt; | avg_acf &lt;dbl&gt; | group &lt;chr&gt; |\n",
       "|---|---|---|---|---|\n",
       "| pddance001 | tango   | 792.7000 | 0.02547531 | PD |\n",
       "| pddance002 | foxtrot |  78.4500 | 0.02111884 | PD |\n",
       "| pddance002 | line    | 115.2000 | 0.01297114 | PD |\n",
       "| pddance002 | tango   | 317.5667 | 0.02042861 | PD |\n",
       "| pddance002 | waltz   | 199.9000 | 0.02681196 | PD |\n",
       "| pddance003 | tango   | 998.5000 | 0.02505717 | PD |\n",
       "\n"
      ],
      "text/plain": [
       "  id         dance_group avg_lag  avg_acf    group\n",
       "1 pddance001 tango       792.7000 0.02547531 PD   \n",
       "2 pddance002 foxtrot      78.4500 0.02111884 PD   \n",
       "3 pddance002 line        115.2000 0.01297114 PD   \n",
       "4 pddance002 tango       317.5667 0.02042861 PD   \n",
       "5 pddance002 waltz       199.9000 0.02681196 PD   \n",
       "6 pddance003 tango       998.5000 0.02505717 PD   "
      ]
     },
     "metadata": {},
     "output_type": "display_data"
    }
   ],
   "source": [
    "tau.mean %>% head"
   ]
  },
  {
   "cell_type": "code",
   "execution_count": 68,
   "id": "7dd55fda-fae7-4919-afba-b8a8f8a5312a",
   "metadata": {},
   "outputs": [
    {
     "data": {
      "text/plain": [
       "\n",
       "\tWelch Two Sample t-test\n",
       "\n",
       "data:  avg_lag by group\n",
       "t = 0.14058, df = 15.987, p-value = 0.89\n",
       "alternative hypothesis: true difference in means is not equal to 0\n",
       "95 percent confidence interval:\n",
       " -323.7967  369.7889\n",
       "sample estimates:\n",
       "mean in group OA mean in group PD \n",
       "        679.9976         657.0015 \n"
      ]
     },
     "metadata": {},
     "output_type": "display_data"
    }
   ],
   "source": [
    "group.t <- t.test(avg_lag ~ group, tau.mean)\n",
    "group.t"
   ]
  },
  {
   "cell_type": "markdown",
   "id": "638c8114-ea75-4359-afce-9809063f838d",
   "metadata": {},
   "source": [
    "No significant difference in lag between groups. `t(15.99) = 0.14, p = 0.89`"
   ]
  },
  {
   "cell_type": "code",
   "execution_count": 69,
   "id": "d0739ccd-edeb-4bd6-bb7e-1b4dc550614b",
   "metadata": {},
   "outputs": [
    {
     "data": {
      "text/plain": [
       "\n",
       "\tWelch Two Sample t-test\n",
       "\n",
       "data:  avg_acf by group\n",
       "t = 3.1822, df = 10.22, p-value = 0.009528\n",
       "alternative hypothesis: true difference in means is not equal to 0\n",
       "95 percent confidence interval:\n",
       " 0.004967252 0.027945214\n",
       "sample estimates:\n",
       "mean in group OA mean in group PD \n",
       "      0.04381738       0.02736114 \n"
      ]
     },
     "metadata": {},
     "output_type": "display_data"
    }
   ],
   "source": [
    "group.t <- t.test(avg_acf ~ group, tau.mean)\n",
    "group.t"
   ]
  },
  {
   "cell_type": "markdown",
   "id": "6f393323-a150-47f1-89f8-d66449b2b9f8",
   "metadata": {},
   "source": [
    "Significant difference in ACF at which tau was found between groups. `t(10.22) = 3.18, p = 0.01`"
   ]
  },
  {
   "cell_type": "markdown",
   "id": "e7c50cbd-574b-48f4-a16f-a6651cb6fa56",
   "metadata": {},
   "source": [
    "# Demographics"
   ]
  },
  {
   "cell_type": "code",
   "execution_count": 70,
   "id": "094c595c-0e42-4161-b3b2-4625563a4b4a",
   "metadata": {},
   "outputs": [
    {
     "data": {
      "text/html": [
       "<table class=\"dataframe\">\n",
       "<caption>A data.frame: 6 × 7</caption>\n",
       "<thead>\n",
       "\t<tr><th></th><th scope=col>id</th><th scope=col>group</th><th scope=col>sex</th><th scope=col>age</th><th scope=col>bmi</th><th scope=col>heightin</th><th scope=col>weightlbs</th></tr>\n",
       "\t<tr><th></th><th scope=col>&lt;chr&gt;</th><th scope=col>&lt;chr&gt;</th><th scope=col>&lt;chr&gt;</th><th scope=col>&lt;dbl&gt;</th><th scope=col>&lt;dbl&gt;</th><th scope=col>&lt;dbl&gt;</th><th scope=col>&lt;dbl&gt;</th></tr>\n",
       "</thead>\n",
       "<tbody>\n",
       "\t<tr><th scope=row>1</th><td>pddancecon001</td><td>control</td><td>female</td><td>68</td><td>26.3</td><td>59</td><td>130</td></tr>\n",
       "\t<tr><th scope=row>2</th><td>pddancecon002</td><td>control</td><td>male  </td><td>75</td><td>20.1</td><td>69</td><td>136</td></tr>\n",
       "\t<tr><th scope=row>3</th><td>pddancecon003</td><td>control</td><td>male  </td><td>71</td><td>24.2</td><td>66</td><td>150</td></tr>\n",
       "\t<tr><th scope=row>4</th><td>pddancecon004</td><td>control</td><td>female</td><td>71</td><td>32.1</td><td>61</td><td>170</td></tr>\n",
       "\t<tr><th scope=row>5</th><td>pddancecon005</td><td>control</td><td>female</td><td>80</td><td>24.0</td><td>64</td><td>140</td></tr>\n",
       "\t<tr><th scope=row>6</th><td>pddance001   </td><td>pd     </td><td>male  </td><td>NA</td><td>  NA</td><td>73</td><td> NA</td></tr>\n",
       "</tbody>\n",
       "</table>\n"
      ],
      "text/latex": [
       "A data.frame: 6 × 7\n",
       "\\begin{tabular}{r|lllllll}\n",
       "  & id & group & sex & age & bmi & heightin & weightlbs\\\\\n",
       "  & <chr> & <chr> & <chr> & <dbl> & <dbl> & <dbl> & <dbl>\\\\\n",
       "\\hline\n",
       "\t1 & pddancecon001 & control & female & 68 & 26.3 & 59 & 130\\\\\n",
       "\t2 & pddancecon002 & control & male   & 75 & 20.1 & 69 & 136\\\\\n",
       "\t3 & pddancecon003 & control & male   & 71 & 24.2 & 66 & 150\\\\\n",
       "\t4 & pddancecon004 & control & female & 71 & 32.1 & 61 & 170\\\\\n",
       "\t5 & pddancecon005 & control & female & 80 & 24.0 & 64 & 140\\\\\n",
       "\t6 & pddance001    & pd      & male   & NA &   NA & 73 &  NA\\\\\n",
       "\\end{tabular}\n"
      ],
      "text/markdown": [
       "\n",
       "A data.frame: 6 × 7\n",
       "\n",
       "| <!--/--> | id &lt;chr&gt; | group &lt;chr&gt; | sex &lt;chr&gt; | age &lt;dbl&gt; | bmi &lt;dbl&gt; | heightin &lt;dbl&gt; | weightlbs &lt;dbl&gt; |\n",
       "|---|---|---|---|---|---|---|---|\n",
       "| 1 | pddancecon001 | control | female | 68 | 26.3 | 59 | 130 |\n",
       "| 2 | pddancecon002 | control | male   | 75 | 20.1 | 69 | 136 |\n",
       "| 3 | pddancecon003 | control | male   | 71 | 24.2 | 66 | 150 |\n",
       "| 4 | pddancecon004 | control | female | 71 | 32.1 | 61 | 170 |\n",
       "| 5 | pddancecon005 | control | female | 80 | 24.0 | 64 | 140 |\n",
       "| 6 | pddance001    | pd      | male   | NA |   NA | 73 |  NA |\n",
       "\n"
      ],
      "text/plain": [
       "  id            group   sex    age bmi  heightin weightlbs\n",
       "1 pddancecon001 control female 68  26.3 59       130      \n",
       "2 pddancecon002 control male   75  20.1 69       136      \n",
       "3 pddancecon003 control male   71  24.2 66       150      \n",
       "4 pddancecon004 control female 71  32.1 61       170      \n",
       "5 pddancecon005 control female 80  24.0 64       140      \n",
       "6 pddance001    pd      male   NA    NA 73        NA      "
      ]
     },
     "metadata": {},
     "output_type": "display_data"
    }
   ],
   "source": [
    "demos <- read.csv('data_formatted/demos_merged.csv')\n",
    "demos %>% head"
   ]
  },
  {
   "cell_type": "markdown",
   "id": "c767a03d-c0be-4b66-922e-a73bc44a6c92",
   "metadata": {},
   "source": [
    "## Assumptions"
   ]
  },
  {
   "cell_type": "markdown",
   "id": "3f649c5d-86f6-405d-93e1-96c8373dc803",
   "metadata": {},
   "source": [
    "Source: [T-test in R at Datanovia](https://www.datanovia.com/en/lessons/t-test-in-r/#assumptions-and-preliminary-tests-1)"
   ]
  },
  {
   "cell_type": "markdown",
   "id": "376483a7-6533-412a-8745-e7455fb31ec0",
   "metadata": {},
   "source": [
    "### Outliers - pass"
   ]
  },
  {
   "cell_type": "code",
   "execution_count": 71,
   "id": "e2ed3bf4-2ea0-4f8b-954e-4bd5a948c867",
   "metadata": {},
   "outputs": [
    {
     "data": {
      "text/html": [
       "<table class=\"dataframe\">\n",
       "<caption>A tibble: 2 × 9</caption>\n",
       "<thead>\n",
       "\t<tr><th scope=col>group</th><th scope=col>id</th><th scope=col>sex</th><th scope=col>age</th><th scope=col>bmi</th><th scope=col>heightin</th><th scope=col>weightlbs</th><th scope=col>is.outlier</th><th scope=col>is.extreme</th></tr>\n",
       "\t<tr><th scope=col>&lt;chr&gt;</th><th scope=col>&lt;chr&gt;</th><th scope=col>&lt;chr&gt;</th><th scope=col>&lt;dbl&gt;</th><th scope=col>&lt;dbl&gt;</th><th scope=col>&lt;dbl&gt;</th><th scope=col>&lt;dbl&gt;</th><th scope=col>&lt;lgl&gt;</th><th scope=col>&lt;lgl&gt;</th></tr>\n",
       "</thead>\n",
       "<tbody>\n",
       "\t<tr><td>control</td><td>pddancecon002</td><td>male  </td><td>75</td><td>20.1</td><td>69</td><td>136</td><td>TRUE</td><td>FALSE</td></tr>\n",
       "\t<tr><td>control</td><td>pddancecon004</td><td>female</td><td>71</td><td>32.1</td><td>61</td><td>170</td><td>TRUE</td><td>FALSE</td></tr>\n",
       "</tbody>\n",
       "</table>\n"
      ],
      "text/latex": [
       "A tibble: 2 × 9\n",
       "\\begin{tabular}{lllllllll}\n",
       " group & id & sex & age & bmi & heightin & weightlbs & is.outlier & is.extreme\\\\\n",
       " <chr> & <chr> & <chr> & <dbl> & <dbl> & <dbl> & <dbl> & <lgl> & <lgl>\\\\\n",
       "\\hline\n",
       "\t control & pddancecon002 & male   & 75 & 20.1 & 69 & 136 & TRUE & FALSE\\\\\n",
       "\t control & pddancecon004 & female & 71 & 32.1 & 61 & 170 & TRUE & FALSE\\\\\n",
       "\\end{tabular}\n"
      ],
      "text/markdown": [
       "\n",
       "A tibble: 2 × 9\n",
       "\n",
       "| group &lt;chr&gt; | id &lt;chr&gt; | sex &lt;chr&gt; | age &lt;dbl&gt; | bmi &lt;dbl&gt; | heightin &lt;dbl&gt; | weightlbs &lt;dbl&gt; | is.outlier &lt;lgl&gt; | is.extreme &lt;lgl&gt; |\n",
       "|---|---|---|---|---|---|---|---|---|\n",
       "| control | pddancecon002 | male   | 75 | 20.1 | 69 | 136 | TRUE | FALSE |\n",
       "| control | pddancecon004 | female | 71 | 32.1 | 61 | 170 | TRUE | FALSE |\n",
       "\n"
      ],
      "text/plain": [
       "  group   id            sex    age bmi  heightin weightlbs is.outlier\n",
       "1 control pddancecon002 male   75  20.1 69       136       TRUE      \n",
       "2 control pddancecon004 female 71  32.1 61       170       TRUE      \n",
       "  is.extreme\n",
       "1 FALSE     \n",
       "2 FALSE     "
      ]
     },
     "metadata": {},
     "output_type": "display_data"
    }
   ],
   "source": [
    "demos %>% group_by(group) %>% identify_outliers(bmi)"
   ]
  },
  {
   "cell_type": "code",
   "execution_count": 72,
   "id": "f3c2816d-7d04-4449-9beb-011ce354064f",
   "metadata": {},
   "outputs": [
    {
     "data": {
      "text/html": [
       "<table class=\"dataframe\">\n",
       "<caption>A data.frame: 0 × 9</caption>\n",
       "<thead>\n",
       "\t<tr><th scope=col>group</th><th scope=col>id</th><th scope=col>sex</th><th scope=col>age</th><th scope=col>bmi</th><th scope=col>heightin</th><th scope=col>weightlbs</th><th scope=col>is.outlier</th><th scope=col>is.extreme</th></tr>\n",
       "\t<tr><th scope=col>&lt;chr&gt;</th><th scope=col>&lt;chr&gt;</th><th scope=col>&lt;chr&gt;</th><th scope=col>&lt;dbl&gt;</th><th scope=col>&lt;dbl&gt;</th><th scope=col>&lt;dbl&gt;</th><th scope=col>&lt;dbl&gt;</th><th scope=col>&lt;lgl&gt;</th><th scope=col>&lt;lgl&gt;</th></tr>\n",
       "</thead>\n",
       "<tbody>\n",
       "</tbody>\n",
       "</table>\n"
      ],
      "text/latex": [
       "A data.frame: 0 × 9\n",
       "\\begin{tabular}{lllllllll}\n",
       " group & id & sex & age & bmi & heightin & weightlbs & is.outlier & is.extreme\\\\\n",
       " <chr> & <chr> & <chr> & <dbl> & <dbl> & <dbl> & <dbl> & <lgl> & <lgl>\\\\\n",
       "\\hline\n",
       "\\end{tabular}\n"
      ],
      "text/markdown": [
       "\n",
       "A data.frame: 0 × 9\n",
       "\n",
       "| group &lt;chr&gt; | id &lt;chr&gt; | sex &lt;chr&gt; | age &lt;dbl&gt; | bmi &lt;dbl&gt; | heightin &lt;dbl&gt; | weightlbs &lt;dbl&gt; | is.outlier &lt;lgl&gt; | is.extreme &lt;lgl&gt; |\n",
       "|---|---|---|---|---|---|---|---|---|\n",
       "\n"
      ],
      "text/plain": [
       "     group id sex age bmi heightin weightlbs is.outlier is.extreme"
      ]
     },
     "metadata": {},
     "output_type": "display_data"
    }
   ],
   "source": [
    "demos %>% group_by(group) %>% identify_outliers(age)"
   ]
  },
  {
   "cell_type": "markdown",
   "id": "6d8c4b40-db22-4d28-810f-59f7bccd1429",
   "metadata": {},
   "source": [
    "No extreme outliers"
   ]
  },
  {
   "cell_type": "markdown",
   "id": "689f0717-a950-4ea0-9df8-dec99e9b1a61",
   "metadata": {},
   "source": [
    "### Normality - pass"
   ]
  },
  {
   "cell_type": "code",
   "execution_count": 73,
   "id": "5bbc4ee6-ec08-400c-9f91-857839b6b0f7",
   "metadata": {},
   "outputs": [
    {
     "data": {
      "text/html": [
       "<table class=\"dataframe\">\n",
       "<caption>A tibble: 2 × 4</caption>\n",
       "<thead>\n",
       "\t<tr><th scope=col>group</th><th scope=col>variable</th><th scope=col>statistic</th><th scope=col>p</th></tr>\n",
       "\t<tr><th scope=col>&lt;chr&gt;</th><th scope=col>&lt;chr&gt;</th><th scope=col>&lt;dbl&gt;</th><th scope=col>&lt;dbl&gt;</th></tr>\n",
       "</thead>\n",
       "<tbody>\n",
       "\t<tr><td>control</td><td>bmi</td><td>0.9430173</td><td>0.6873422</td></tr>\n",
       "\t<tr><td>pd     </td><td>bmi</td><td>0.9423394</td><td>0.6825219</td></tr>\n",
       "</tbody>\n",
       "</table>\n"
      ],
      "text/latex": [
       "A tibble: 2 × 4\n",
       "\\begin{tabular}{llll}\n",
       " group & variable & statistic & p\\\\\n",
       " <chr> & <chr> & <dbl> & <dbl>\\\\\n",
       "\\hline\n",
       "\t control & bmi & 0.9430173 & 0.6873422\\\\\n",
       "\t pd      & bmi & 0.9423394 & 0.6825219\\\\\n",
       "\\end{tabular}\n"
      ],
      "text/markdown": [
       "\n",
       "A tibble: 2 × 4\n",
       "\n",
       "| group &lt;chr&gt; | variable &lt;chr&gt; | statistic &lt;dbl&gt; | p &lt;dbl&gt; |\n",
       "|---|---|---|---|\n",
       "| control | bmi | 0.9430173 | 0.6873422 |\n",
       "| pd      | bmi | 0.9423394 | 0.6825219 |\n",
       "\n"
      ],
      "text/plain": [
       "  group   variable statistic p        \n",
       "1 control bmi      0.9430173 0.6873422\n",
       "2 pd      bmi      0.9423394 0.6825219"
      ]
     },
     "metadata": {},
     "output_type": "display_data"
    }
   ],
   "source": [
    "demos %>% group_by(group) %>% shapiro_test(bmi)"
   ]
  },
  {
   "cell_type": "code",
   "execution_count": 74,
   "id": "ed4b98c3-9061-4556-85b6-59c1d0dc58d8",
   "metadata": {},
   "outputs": [
    {
     "data": {
      "text/html": [
       "<table class=\"dataframe\">\n",
       "<caption>A tibble: 2 × 4</caption>\n",
       "<thead>\n",
       "\t<tr><th scope=col>group</th><th scope=col>variable</th><th scope=col>statistic</th><th scope=col>p</th></tr>\n",
       "\t<tr><th scope=col>&lt;chr&gt;</th><th scope=col>&lt;chr&gt;</th><th scope=col>&lt;dbl&gt;</th><th scope=col>&lt;dbl&gt;</th></tr>\n",
       "</thead>\n",
       "<tbody>\n",
       "\t<tr><td>control</td><td>age</td><td>0.9295752</td><td>0.5934766</td></tr>\n",
       "\t<tr><td>pd     </td><td>age</td><td>0.9700690</td><td>0.8756966</td></tr>\n",
       "</tbody>\n",
       "</table>\n"
      ],
      "text/latex": [
       "A tibble: 2 × 4\n",
       "\\begin{tabular}{llll}\n",
       " group & variable & statistic & p\\\\\n",
       " <chr> & <chr> & <dbl> & <dbl>\\\\\n",
       "\\hline\n",
       "\t control & age & 0.9295752 & 0.5934766\\\\\n",
       "\t pd      & age & 0.9700690 & 0.8756966\\\\\n",
       "\\end{tabular}\n"
      ],
      "text/markdown": [
       "\n",
       "A tibble: 2 × 4\n",
       "\n",
       "| group &lt;chr&gt; | variable &lt;chr&gt; | statistic &lt;dbl&gt; | p &lt;dbl&gt; |\n",
       "|---|---|---|---|\n",
       "| control | age | 0.9295752 | 0.5934766 |\n",
       "| pd      | age | 0.9700690 | 0.8756966 |\n",
       "\n"
      ],
      "text/plain": [
       "  group   variable statistic p        \n",
       "1 control age      0.9295752 0.5934766\n",
       "2 pd      age      0.9700690 0.8756966"
      ]
     },
     "metadata": {},
     "output_type": "display_data"
    }
   ],
   "source": [
    "demos %>% group_by(group) %>% shapiro_test(age)"
   ]
  },
  {
   "cell_type": "markdown",
   "id": "c625941b-8a07-4cf0-8cad-d2cee8a1672c",
   "metadata": {},
   "source": [
    "Passed"
   ]
  },
  {
   "cell_type": "markdown",
   "id": "ae14d4a0-616c-42eb-b973-f16d13a843e5",
   "metadata": {},
   "source": [
    "### Equality of variance - pass"
   ]
  },
  {
   "cell_type": "code",
   "execution_count": 75,
   "id": "8cc25609-1c32-4289-bd61-858a87585253",
   "metadata": {},
   "outputs": [
    {
     "name": "stderr",
     "output_type": "stream",
     "text": [
      "Warning message in leveneTest.default(y = y, group = group, ...):\n",
      "“group coerced to factor.”\n"
     ]
    },
    {
     "data": {
      "text/html": [
       "<table class=\"dataframe\">\n",
       "<caption>A tibble: 1 × 4</caption>\n",
       "<thead>\n",
       "\t<tr><th scope=col>df1</th><th scope=col>df2</th><th scope=col>statistic</th><th scope=col>p</th></tr>\n",
       "\t<tr><th scope=col>&lt;int&gt;</th><th scope=col>&lt;int&gt;</th><th scope=col>&lt;dbl&gt;</th><th scope=col>&lt;dbl&gt;</th></tr>\n",
       "</thead>\n",
       "<tbody>\n",
       "\t<tr><td>1</td><td>8</td><td>0.008670056</td><td>0.9281033</td></tr>\n",
       "</tbody>\n",
       "</table>\n"
      ],
      "text/latex": [
       "A tibble: 1 × 4\n",
       "\\begin{tabular}{llll}\n",
       " df1 & df2 & statistic & p\\\\\n",
       " <int> & <int> & <dbl> & <dbl>\\\\\n",
       "\\hline\n",
       "\t 1 & 8 & 0.008670056 & 0.9281033\\\\\n",
       "\\end{tabular}\n"
      ],
      "text/markdown": [
       "\n",
       "A tibble: 1 × 4\n",
       "\n",
       "| df1 &lt;int&gt; | df2 &lt;int&gt; | statistic &lt;dbl&gt; | p &lt;dbl&gt; |\n",
       "|---|---|---|---|\n",
       "| 1 | 8 | 0.008670056 | 0.9281033 |\n",
       "\n"
      ],
      "text/plain": [
       "  df1 df2 statistic   p        \n",
       "1 1   8   0.008670056 0.9281033"
      ]
     },
     "metadata": {},
     "output_type": "display_data"
    }
   ],
   "source": [
    "demos %>% levene_test(bmi ~ group)"
   ]
  },
  {
   "cell_type": "code",
   "execution_count": 76,
   "id": "e0a548f7-779a-433c-8e44-72c2daee4093",
   "metadata": {},
   "outputs": [
    {
     "name": "stderr",
     "output_type": "stream",
     "text": [
      "Warning message in leveneTest.default(y = y, group = group, ...):\n",
      "“group coerced to factor.”\n"
     ]
    },
    {
     "data": {
      "text/html": [
       "<table class=\"dataframe\">\n",
       "<caption>A tibble: 1 × 4</caption>\n",
       "<thead>\n",
       "\t<tr><th scope=col>df1</th><th scope=col>df2</th><th scope=col>statistic</th><th scope=col>p</th></tr>\n",
       "\t<tr><th scope=col>&lt;int&gt;</th><th scope=col>&lt;int&gt;</th><th scope=col>&lt;dbl&gt;</th><th scope=col>&lt;dbl&gt;</th></tr>\n",
       "</thead>\n",
       "<tbody>\n",
       "\t<tr><td>1</td><td>8</td><td>0.4889976</td><td>0.5041952</td></tr>\n",
       "</tbody>\n",
       "</table>\n"
      ],
      "text/latex": [
       "A tibble: 1 × 4\n",
       "\\begin{tabular}{llll}\n",
       " df1 & df2 & statistic & p\\\\\n",
       " <int> & <int> & <dbl> & <dbl>\\\\\n",
       "\\hline\n",
       "\t 1 & 8 & 0.4889976 & 0.5041952\\\\\n",
       "\\end{tabular}\n"
      ],
      "text/markdown": [
       "\n",
       "A tibble: 1 × 4\n",
       "\n",
       "| df1 &lt;int&gt; | df2 &lt;int&gt; | statistic &lt;dbl&gt; | p &lt;dbl&gt; |\n",
       "|---|---|---|---|\n",
       "| 1 | 8 | 0.4889976 | 0.5041952 |\n",
       "\n"
      ],
      "text/plain": [
       "  df1 df2 statistic p        \n",
       "1 1   8   0.4889976 0.5041952"
      ]
     },
     "metadata": {},
     "output_type": "display_data"
    }
   ],
   "source": [
    "demos %>% levene_test(age ~ group)"
   ]
  },
  {
   "cell_type": "markdown",
   "id": "6b8e5ccf-8a07-49b9-8240-618ae3a768a3",
   "metadata": {},
   "source": [
    "## Effect size"
   ]
  },
  {
   "cell_type": "code",
   "execution_count": 77,
   "id": "18bad8c2-f54c-4627-81df-3685f5592171",
   "metadata": {},
   "outputs": [
    {
     "data": {
      "text/html": [
       "<table class=\"dataframe\">\n",
       "<caption>A rstatix_test: 1 × 7</caption>\n",
       "<thead>\n",
       "\t<tr><th></th><th scope=col>.y.</th><th scope=col>group1</th><th scope=col>group2</th><th scope=col>effsize</th><th scope=col>n1</th><th scope=col>n2</th><th scope=col>magnitude</th></tr>\n",
       "\t<tr><th></th><th scope=col>&lt;chr&gt;</th><th scope=col>&lt;chr&gt;</th><th scope=col>&lt;chr&gt;</th><th scope=col>&lt;dbl&gt;</th><th scope=col>&lt;int&gt;</th><th scope=col>&lt;int&gt;</th><th scope=col>&lt;ord&gt;</th></tr>\n",
       "</thead>\n",
       "<tbody>\n",
       "\t<tr><th scope=row>1</th><td>bmi</td><td>control</td><td>pd</td><td>-0.2616117</td><td>5</td><td>6</td><td>small</td></tr>\n",
       "</tbody>\n",
       "</table>\n"
      ],
      "text/latex": [
       "A rstatix\\_test: 1 × 7\n",
       "\\begin{tabular}{r|lllllll}\n",
       "  & .y. & group1 & group2 & effsize & n1 & n2 & magnitude\\\\\n",
       "  & <chr> & <chr> & <chr> & <dbl> & <int> & <int> & <ord>\\\\\n",
       "\\hline\n",
       "\t1 & bmi & control & pd & -0.2616117 & 5 & 6 & small\\\\\n",
       "\\end{tabular}\n"
      ],
      "text/markdown": [
       "\n",
       "A rstatix_test: 1 × 7\n",
       "\n",
       "| <!--/--> | .y. &lt;chr&gt; | group1 &lt;chr&gt; | group2 &lt;chr&gt; | effsize &lt;dbl&gt; | n1 &lt;int&gt; | n2 &lt;int&gt; | magnitude &lt;ord&gt; |\n",
       "|---|---|---|---|---|---|---|---|\n",
       "| 1 | bmi | control | pd | -0.2616117 | 5 | 6 | small |\n",
       "\n"
      ],
      "text/plain": [
       "  .y. group1  group2 effsize    n1 n2 magnitude\n",
       "1 bmi control pd     -0.2616117 5  6  small    "
      ]
     },
     "metadata": {},
     "output_type": "display_data"
    }
   ],
   "source": [
    "demos %>% cohens_d(bmi ~ group, var.equal = TRUE)"
   ]
  },
  {
   "cell_type": "code",
   "execution_count": 78,
   "id": "b426ca11-aa2f-4084-baca-ebbff5ea6e65",
   "metadata": {},
   "outputs": [
    {
     "data": {
      "text/html": [
       "<table class=\"dataframe\">\n",
       "<caption>A rstatix_test: 1 × 7</caption>\n",
       "<thead>\n",
       "\t<tr><th></th><th scope=col>.y.</th><th scope=col>group1</th><th scope=col>group2</th><th scope=col>effsize</th><th scope=col>n1</th><th scope=col>n2</th><th scope=col>magnitude</th></tr>\n",
       "\t<tr><th></th><th scope=col>&lt;chr&gt;</th><th scope=col>&lt;chr&gt;</th><th scope=col>&lt;chr&gt;</th><th scope=col>&lt;dbl&gt;</th><th scope=col>&lt;int&gt;</th><th scope=col>&lt;int&gt;</th><th scope=col>&lt;ord&gt;</th></tr>\n",
       "</thead>\n",
       "<tbody>\n",
       "\t<tr><th scope=row>1</th><td>age</td><td>control</td><td>pd</td><td>0.6425755</td><td>5</td><td>6</td><td>moderate</td></tr>\n",
       "</tbody>\n",
       "</table>\n"
      ],
      "text/latex": [
       "A rstatix\\_test: 1 × 7\n",
       "\\begin{tabular}{r|lllllll}\n",
       "  & .y. & group1 & group2 & effsize & n1 & n2 & magnitude\\\\\n",
       "  & <chr> & <chr> & <chr> & <dbl> & <int> & <int> & <ord>\\\\\n",
       "\\hline\n",
       "\t1 & age & control & pd & 0.6425755 & 5 & 6 & moderate\\\\\n",
       "\\end{tabular}\n"
      ],
      "text/markdown": [
       "\n",
       "A rstatix_test: 1 × 7\n",
       "\n",
       "| <!--/--> | .y. &lt;chr&gt; | group1 &lt;chr&gt; | group2 &lt;chr&gt; | effsize &lt;dbl&gt; | n1 &lt;int&gt; | n2 &lt;int&gt; | magnitude &lt;ord&gt; |\n",
       "|---|---|---|---|---|---|---|---|\n",
       "| 1 | age | control | pd | 0.6425755 | 5 | 6 | moderate |\n",
       "\n"
      ],
      "text/plain": [
       "  .y. group1  group2 effsize   n1 n2 magnitude\n",
       "1 age control pd     0.6425755 5  6  moderate "
      ]
     },
     "metadata": {},
     "output_type": "display_data"
    }
   ],
   "source": [
    "demos %>% cohens_d(age ~ group, var.equal = TRUE)"
   ]
  },
  {
   "cell_type": "markdown",
   "id": "47b70bfc-2f58-4ff2-a2de-179dacdbba12",
   "metadata": {},
   "source": [
    "## t test - bmi"
   ]
  },
  {
   "cell_type": "code",
   "execution_count": 79,
   "id": "401e182f-3535-4366-b37c-4a27df37d6bf",
   "metadata": {},
   "outputs": [
    {
     "data": {
      "text/html": [
       "<table class=\"dataframe\">\n",
       "<caption>A rstatix_test: 1 × 8</caption>\n",
       "<thead>\n",
       "\t<tr><th></th><th scope=col>.y.</th><th scope=col>group1</th><th scope=col>group2</th><th scope=col>n1</th><th scope=col>n2</th><th scope=col>statistic</th><th scope=col>df</th><th scope=col>p</th></tr>\n",
       "\t<tr><th></th><th scope=col>&lt;chr&gt;</th><th scope=col>&lt;chr&gt;</th><th scope=col>&lt;chr&gt;</th><th scope=col>&lt;int&gt;</th><th scope=col>&lt;int&gt;</th><th scope=col>&lt;dbl&gt;</th><th scope=col>&lt;dbl&gt;</th><th scope=col>&lt;dbl&gt;</th></tr>\n",
       "</thead>\n",
       "<tbody>\n",
       "\t<tr><th scope=row>1</th><td>bmi</td><td>control</td><td>pd</td><td>5</td><td>6</td><td>-0.4136444</td><td>7.862889</td><td>0.69</td></tr>\n",
       "</tbody>\n",
       "</table>\n"
      ],
      "text/latex": [
       "A rstatix\\_test: 1 × 8\n",
       "\\begin{tabular}{r|llllllll}\n",
       "  & .y. & group1 & group2 & n1 & n2 & statistic & df & p\\\\\n",
       "  & <chr> & <chr> & <chr> & <int> & <int> & <dbl> & <dbl> & <dbl>\\\\\n",
       "\\hline\n",
       "\t1 & bmi & control & pd & 5 & 6 & -0.4136444 & 7.862889 & 0.69\\\\\n",
       "\\end{tabular}\n"
      ],
      "text/markdown": [
       "\n",
       "A rstatix_test: 1 × 8\n",
       "\n",
       "| <!--/--> | .y. &lt;chr&gt; | group1 &lt;chr&gt; | group2 &lt;chr&gt; | n1 &lt;int&gt; | n2 &lt;int&gt; | statistic &lt;dbl&gt; | df &lt;dbl&gt; | p &lt;dbl&gt; |\n",
       "|---|---|---|---|---|---|---|---|---|\n",
       "| 1 | bmi | control | pd | 5 | 6 | -0.4136444 | 7.862889 | 0.69 |\n",
       "\n"
      ],
      "text/plain": [
       "  .y. group1  group2 n1 n2 statistic  df       p   \n",
       "1 bmi control pd     5  6  -0.4136444 7.862889 0.69"
      ]
     },
     "metadata": {},
     "output_type": "display_data"
    }
   ],
   "source": [
    "demos %>% t_test(bmi ~ group)"
   ]
  },
  {
   "cell_type": "code",
   "execution_count": 80,
   "id": "12a652fa-a7c1-4a80-897f-ebb19beebdca",
   "metadata": {},
   "outputs": [
    {
     "data": {
      "text/html": [
       "<table class=\"dataframe\">\n",
       "<caption>A rstatix_test: 1 × 8</caption>\n",
       "<thead>\n",
       "\t<tr><th></th><th scope=col>.y.</th><th scope=col>group1</th><th scope=col>group2</th><th scope=col>n1</th><th scope=col>n2</th><th scope=col>statistic</th><th scope=col>df</th><th scope=col>p</th></tr>\n",
       "\t<tr><th></th><th scope=col>&lt;chr&gt;</th><th scope=col>&lt;chr&gt;</th><th scope=col>&lt;chr&gt;</th><th scope=col>&lt;int&gt;</th><th scope=col>&lt;int&gt;</th><th scope=col>&lt;dbl&gt;</th><th scope=col>&lt;dbl&gt;</th><th scope=col>&lt;dbl&gt;</th></tr>\n",
       "</thead>\n",
       "<tbody>\n",
       "\t<tr><th scope=row>1</th><td>age</td><td>control</td><td>pd</td><td>5</td><td>6</td><td>1.016001</td><td>6.676857</td><td>0.345</td></tr>\n",
       "</tbody>\n",
       "</table>\n"
      ],
      "text/latex": [
       "A rstatix\\_test: 1 × 8\n",
       "\\begin{tabular}{r|llllllll}\n",
       "  & .y. & group1 & group2 & n1 & n2 & statistic & df & p\\\\\n",
       "  & <chr> & <chr> & <chr> & <int> & <int> & <dbl> & <dbl> & <dbl>\\\\\n",
       "\\hline\n",
       "\t1 & age & control & pd & 5 & 6 & 1.016001 & 6.676857 & 0.345\\\\\n",
       "\\end{tabular}\n"
      ],
      "text/markdown": [
       "\n",
       "A rstatix_test: 1 × 8\n",
       "\n",
       "| <!--/--> | .y. &lt;chr&gt; | group1 &lt;chr&gt; | group2 &lt;chr&gt; | n1 &lt;int&gt; | n2 &lt;int&gt; | statistic &lt;dbl&gt; | df &lt;dbl&gt; | p &lt;dbl&gt; |\n",
       "|---|---|---|---|---|---|---|---|---|\n",
       "| 1 | age | control | pd | 5 | 6 | 1.016001 | 6.676857 | 0.345 |\n",
       "\n"
      ],
      "text/plain": [
       "  .y. group1  group2 n1 n2 statistic df       p    \n",
       "1 age control pd     5  6  1.016001  6.676857 0.345"
      ]
     },
     "metadata": {},
     "output_type": "display_data"
    }
   ],
   "source": [
    "demos %>% t_test(age ~ group)"
   ]
  },
  {
   "cell_type": "markdown",
   "id": "6e80f64a-dc8b-4798-9275-9c973b7d7161",
   "metadata": {},
   "source": [
    "# Recording Length"
   ]
  },
  {
   "cell_type": "code",
   "execution_count": 81,
   "id": "838bd6c8-1571-4740-af07-42ff215741b0",
   "metadata": {},
   "outputs": [],
   "source": [
    "records <- read.csv('data_formatted/dance_recordings.csv')\n",
    "records <- records %>% filter(dance_group != 'waltz')"
   ]
  },
  {
   "cell_type": "code",
   "execution_count": 82,
   "id": "57720ef3-811d-4b40-9f75-27ac47595490",
   "metadata": {},
   "outputs": [
    {
     "name": "stderr",
     "output_type": "stream",
     "text": [
      "`summarise()` has grouped output by 'dance_group'. You can override using the `.groups` argument.\n",
      "\n"
     ]
    },
    {
     "data": {
      "text/html": [
       "<table class=\"dataframe\">\n",
       "<caption>A grouped_df: 15 × 5</caption>\n",
       "<thead>\n",
       "\t<tr><th scope=col>dance_group</th><th scope=col>id</th><th scope=col>avg_sec</th><th scope=col>avg_min</th><th scope=col>group</th></tr>\n",
       "\t<tr><th scope=col>&lt;chr&gt;</th><th scope=col>&lt;chr&gt;</th><th scope=col>&lt;dbl&gt;</th><th scope=col>&lt;dbl&gt;</th><th scope=col>&lt;chr&gt;</th></tr>\n",
       "</thead>\n",
       "<tbody>\n",
       "\t<tr><td>foxtrot</td><td>pddance002   </td><td> 48.65000</td><td>0.8108333</td><td>PD</td></tr>\n",
       "\t<tr><td>foxtrot</td><td>pddance006   </td><td>167.90000</td><td>2.7983333</td><td>PD</td></tr>\n",
       "\t<tr><td>foxtrot</td><td>pddancecon003</td><td>191.12000</td><td>3.1853333</td><td>OA</td></tr>\n",
       "\t<tr><td>line   </td><td>pddance002   </td><td> 66.92000</td><td>1.1153333</td><td>PD</td></tr>\n",
       "\t<tr><td>line   </td><td>pddance007   </td><td>176.24000</td><td>2.9373333</td><td>PD</td></tr>\n",
       "\t<tr><td>line   </td><td>pddancecon001</td><td> 87.24000</td><td>1.4540000</td><td>OA</td></tr>\n",
       "\t<tr><td>line   </td><td>pddancecon005</td><td>330.58000</td><td>5.5096667</td><td>OA</td></tr>\n",
       "\t<tr><td>tango  </td><td>pddance001   </td><td>131.67000</td><td>2.1945000</td><td>PD</td></tr>\n",
       "\t<tr><td>tango  </td><td>pddance002   </td><td> 60.01333</td><td>1.0002222</td><td>PD</td></tr>\n",
       "\t<tr><td>tango  </td><td>pddance003   </td><td>223.24000</td><td>3.7206667</td><td>PD</td></tr>\n",
       "\t<tr><td>tango  </td><td>pddance005   </td><td>162.56000</td><td>2.7093333</td><td>PD</td></tr>\n",
       "\t<tr><td>tango  </td><td>pddance006   </td><td>151.92000</td><td>2.5320000</td><td>PD</td></tr>\n",
       "\t<tr><td>tango  </td><td>pddance007   </td><td>129.20000</td><td>2.1533333</td><td>PD</td></tr>\n",
       "\t<tr><td>tango  </td><td>pddancecon003</td><td>177.76000</td><td>2.9626667</td><td>OA</td></tr>\n",
       "\t<tr><td>tango  </td><td>pddancecon004</td><td>224.48000</td><td>3.7413333</td><td>OA</td></tr>\n",
       "</tbody>\n",
       "</table>\n"
      ],
      "text/latex": [
       "A grouped\\_df: 15 × 5\n",
       "\\begin{tabular}{lllll}\n",
       " dance\\_group & id & avg\\_sec & avg\\_min & group\\\\\n",
       " <chr> & <chr> & <dbl> & <dbl> & <chr>\\\\\n",
       "\\hline\n",
       "\t foxtrot & pddance002    &  48.65000 & 0.8108333 & PD\\\\\n",
       "\t foxtrot & pddance006    & 167.90000 & 2.7983333 & PD\\\\\n",
       "\t foxtrot & pddancecon003 & 191.12000 & 3.1853333 & OA\\\\\n",
       "\t line    & pddance002    &  66.92000 & 1.1153333 & PD\\\\\n",
       "\t line    & pddance007    & 176.24000 & 2.9373333 & PD\\\\\n",
       "\t line    & pddancecon001 &  87.24000 & 1.4540000 & OA\\\\\n",
       "\t line    & pddancecon005 & 330.58000 & 5.5096667 & OA\\\\\n",
       "\t tango   & pddance001    & 131.67000 & 2.1945000 & PD\\\\\n",
       "\t tango   & pddance002    &  60.01333 & 1.0002222 & PD\\\\\n",
       "\t tango   & pddance003    & 223.24000 & 3.7206667 & PD\\\\\n",
       "\t tango   & pddance005    & 162.56000 & 2.7093333 & PD\\\\\n",
       "\t tango   & pddance006    & 151.92000 & 2.5320000 & PD\\\\\n",
       "\t tango   & pddance007    & 129.20000 & 2.1533333 & PD\\\\\n",
       "\t tango   & pddancecon003 & 177.76000 & 2.9626667 & OA\\\\\n",
       "\t tango   & pddancecon004 & 224.48000 & 3.7413333 & OA\\\\\n",
       "\\end{tabular}\n"
      ],
      "text/markdown": [
       "\n",
       "A grouped_df: 15 × 5\n",
       "\n",
       "| dance_group &lt;chr&gt; | id &lt;chr&gt; | avg_sec &lt;dbl&gt; | avg_min &lt;dbl&gt; | group &lt;chr&gt; |\n",
       "|---|---|---|---|---|\n",
       "| foxtrot | pddance002    |  48.65000 | 0.8108333 | PD |\n",
       "| foxtrot | pddance006    | 167.90000 | 2.7983333 | PD |\n",
       "| foxtrot | pddancecon003 | 191.12000 | 3.1853333 | OA |\n",
       "| line    | pddance002    |  66.92000 | 1.1153333 | PD |\n",
       "| line    | pddance007    | 176.24000 | 2.9373333 | PD |\n",
       "| line    | pddancecon001 |  87.24000 | 1.4540000 | OA |\n",
       "| line    | pddancecon005 | 330.58000 | 5.5096667 | OA |\n",
       "| tango   | pddance001    | 131.67000 | 2.1945000 | PD |\n",
       "| tango   | pddance002    |  60.01333 | 1.0002222 | PD |\n",
       "| tango   | pddance003    | 223.24000 | 3.7206667 | PD |\n",
       "| tango   | pddance005    | 162.56000 | 2.7093333 | PD |\n",
       "| tango   | pddance006    | 151.92000 | 2.5320000 | PD |\n",
       "| tango   | pddance007    | 129.20000 | 2.1533333 | PD |\n",
       "| tango   | pddancecon003 | 177.76000 | 2.9626667 | OA |\n",
       "| tango   | pddancecon004 | 224.48000 | 3.7413333 | OA |\n",
       "\n"
      ],
      "text/plain": [
       "   dance_group id            avg_sec   avg_min   group\n",
       "1  foxtrot     pddance002     48.65000 0.8108333 PD   \n",
       "2  foxtrot     pddance006    167.90000 2.7983333 PD   \n",
       "3  foxtrot     pddancecon003 191.12000 3.1853333 OA   \n",
       "4  line        pddance002     66.92000 1.1153333 PD   \n",
       "5  line        pddance007    176.24000 2.9373333 PD   \n",
       "6  line        pddancecon001  87.24000 1.4540000 OA   \n",
       "7  line        pddancecon005 330.58000 5.5096667 OA   \n",
       "8  tango       pddance001    131.67000 2.1945000 PD   \n",
       "9  tango       pddance002     60.01333 1.0002222 PD   \n",
       "10 tango       pddance003    223.24000 3.7206667 PD   \n",
       "11 tango       pddance005    162.56000 2.7093333 PD   \n",
       "12 tango       pddance006    151.92000 2.5320000 PD   \n",
       "13 tango       pddance007    129.20000 2.1533333 PD   \n",
       "14 tango       pddancecon003 177.76000 2.9626667 OA   \n",
       "15 tango       pddancecon004 224.48000 3.7413333 OA   "
      ]
     },
     "metadata": {},
     "output_type": "display_data"
    }
   ],
   "source": [
    "records.avg <- records %>% group_by(dance_group, id) %>% summarize(avg_sec = mean(seconds),\n",
    "                                                    avg_min = mean(minutes))\n",
    "records.avg$group <- records.avg %>% pull(id) %>% sapply(cat_group)\n",
    "\n",
    "records.avg "
   ]
  },
  {
   "cell_type": "code",
   "execution_count": 83,
   "id": "3c37eb42-b9ee-4f6d-b759-d56235acb0eb",
   "metadata": {},
   "outputs": [
    {
     "data": {
      "text/plain": [
       "\n",
       "\tWelch Two Sample t-test\n",
       "\n",
       "data:  avg_sec by group\n",
       "t = 1.6277, df = 5.7475, p-value = 0.1569\n",
       "alternative hypothesis: true difference in means is not equal to 0\n",
       "95 percent confidence interval:\n",
       " -36.57269 177.38202\n",
       "sample estimates:\n",
       "mean in group OA mean in group PD \n",
       "        202.2360         131.8313 \n"
      ]
     },
     "metadata": {},
     "output_type": "display_data"
    }
   ],
   "source": [
    "t.test(avg_sec ~ group, records.avg)"
   ]
  },
  {
   "cell_type": "code",
   "execution_count": 84,
   "id": "c34015f5-b3f6-45f2-a44f-5146c6a9f3d0",
   "metadata": {},
   "outputs": [
    {
     "data": {
      "text/plain": [
       "            Df Sum Sq Mean Sq F value Pr(>F)\n",
       "dance_group  2   1568     784   0.125  0.883\n",
       "Residuals   12  75142    6262               "
      ]
     },
     "metadata": {},
     "output_type": "display_data"
    }
   ],
   "source": [
    "summary(aov(avg_sec ~ dance_group, records.avg))"
   ]
  },
  {
   "cell_type": "markdown",
   "id": "6f3ed672-49bc-4b05-9c93-bf05b428c3eb",
   "metadata": {},
   "source": [
    "No significant difference in mean recording length between dance group `F(3, 13) = 0.18, p = 0.91` or PD and control `t(9.19) = 2.06, p = 0.07`."
   ]
  },
  {
   "cell_type": "markdown",
   "id": "d8454bb4-3d97-407e-b0f0-eac392e634bb",
   "metadata": {},
   "source": [
    "# Means"
   ]
  },
  {
   "cell_type": "markdown",
   "id": "ede0c47a-9e23-4601-9609-b84a5e72074b",
   "metadata": {},
   "source": [
    "Hypothesis: there is a sig diff in mean movement of left and right side in PD but not OA"
   ]
  },
  {
   "cell_type": "code",
   "execution_count": 95,
   "id": "592c9101-1dbd-4393-9d89-094442590e93",
   "metadata": {},
   "outputs": [],
   "source": [
    "joints$group <- joints %>% pull(unique_id) %>% sapply(cat_group)"
   ]
  },
  {
   "cell_type": "code",
   "execution_count": 96,
   "id": "09301522-a036-40a2-8e78-450904d8b69a",
   "metadata": {},
   "outputs": [
    {
     "name": "stderr",
     "output_type": "stream",
     "text": [
      "`summarise()` has grouped output by 'dance_group', 'id'. You can override using the `.groups` argument.\n",
      "\n"
     ]
    },
    {
     "name": "stdout",
     "output_type": "stream",
     "text": [
      "Rows: 18\n",
      "Columns: 11\n",
      "Groups: dance_group, id [18]\n",
      "$ dance_group     \u001b[3m\u001b[90m<chr>\u001b[39m\u001b[23m \"foxtrot\", \"foxtrot\", \"foxtrot\", \"line\", \"line\", \"line…\n",
      "$ id              \u001b[3m\u001b[90m<chr>\u001b[39m\u001b[23m \"pddance002\", \"pddance006\", \"pddancecon003\", \"pddance0…\n",
      "$ group           \u001b[3m\u001b[90m<chr>\u001b[39m\u001b[23m \"PD\", \"PD\", \"OA\", \"PD\", \"PD\", \"OA\", \"OA\", \"PD\", \"PD\", …\n",
      "$ left.hip.flex   \u001b[3m\u001b[90m<dbl>\u001b[39m\u001b[23m 8.99551136, 13.70394667, 26.06204464, 4.12050768, 18.5…\n",
      "$ right.hip.flex  \u001b[3m\u001b[90m<dbl>\u001b[39m\u001b[23m 5.470688, 5.955388, 15.562712, 22.149595, 17.065435, 2…\n",
      "$ left.hip.abd    \u001b[3m\u001b[90m<dbl>\u001b[39m\u001b[23m -7.0422963, 1.4286839, 0.7888491, -4.9561885, -3.75289…\n",
      "$ right.hip.abd   \u001b[3m\u001b[90m<dbl>\u001b[39m\u001b[23m 6.83216949, -0.02462347, 4.55787830, -4.95532920, 6.35…\n",
      "$ left.hip.rot    \u001b[3m\u001b[90m<dbl>\u001b[39m\u001b[23m -5.816687, -24.046135, -2.225780, 18.683551, 22.318079…\n",
      "$ right.hip.rot   \u001b[3m\u001b[90m<dbl>\u001b[39m\u001b[23m -2.40926696, 9.68897957, 22.85558030, 1.59722170, -42.…\n",
      "$ left.knee.flex  \u001b[3m\u001b[90m<dbl>\u001b[39m\u001b[23m 2.318686, 9.283924, 17.582418, 6.500918, 23.405926, 23…\n",
      "$ right.knee.flex \u001b[3m\u001b[90m<dbl>\u001b[39m\u001b[23m 10.570314, 9.805412, 23.332723, 25.649260, 23.994234, …\n"
     ]
    }
   ],
   "source": [
    "joints.mean <- joints %>% group_by(dance_group, id, group) %>% summarize(left.hip.flex = mean(joints.hip_lt.flexion_.deg.),\n",
    "                                                   right.hip.flex = mean(joints.hip_rt.flexion_.deg.),\n",
    "                                                   left.hip.abd = mean(joints.hip_lt.abduction_.deg.),\n",
    "                                                   right.hip.abd = mean(joints.hip_rt.abduction_.deg.),\n",
    "                                                   left.hip.rot = mean(joints.hip_lt.rotation_ext_.deg.),\n",
    "                                                   right.hip.rot = mean(joints.hip_rt.rotation_ext_.deg.),\n",
    "                                                   left.knee.flex = mean(joints.knee_lt.flexion_.deg.),\n",
    "                                                   right.knee.flex = mean(joints.knee_rt.flexion_.deg.))\n",
    "joints.mean %>% glimpse"
   ]
  },
  {
   "cell_type": "code",
   "execution_count": 97,
   "id": "f95c9d17-73f0-4f7e-b276-fef2eabd54ed",
   "metadata": {},
   "outputs": [
    {
     "data": {
      "text/html": [
       "<table class=\"dataframe\">\n",
       "<caption>A grouped_df: 6 × 11</caption>\n",
       "<thead>\n",
       "\t<tr><th scope=col>dance_group</th><th scope=col>id</th><th scope=col>group</th><th scope=col>left.hip.flex</th><th scope=col>right.hip.flex</th><th scope=col>left.hip.abd</th><th scope=col>right.hip.abd</th><th scope=col>left.hip.rot</th><th scope=col>right.hip.rot</th><th scope=col>left.knee.flex</th><th scope=col>right.knee.flex</th></tr>\n",
       "\t<tr><th scope=col>&lt;chr&gt;</th><th scope=col>&lt;chr&gt;</th><th scope=col>&lt;chr&gt;</th><th scope=col>&lt;dbl&gt;</th><th scope=col>&lt;dbl&gt;</th><th scope=col>&lt;dbl&gt;</th><th scope=col>&lt;dbl&gt;</th><th scope=col>&lt;dbl&gt;</th><th scope=col>&lt;dbl&gt;</th><th scope=col>&lt;dbl&gt;</th><th scope=col>&lt;dbl&gt;</th></tr>\n",
       "</thead>\n",
       "<tbody>\n",
       "\t<tr><td>foxtrot</td><td>pddance002   </td><td>PD</td><td> 8.995511</td><td> 5.470688</td><td>-7.0422963</td><td> 6.83216949</td><td> -5.816687</td><td> -2.40926696</td><td> 2.318686</td><td>10.570314</td></tr>\n",
       "\t<tr><td>foxtrot</td><td>pddance006   </td><td>PD</td><td>13.703947</td><td> 5.955388</td><td> 1.4286839</td><td>-0.02462347</td><td>-24.046135</td><td>  9.68897957</td><td> 9.283924</td><td> 9.805412</td></tr>\n",
       "\t<tr><td>foxtrot</td><td>pddancecon003</td><td>OA</td><td>26.062045</td><td>15.562712</td><td> 0.7888491</td><td> 4.55787830</td><td> -2.225780</td><td> 22.85558030</td><td>17.582418</td><td>23.332723</td></tr>\n",
       "\t<tr><td>line   </td><td>pddance002   </td><td>PD</td><td> 4.120508</td><td>22.149595</td><td>-4.9561885</td><td>-4.95532920</td><td> 18.683551</td><td>  1.59722170</td><td> 6.500918</td><td>25.649260</td></tr>\n",
       "\t<tr><td>line   </td><td>pddance007   </td><td>PD</td><td>18.504976</td><td>17.065435</td><td>-3.7528949</td><td> 6.35806610</td><td> 22.318079</td><td>-42.03862134</td><td>23.405926</td><td>23.994234</td></tr>\n",
       "\t<tr><td>line   </td><td>pddancecon001</td><td>OA</td><td>29.288387</td><td>22.952127</td><td> 0.6177143</td><td>-1.12547070</td><td> -4.482351</td><td>  0.05153767</td><td>23.847550</td><td>20.986403</td></tr>\n",
       "</tbody>\n",
       "</table>\n"
      ],
      "text/latex": [
       "A grouped\\_df: 6 × 11\n",
       "\\begin{tabular}{lllllllllll}\n",
       " dance\\_group & id & group & left.hip.flex & right.hip.flex & left.hip.abd & right.hip.abd & left.hip.rot & right.hip.rot & left.knee.flex & right.knee.flex\\\\\n",
       " <chr> & <chr> & <chr> & <dbl> & <dbl> & <dbl> & <dbl> & <dbl> & <dbl> & <dbl> & <dbl>\\\\\n",
       "\\hline\n",
       "\t foxtrot & pddance002    & PD &  8.995511 &  5.470688 & -7.0422963 &  6.83216949 &  -5.816687 &  -2.40926696 &  2.318686 & 10.570314\\\\\n",
       "\t foxtrot & pddance006    & PD & 13.703947 &  5.955388 &  1.4286839 & -0.02462347 & -24.046135 &   9.68897957 &  9.283924 &  9.805412\\\\\n",
       "\t foxtrot & pddancecon003 & OA & 26.062045 & 15.562712 &  0.7888491 &  4.55787830 &  -2.225780 &  22.85558030 & 17.582418 & 23.332723\\\\\n",
       "\t line    & pddance002    & PD &  4.120508 & 22.149595 & -4.9561885 & -4.95532920 &  18.683551 &   1.59722170 &  6.500918 & 25.649260\\\\\n",
       "\t line    & pddance007    & PD & 18.504976 & 17.065435 & -3.7528949 &  6.35806610 &  22.318079 & -42.03862134 & 23.405926 & 23.994234\\\\\n",
       "\t line    & pddancecon001 & OA & 29.288387 & 22.952127 &  0.6177143 & -1.12547070 &  -4.482351 &   0.05153767 & 23.847550 & 20.986403\\\\\n",
       "\\end{tabular}\n"
      ],
      "text/markdown": [
       "\n",
       "A grouped_df: 6 × 11\n",
       "\n",
       "| dance_group &lt;chr&gt; | id &lt;chr&gt; | group &lt;chr&gt; | left.hip.flex &lt;dbl&gt; | right.hip.flex &lt;dbl&gt; | left.hip.abd &lt;dbl&gt; | right.hip.abd &lt;dbl&gt; | left.hip.rot &lt;dbl&gt; | right.hip.rot &lt;dbl&gt; | left.knee.flex &lt;dbl&gt; | right.knee.flex &lt;dbl&gt; |\n",
       "|---|---|---|---|---|---|---|---|---|---|---|\n",
       "| foxtrot | pddance002    | PD |  8.995511 |  5.470688 | -7.0422963 |  6.83216949 |  -5.816687 |  -2.40926696 |  2.318686 | 10.570314 |\n",
       "| foxtrot | pddance006    | PD | 13.703947 |  5.955388 |  1.4286839 | -0.02462347 | -24.046135 |   9.68897957 |  9.283924 |  9.805412 |\n",
       "| foxtrot | pddancecon003 | OA | 26.062045 | 15.562712 |  0.7888491 |  4.55787830 |  -2.225780 |  22.85558030 | 17.582418 | 23.332723 |\n",
       "| line    | pddance002    | PD |  4.120508 | 22.149595 | -4.9561885 | -4.95532920 |  18.683551 |   1.59722170 |  6.500918 | 25.649260 |\n",
       "| line    | pddance007    | PD | 18.504976 | 17.065435 | -3.7528949 |  6.35806610 |  22.318079 | -42.03862134 | 23.405926 | 23.994234 |\n",
       "| line    | pddancecon001 | OA | 29.288387 | 22.952127 |  0.6177143 | -1.12547070 |  -4.482351 |   0.05153767 | 23.847550 | 20.986403 |\n",
       "\n"
      ],
      "text/plain": [
       "  dance_group id            group left.hip.flex right.hip.flex left.hip.abd\n",
       "1 foxtrot     pddance002    PD     8.995511      5.470688      -7.0422963  \n",
       "2 foxtrot     pddance006    PD    13.703947      5.955388       1.4286839  \n",
       "3 foxtrot     pddancecon003 OA    26.062045     15.562712       0.7888491  \n",
       "4 line        pddance002    PD     4.120508     22.149595      -4.9561885  \n",
       "5 line        pddance007    PD    18.504976     17.065435      -3.7528949  \n",
       "6 line        pddancecon001 OA    29.288387     22.952127       0.6177143  \n",
       "  right.hip.abd left.hip.rot right.hip.rot left.knee.flex right.knee.flex\n",
       "1  6.83216949    -5.816687    -2.40926696   2.318686      10.570314      \n",
       "2 -0.02462347   -24.046135     9.68897957   9.283924       9.805412      \n",
       "3  4.55787830    -2.225780    22.85558030  17.582418      23.332723      \n",
       "4 -4.95532920    18.683551     1.59722170   6.500918      25.649260      \n",
       "5  6.35806610    22.318079   -42.03862134  23.405926      23.994234      \n",
       "6 -1.12547070    -4.482351     0.05153767  23.847550      20.986403      "
      ]
     },
     "metadata": {},
     "output_type": "display_data"
    }
   ],
   "source": [
    "joints.mean %>% head()"
   ]
  },
  {
   "cell_type": "code",
   "execution_count": 98,
   "id": "2688cab8-8fce-4a03-af86-4c732c740e3a",
   "metadata": {},
   "outputs": [],
   "source": [
    "joints.long <- joints.mean %>% pivot_longer(cols=c(left.hip.flex, right.hip.flex, left.hip.abd, right.hip.abd, \n",
    "                                    left.hip.rot, right.hip.rot, left.knee.flex, right.knee.flex),\n",
    "                             names_to='limb_move_side',\n",
    "                             values_to='mean')"
   ]
  },
  {
   "cell_type": "code",
   "execution_count": 99,
   "id": "e160e801-4dd6-48bb-ade9-e61d124f4a36",
   "metadata": {},
   "outputs": [],
   "source": [
    "joints.long <- joints.long %>% filter(dance_group != 'rumba', dance_group != 'swing', dance_group != 'waltz')"
   ]
  },
  {
   "cell_type": "code",
   "execution_count": 100,
   "id": "d1c72faf-7413-49fd-b0ac-595fe9005d50",
   "metadata": {},
   "outputs": [],
   "source": [
    "# extract side of movement\n",
    "pick_side <- function(my_side){\n",
    "    if(grepl('left',my_side)){\n",
    "        return('left')\n",
    "    }else{\n",
    "        return('right')\n",
    "    }\n",
    "}\n",
    "\n",
    "# extract limb movement\n",
    "pick_limb <- function(my_limb){\n",
    "    if(grepl('hip.flex', my_limb)){\n",
    "        return('hip_flexion')\n",
    "    } else if (grepl('hip.rot', my_limb)){\n",
    "        return('hip_rotation')\n",
    "    } else if (grepl('hip.abd', my_limb)){\n",
    "        return('hip_abduction')\n",
    "    } else if (grepl('knee.flex', my_limb)){\n",
    "        return('knee_flexion')\n",
    "    }\n",
    "}"
   ]
  },
  {
   "cell_type": "code",
   "execution_count": 101,
   "id": "b43658f9-dd5b-42ab-a0ac-a5cc0c2feffd",
   "metadata": {},
   "outputs": [],
   "source": [
    "joints.long$side <- joints.long %>% pull(limb_move_side) %>% sapply(pick_side)\n",
    "joints.long$limb_move <- joints.long %>% pull(limb_move_side) %>% sapply(pick_limb)"
   ]
  },
  {
   "cell_type": "code",
   "execution_count": 102,
   "id": "5beb8d7f-a604-495e-8a6c-cad3d43f96fc",
   "metadata": {},
   "outputs": [],
   "source": [
    "pd <- joints.long %>% filter(group == 'pd')\n",
    "oa <- joints.long %>% filter(group == 'control')"
   ]
  },
  {
   "cell_type": "markdown",
   "id": "bb5332e9-19d6-4ba6-9813-77f2a54e921a",
   "metadata": {},
   "source": [
    "## Assumptions"
   ]
  },
  {
   "cell_type": "markdown",
   "id": "59fb940d-c84d-4f0e-82ea-75f640e3f20d",
   "metadata": {},
   "source": [
    "Source: [T-test in R at Datanovia](https://www.datanovia.com/en/lessons/t-test-in-r/#assumptions-and-preliminary-tests-1)"
   ]
  },
  {
   "cell_type": "markdown",
   "id": "f2ee075e-a2fa-4d1d-a43b-0f8569b37d8b",
   "metadata": {},
   "source": [
    "### Outliers - pd pass, 1 oa fail"
   ]
  },
  {
   "cell_type": "code",
   "execution_count": 103,
   "id": "0ad43945-3e27-4346-b524-3270f6582d59",
   "metadata": {},
   "outputs": [
    {
     "ename": "ERROR",
     "evalue": "Error in .results$data[[1]]: subscript out of bounds\n",
     "output_type": "error",
     "traceback": [
      "Error in .results$data[[1]]: subscript out of bounds\nTraceback:\n",
      "1. pd %>% group_by(limb_move_side) %>% identify_outliers(mean)",
      "2. identify_outliers(., mean)",
      "3. data %>% doo(identify_outliers, ..., variable = variable)",
      "4. doo(., identify_outliers, ..., variable = variable)"
     ]
    }
   ],
   "source": [
    "pd %>% group_by(limb_move_side) %>% identify_outliers(mean)"
   ]
  },
  {
   "cell_type": "markdown",
   "id": "0805a58b-91d2-4835-9189-dd6a159eff02",
   "metadata": {},
   "source": [
    "No extreme outliers"
   ]
  },
  {
   "cell_type": "code",
   "execution_count": 104,
   "id": "f97e98f5-eb97-49aa-bb02-15025fc8673b",
   "metadata": {},
   "outputs": [
    {
     "ename": "ERROR",
     "evalue": "Error in .results$data[[1]]: subscript out of bounds\n",
     "output_type": "error",
     "traceback": [
      "Error in .results$data[[1]]: subscript out of bounds\nTraceback:\n",
      "1. oa %>% group_by(limb_move_side) %>% identify_outliers(mean)",
      "2. identify_outliers(., mean)",
      "3. data %>% doo(identify_outliers, ..., variable = variable)",
      "4. doo(., identify_outliers, ..., variable = variable)"
     ]
    }
   ],
   "source": [
    "oa %>% group_by(limb_move_side) %>% identify_outliers(mean)"
   ]
  },
  {
   "cell_type": "markdown",
   "id": "6376ef92-9f5f-45d2-a807-6923a1d25732",
   "metadata": {},
   "source": [
    "1 extreme outlier in left hip abduction"
   ]
  },
  {
   "cell_type": "markdown",
   "id": "ffaa44a6-9795-40d9-b94c-e8c2ded4894f",
   "metadata": {},
   "source": [
    "### Normality - pd pass, 1 oa fail"
   ]
  },
  {
   "cell_type": "code",
   "execution_count": 105,
   "id": "9ef184a4-bbcb-43b7-b849-125160d137d1",
   "metadata": {},
   "outputs": [
    {
     "ename": "ERROR",
     "evalue": "Error in .results$data[[1]]: subscript out of bounds\n",
     "output_type": "error",
     "traceback": [
      "Error in .results$data[[1]]: subscript out of bounds\nTraceback:\n",
      "1. pd %>% group_by(limb_move_side) %>% shapiro_test(mean)",
      "2. shapiro_test(., mean)",
      "3. data %>% doo(shapiro_test, ..., vars = vars)",
      "4. doo(., shapiro_test, ..., vars = vars)"
     ]
    }
   ],
   "source": [
    "pd %>% group_by(limb_move_side) %>% shapiro_test(mean)"
   ]
  },
  {
   "cell_type": "markdown",
   "id": "00484594-b7aa-459d-a99d-50facfad3f4b",
   "metadata": {},
   "source": [
    "Passed"
   ]
  },
  {
   "cell_type": "code",
   "execution_count": 92,
   "id": "e7785486-b6ad-4a80-bc99-210528891adb",
   "metadata": {},
   "outputs": [
    {
     "data": {
      "text/html": [
       "<table class=\"dataframe\">\n",
       "<caption>A tibble: 8 × 4</caption>\n",
       "<thead>\n",
       "\t<tr><th scope=col>limb_move_side</th><th scope=col>variable</th><th scope=col>statistic</th><th scope=col>p</th></tr>\n",
       "\t<tr><th scope=col>&lt;chr&gt;</th><th scope=col>&lt;chr&gt;</th><th scope=col>&lt;dbl&gt;</th><th scope=col>&lt;dbl&gt;</th></tr>\n",
       "</thead>\n",
       "<tbody>\n",
       "\t<tr><td>left.hip.abd   </td><td>mean</td><td>0.7580363</td><td>0.03526599</td></tr>\n",
       "\t<tr><td>left.hip.flex  </td><td>mean</td><td>0.8580201</td><td>0.22122645</td></tr>\n",
       "\t<tr><td>left.hip.rot   </td><td>mean</td><td>0.9016223</td><td>0.41891683</td></tr>\n",
       "\t<tr><td>left.knee.flex </td><td>mean</td><td>0.9082194</td><td>0.45696429</td></tr>\n",
       "\t<tr><td>right.hip.abd  </td><td>mean</td><td>0.9796730</td><td>0.90009759</td></tr>\n",
       "\t<tr><td>right.hip.flex </td><td>mean</td><td>0.9681840</td><td>0.83020730</td></tr>\n",
       "\t<tr><td>right.hip.rot  </td><td>mean</td><td>0.9646589</td><td>0.80818134</td></tr>\n",
       "\t<tr><td>right.knee.flex</td><td>mean</td><td>0.9388120</td><td>0.65755166</td></tr>\n",
       "</tbody>\n",
       "</table>\n"
      ],
      "text/latex": [
       "A tibble: 8 × 4\n",
       "\\begin{tabular}{llll}\n",
       " limb\\_move\\_side & variable & statistic & p\\\\\n",
       " <chr> & <chr> & <dbl> & <dbl>\\\\\n",
       "\\hline\n",
       "\t left.hip.abd    & mean & 0.7580363 & 0.03526599\\\\\n",
       "\t left.hip.flex   & mean & 0.8580201 & 0.22122645\\\\\n",
       "\t left.hip.rot    & mean & 0.9016223 & 0.41891683\\\\\n",
       "\t left.knee.flex  & mean & 0.9082194 & 0.45696429\\\\\n",
       "\t right.hip.abd   & mean & 0.9796730 & 0.90009759\\\\\n",
       "\t right.hip.flex  & mean & 0.9681840 & 0.83020730\\\\\n",
       "\t right.hip.rot   & mean & 0.9646589 & 0.80818134\\\\\n",
       "\t right.knee.flex & mean & 0.9388120 & 0.65755166\\\\\n",
       "\\end{tabular}\n"
      ],
      "text/markdown": [
       "\n",
       "A tibble: 8 × 4\n",
       "\n",
       "| limb_move_side &lt;chr&gt; | variable &lt;chr&gt; | statistic &lt;dbl&gt; | p &lt;dbl&gt; |\n",
       "|---|---|---|---|\n",
       "| left.hip.abd    | mean | 0.7580363 | 0.03526599 |\n",
       "| left.hip.flex   | mean | 0.8580201 | 0.22122645 |\n",
       "| left.hip.rot    | mean | 0.9016223 | 0.41891683 |\n",
       "| left.knee.flex  | mean | 0.9082194 | 0.45696429 |\n",
       "| right.hip.abd   | mean | 0.9796730 | 0.90009759 |\n",
       "| right.hip.flex  | mean | 0.9681840 | 0.83020730 |\n",
       "| right.hip.rot   | mean | 0.9646589 | 0.80818134 |\n",
       "| right.knee.flex | mean | 0.9388120 | 0.65755166 |\n",
       "\n"
      ],
      "text/plain": [
       "  limb_move_side  variable statistic p         \n",
       "1 left.hip.abd    mean     0.7580363 0.03526599\n",
       "2 left.hip.flex   mean     0.8580201 0.22122645\n",
       "3 left.hip.rot    mean     0.9016223 0.41891683\n",
       "4 left.knee.flex  mean     0.9082194 0.45696429\n",
       "5 right.hip.abd   mean     0.9796730 0.90009759\n",
       "6 right.hip.flex  mean     0.9681840 0.83020730\n",
       "7 right.hip.rot   mean     0.9646589 0.80818134\n",
       "8 right.knee.flex mean     0.9388120 0.65755166"
      ]
     },
     "metadata": {},
     "output_type": "display_data"
    }
   ],
   "source": [
    "oa %>% group_by(limb_move_side) %>% shapiro_test(mean)"
   ]
  },
  {
   "cell_type": "markdown",
   "id": "77f1fe70-09a5-4509-a304-dbff103e717e",
   "metadata": {},
   "source": [
    "Failed normality assumption: OA left hip abduction"
   ]
  },
  {
   "cell_type": "markdown",
   "id": "a1acd4c0-4a1d-4ff6-b271-467acaea37bd",
   "metadata": {},
   "source": [
    "### Equality of variance - pd pass, oa fail"
   ]
  },
  {
   "cell_type": "code",
   "execution_count": 93,
   "id": "929ba80c-011e-4956-95f1-8ab25e106197",
   "metadata": {},
   "outputs": [
    {
     "name": "stderr",
     "output_type": "stream",
     "text": [
      "Warning message in leveneTest.default(y = y, group = group, ...):\n",
      "“group coerced to factor.”\n",
      "Warning message in leveneTest.default(y = y, group = group, ...):\n",
      "“group coerced to factor.”\n",
      "Warning message in leveneTest.default(y = y, group = group, ...):\n",
      "“group coerced to factor.”\n",
      "Warning message in leveneTest.default(y = y, group = group, ...):\n",
      "“group coerced to factor.”\n"
     ]
    },
    {
     "data": {
      "text/html": [
       "<table class=\"dataframe\">\n",
       "<caption>A tibble: 4 × 5</caption>\n",
       "<thead>\n",
       "\t<tr><th scope=col>limb_move</th><th scope=col>df1</th><th scope=col>df2</th><th scope=col>statistic</th><th scope=col>p</th></tr>\n",
       "\t<tr><th scope=col>&lt;chr&gt;</th><th scope=col>&lt;int&gt;</th><th scope=col>&lt;int&gt;</th><th scope=col>&lt;dbl&gt;</th><th scope=col>&lt;dbl&gt;</th></tr>\n",
       "</thead>\n",
       "<tbody>\n",
       "\t<tr><td>hip_abduction</td><td>1</td><td>16</td><td>0.02915656</td><td>0.8665587</td></tr>\n",
       "\t<tr><td>hip_flexion  </td><td>1</td><td>16</td><td>0.07836713</td><td>0.7831094</td></tr>\n",
       "\t<tr><td>hip_rotation </td><td>1</td><td>16</td><td>0.01106071</td><td>0.9175482</td></tr>\n",
       "\t<tr><td>knee_flexion </td><td>1</td><td>18</td><td>0.35001151</td><td>0.5614641</td></tr>\n",
       "</tbody>\n",
       "</table>\n"
      ],
      "text/latex": [
       "A tibble: 4 × 5\n",
       "\\begin{tabular}{lllll}\n",
       " limb\\_move & df1 & df2 & statistic & p\\\\\n",
       " <chr> & <int> & <int> & <dbl> & <dbl>\\\\\n",
       "\\hline\n",
       "\t hip\\_abduction & 1 & 16 & 0.02915656 & 0.8665587\\\\\n",
       "\t hip\\_flexion   & 1 & 16 & 0.07836713 & 0.7831094\\\\\n",
       "\t hip\\_rotation  & 1 & 16 & 0.01106071 & 0.9175482\\\\\n",
       "\t knee\\_flexion  & 1 & 18 & 0.35001151 & 0.5614641\\\\\n",
       "\\end{tabular}\n"
      ],
      "text/markdown": [
       "\n",
       "A tibble: 4 × 5\n",
       "\n",
       "| limb_move &lt;chr&gt; | df1 &lt;int&gt; | df2 &lt;int&gt; | statistic &lt;dbl&gt; | p &lt;dbl&gt; |\n",
       "|---|---|---|---|---|\n",
       "| hip_abduction | 1 | 16 | 0.02915656 | 0.8665587 |\n",
       "| hip_flexion   | 1 | 16 | 0.07836713 | 0.7831094 |\n",
       "| hip_rotation  | 1 | 16 | 0.01106071 | 0.9175482 |\n",
       "| knee_flexion  | 1 | 18 | 0.35001151 | 0.5614641 |\n",
       "\n"
      ],
      "text/plain": [
       "  limb_move     df1 df2 statistic  p        \n",
       "1 hip_abduction 1   16  0.02915656 0.8665587\n",
       "2 hip_flexion   1   16  0.07836713 0.7831094\n",
       "3 hip_rotation  1   16  0.01106071 0.9175482\n",
       "4 knee_flexion  1   18  0.35001151 0.5614641"
      ]
     },
     "metadata": {},
     "output_type": "display_data"
    }
   ],
   "source": [
    "pd %>%  group_by(limb_move) %>% levene_test(mean ~ side)"
   ]
  },
  {
   "cell_type": "markdown",
   "id": "85710397-cc65-4b7c-8fe3-86553ed98f5e",
   "metadata": {},
   "source": [
    "Passed equality of variance"
   ]
  },
  {
   "cell_type": "code",
   "execution_count": 94,
   "id": "c8df810f-1a95-4161-be51-d600def417aa",
   "metadata": {},
   "outputs": [
    {
     "name": "stderr",
     "output_type": "stream",
     "text": [
      "Warning message in leveneTest.default(y = y, group = group, ...):\n",
      "“group coerced to factor.”\n",
      "Warning message in leveneTest.default(y = y, group = group, ...):\n",
      "“group coerced to factor.”\n",
      "Warning message in leveneTest.default(y = y, group = group, ...):\n",
      "“group coerced to factor.”\n",
      "Warning message in leveneTest.default(y = y, group = group, ...):\n",
      "“group coerced to factor.”\n"
     ]
    },
    {
     "data": {
      "text/html": [
       "<table class=\"dataframe\">\n",
       "<caption>A tibble: 4 × 5</caption>\n",
       "<thead>\n",
       "\t<tr><th scope=col>limb_move</th><th scope=col>df1</th><th scope=col>df2</th><th scope=col>statistic</th><th scope=col>p</th></tr>\n",
       "\t<tr><th scope=col>&lt;chr&gt;</th><th scope=col>&lt;int&gt;</th><th scope=col>&lt;int&gt;</th><th scope=col>&lt;dbl&gt;</th><th scope=col>&lt;dbl&gt;</th></tr>\n",
       "</thead>\n",
       "<tbody>\n",
       "\t<tr><td>hip_abduction</td><td>1</td><td>7</td><td>1.0137962</td><td>0.34752452</td></tr>\n",
       "\t<tr><td>hip_flexion  </td><td>1</td><td>7</td><td>0.3761572</td><td>0.55906022</td></tr>\n",
       "\t<tr><td>hip_rotation </td><td>1</td><td>7</td><td>7.9583916</td><td>0.02573402</td></tr>\n",
       "\t<tr><td>knee_flexion </td><td>1</td><td>8</td><td>0.3197603</td><td>0.58725623</td></tr>\n",
       "</tbody>\n",
       "</table>\n"
      ],
      "text/latex": [
       "A tibble: 4 × 5\n",
       "\\begin{tabular}{lllll}\n",
       " limb\\_move & df1 & df2 & statistic & p\\\\\n",
       " <chr> & <int> & <int> & <dbl> & <dbl>\\\\\n",
       "\\hline\n",
       "\t hip\\_abduction & 1 & 7 & 1.0137962 & 0.34752452\\\\\n",
       "\t hip\\_flexion   & 1 & 7 & 0.3761572 & 0.55906022\\\\\n",
       "\t hip\\_rotation  & 1 & 7 & 7.9583916 & 0.02573402\\\\\n",
       "\t knee\\_flexion  & 1 & 8 & 0.3197603 & 0.58725623\\\\\n",
       "\\end{tabular}\n"
      ],
      "text/markdown": [
       "\n",
       "A tibble: 4 × 5\n",
       "\n",
       "| limb_move &lt;chr&gt; | df1 &lt;int&gt; | df2 &lt;int&gt; | statistic &lt;dbl&gt; | p &lt;dbl&gt; |\n",
       "|---|---|---|---|---|\n",
       "| hip_abduction | 1 | 7 | 1.0137962 | 0.34752452 |\n",
       "| hip_flexion   | 1 | 7 | 0.3761572 | 0.55906022 |\n",
       "| hip_rotation  | 1 | 7 | 7.9583916 | 0.02573402 |\n",
       "| knee_flexion  | 1 | 8 | 0.3197603 | 0.58725623 |\n",
       "\n"
      ],
      "text/plain": [
       "  limb_move     df1 df2 statistic p         \n",
       "1 hip_abduction 1   7   1.0137962 0.34752452\n",
       "2 hip_flexion   1   7   0.3761572 0.55906022\n",
       "3 hip_rotation  1   7   7.9583916 0.02573402\n",
       "4 knee_flexion  1   8   0.3197603 0.58725623"
      ]
     },
     "metadata": {},
     "output_type": "display_data"
    }
   ],
   "source": [
    "oa %>%  group_by(limb_move) %>% levene_test(mean ~ side)"
   ]
  },
  {
   "cell_type": "markdown",
   "id": "327a323a-70dd-4d42-8e89-bfac2fd11d21",
   "metadata": {},
   "source": [
    "Failed equality of variance: OA hip abduction"
   ]
  },
  {
   "cell_type": "markdown",
   "id": "a4320790-1741-47e6-9e6e-87171c5eebdd",
   "metadata": {},
   "source": [
    "## Effect size"
   ]
  },
  {
   "cell_type": "code",
   "execution_count": 95,
   "id": "b79a5c00-0979-4faf-8625-e8d707f45b67",
   "metadata": {},
   "outputs": [
    {
     "data": {
      "text/html": [
       "<table class=\"dataframe\">\n",
       "<caption>A rstatix_test: 4 × 8</caption>\n",
       "<thead>\n",
       "\t<tr><th></th><th scope=col>.y.</th><th scope=col>group1</th><th scope=col>group2</th><th scope=col>effsize</th><th scope=col>limb_move</th><th scope=col>n1</th><th scope=col>n2</th><th scope=col>magnitude</th></tr>\n",
       "\t<tr><th></th><th scope=col>&lt;chr&gt;</th><th scope=col>&lt;chr&gt;</th><th scope=col>&lt;chr&gt;</th><th scope=col>&lt;dbl&gt;</th><th scope=col>&lt;chr&gt;</th><th scope=col>&lt;int&gt;</th><th scope=col>&lt;int&gt;</th><th scope=col>&lt;ord&gt;</th></tr>\n",
       "</thead>\n",
       "<tbody>\n",
       "\t<tr><th scope=row>1</th><td>mean</td><td>left</td><td>right</td><td>-0.6149203</td><td>hip_abduction</td><td>10</td><td>10</td><td>moderate  </td></tr>\n",
       "\t<tr><th scope=row>2</th><td>mean</td><td>left</td><td>right</td><td> 0.1651966</td><td>hip_flexion  </td><td>10</td><td>10</td><td>negligible</td></tr>\n",
       "\t<tr><th scope=row>3</th><td>mean</td><td>left</td><td>right</td><td> 1.1599981</td><td>hip_rotation </td><td>10</td><td>10</td><td>large     </td></tr>\n",
       "\t<tr><th scope=row>4</th><td>mean</td><td>left</td><td>right</td><td>-0.2079479</td><td>knee_flexion </td><td>10</td><td>10</td><td>small     </td></tr>\n",
       "</tbody>\n",
       "</table>\n"
      ],
      "text/latex": [
       "A rstatix\\_test: 4 × 8\n",
       "\\begin{tabular}{r|llllllll}\n",
       "  & .y. & group1 & group2 & effsize & limb\\_move & n1 & n2 & magnitude\\\\\n",
       "  & <chr> & <chr> & <chr> & <dbl> & <chr> & <int> & <int> & <ord>\\\\\n",
       "\\hline\n",
       "\t1 & mean & left & right & -0.6149203 & hip\\_abduction & 10 & 10 & moderate  \\\\\n",
       "\t2 & mean & left & right &  0.1651966 & hip\\_flexion   & 10 & 10 & negligible\\\\\n",
       "\t3 & mean & left & right &  1.1599981 & hip\\_rotation  & 10 & 10 & large     \\\\\n",
       "\t4 & mean & left & right & -0.2079479 & knee\\_flexion  & 10 & 10 & small     \\\\\n",
       "\\end{tabular}\n"
      ],
      "text/markdown": [
       "\n",
       "A rstatix_test: 4 × 8\n",
       "\n",
       "| <!--/--> | .y. &lt;chr&gt; | group1 &lt;chr&gt; | group2 &lt;chr&gt; | effsize &lt;dbl&gt; | limb_move &lt;chr&gt; | n1 &lt;int&gt; | n2 &lt;int&gt; | magnitude &lt;ord&gt; |\n",
       "|---|---|---|---|---|---|---|---|---|\n",
       "| 1 | mean | left | right | -0.6149203 | hip_abduction | 10 | 10 | moderate   |\n",
       "| 2 | mean | left | right |  0.1651966 | hip_flexion   | 10 | 10 | negligible |\n",
       "| 3 | mean | left | right |  1.1599981 | hip_rotation  | 10 | 10 | large      |\n",
       "| 4 | mean | left | right | -0.2079479 | knee_flexion  | 10 | 10 | small      |\n",
       "\n"
      ],
      "text/plain": [
       "  .y.  group1 group2 effsize    limb_move     n1 n2 magnitude \n",
       "1 mean left   right  -0.6149203 hip_abduction 10 10 moderate  \n",
       "2 mean left   right   0.1651966 hip_flexion   10 10 negligible\n",
       "3 mean left   right   1.1599981 hip_rotation  10 10 large     \n",
       "4 mean left   right  -0.2079479 knee_flexion  10 10 small     "
      ]
     },
     "metadata": {},
     "output_type": "display_data"
    }
   ],
   "source": [
    "pd %>% group_by(limb_move) %>% cohens_d(mean ~ side, var.equal = TRUE)"
   ]
  },
  {
   "cell_type": "code",
   "execution_count": 96,
   "id": "77116076-3af4-40b4-9c09-b5344023ef9f",
   "metadata": {},
   "outputs": [
    {
     "data": {
      "text/html": [
       "<table class=\"dataframe\">\n",
       "<caption>A rstatix_test: 4 × 8</caption>\n",
       "<thead>\n",
       "\t<tr><th></th><th scope=col>.y.</th><th scope=col>group1</th><th scope=col>group2</th><th scope=col>effsize</th><th scope=col>limb_move</th><th scope=col>n1</th><th scope=col>n2</th><th scope=col>magnitude</th></tr>\n",
       "\t<tr><th></th><th scope=col>&lt;chr&gt;</th><th scope=col>&lt;chr&gt;</th><th scope=col>&lt;chr&gt;</th><th scope=col>&lt;dbl&gt;</th><th scope=col>&lt;chr&gt;</th><th scope=col>&lt;int&gt;</th><th scope=col>&lt;int&gt;</th><th scope=col>&lt;ord&gt;</th></tr>\n",
       "</thead>\n",
       "<tbody>\n",
       "\t<tr><th scope=row>1</th><td>mean</td><td>left</td><td>right</td><td>-1.31969609</td><td>hip_abduction</td><td>5</td><td>5</td><td>large     </td></tr>\n",
       "\t<tr><th scope=row>2</th><td>mean</td><td>left</td><td>right</td><td> 0.63146835</td><td>hip_flexion  </td><td>5</td><td>5</td><td>moderate  </td></tr>\n",
       "\t<tr><th scope=row>3</th><td>mean</td><td>left</td><td>right</td><td>-0.72955351</td><td>hip_rotation </td><td>5</td><td>5</td><td>moderate  </td></tr>\n",
       "\t<tr><th scope=row>4</th><td>mean</td><td>left</td><td>right</td><td>-0.05129923</td><td>knee_flexion </td><td>5</td><td>5</td><td>negligible</td></tr>\n",
       "</tbody>\n",
       "</table>\n"
      ],
      "text/latex": [
       "A rstatix\\_test: 4 × 8\n",
       "\\begin{tabular}{r|llllllll}\n",
       "  & .y. & group1 & group2 & effsize & limb\\_move & n1 & n2 & magnitude\\\\\n",
       "  & <chr> & <chr> & <chr> & <dbl> & <chr> & <int> & <int> & <ord>\\\\\n",
       "\\hline\n",
       "\t1 & mean & left & right & -1.31969609 & hip\\_abduction & 5 & 5 & large     \\\\\n",
       "\t2 & mean & left & right &  0.63146835 & hip\\_flexion   & 5 & 5 & moderate  \\\\\n",
       "\t3 & mean & left & right & -0.72955351 & hip\\_rotation  & 5 & 5 & moderate  \\\\\n",
       "\t4 & mean & left & right & -0.05129923 & knee\\_flexion  & 5 & 5 & negligible\\\\\n",
       "\\end{tabular}\n"
      ],
      "text/markdown": [
       "\n",
       "A rstatix_test: 4 × 8\n",
       "\n",
       "| <!--/--> | .y. &lt;chr&gt; | group1 &lt;chr&gt; | group2 &lt;chr&gt; | effsize &lt;dbl&gt; | limb_move &lt;chr&gt; | n1 &lt;int&gt; | n2 &lt;int&gt; | magnitude &lt;ord&gt; |\n",
       "|---|---|---|---|---|---|---|---|---|\n",
       "| 1 | mean | left | right | -1.31969609 | hip_abduction | 5 | 5 | large      |\n",
       "| 2 | mean | left | right |  0.63146835 | hip_flexion   | 5 | 5 | moderate   |\n",
       "| 3 | mean | left | right | -0.72955351 | hip_rotation  | 5 | 5 | moderate   |\n",
       "| 4 | mean | left | right | -0.05129923 | knee_flexion  | 5 | 5 | negligible |\n",
       "\n"
      ],
      "text/plain": [
       "  .y.  group1 group2 effsize     limb_move     n1 n2 magnitude \n",
       "1 mean left   right  -1.31969609 hip_abduction 5  5  large     \n",
       "2 mean left   right   0.63146835 hip_flexion   5  5  moderate  \n",
       "3 mean left   right  -0.72955351 hip_rotation  5  5  moderate  \n",
       "4 mean left   right  -0.05129923 knee_flexion  5  5  negligible"
      ]
     },
     "metadata": {},
     "output_type": "display_data"
    }
   ],
   "source": [
    "oa %>% group_by(limb_move) %>% cohens_d(mean ~ side, var.equal = TRUE)"
   ]
  },
  {
   "cell_type": "markdown",
   "id": "0b197e80-bbc8-4f30-a5df-4c71c66014d6",
   "metadata": {},
   "source": [
    "## t test"
   ]
  },
  {
   "cell_type": "code",
   "execution_count": 97,
   "id": "d857103d-6b21-4905-b588-89b84b52555a",
   "metadata": {},
   "outputs": [],
   "source": [
    "joints.long2 <- joints.long %>% mutate('limb_move' = factor(limb_move))"
   ]
  },
  {
   "cell_type": "code",
   "execution_count": 98,
   "id": "94e0ebf7-5a7e-4bc1-bba3-2de749aff71b",
   "metadata": {},
   "outputs": [],
   "source": [
    "joints.long.l <- joints.long %>% filter(side == 'left')\n",
    "joints.long.r <- joints.long %>% filter(side == 'right')"
   ]
  },
  {
   "cell_type": "code",
   "execution_count": 99,
   "id": "54bde7cb-811c-4048-9dd3-ff6bf6c99047",
   "metadata": {},
   "outputs": [],
   "source": [
    "joints.long.l$right <- joints.long.r$mean\n",
    "pd <- joints.long.l %>% filter(group == 'pd') %>% mutate(left=mean)\n",
    "oa <- joints.long.l %>% filter(group == 'control') %>% mutate(left=mean)"
   ]
  },
  {
   "cell_type": "code",
   "execution_count": 100,
   "id": "d9c7e050-93b9-4f08-b85b-169652ea4a0c",
   "metadata": {},
   "outputs": [
    {
     "name": "stderr",
     "output_type": "stream",
     "text": [
      "`summarise()` has grouped output by 'limb_move'. You can override using the `.groups` argument.\n",
      "\n"
     ]
    },
    {
     "data": {
      "text/html": [
       "<table class=\"dataframe\">\n",
       "<caption>A grouped_df: 8 × 3</caption>\n",
       "<thead>\n",
       "\t<tr><th scope=col>limb_move</th><th scope=col>group</th><th scope=col>n()</th></tr>\n",
       "\t<tr><th scope=col>&lt;chr&gt;</th><th scope=col>&lt;chr&gt;</th><th scope=col>&lt;int&gt;</th></tr>\n",
       "</thead>\n",
       "<tbody>\n",
       "\t<tr><td>hip_abduction</td><td>control</td><td>10</td></tr>\n",
       "\t<tr><td>hip_abduction</td><td>pd     </td><td>20</td></tr>\n",
       "\t<tr><td>hip_flexion  </td><td>control</td><td>10</td></tr>\n",
       "\t<tr><td>hip_flexion  </td><td>pd     </td><td>20</td></tr>\n",
       "\t<tr><td>hip_rotation </td><td>control</td><td>10</td></tr>\n",
       "\t<tr><td>hip_rotation </td><td>pd     </td><td>20</td></tr>\n",
       "\t<tr><td>knee_flexion </td><td>control</td><td>10</td></tr>\n",
       "\t<tr><td>knee_flexion </td><td>pd     </td><td>20</td></tr>\n",
       "</tbody>\n",
       "</table>\n"
      ],
      "text/latex": [
       "A grouped\\_df: 8 × 3\n",
       "\\begin{tabular}{lll}\n",
       " limb\\_move & group & n()\\\\\n",
       " <chr> & <chr> & <int>\\\\\n",
       "\\hline\n",
       "\t hip\\_abduction & control & 10\\\\\n",
       "\t hip\\_abduction & pd      & 20\\\\\n",
       "\t hip\\_flexion   & control & 10\\\\\n",
       "\t hip\\_flexion   & pd      & 20\\\\\n",
       "\t hip\\_rotation  & control & 10\\\\\n",
       "\t hip\\_rotation  & pd      & 20\\\\\n",
       "\t knee\\_flexion  & control & 10\\\\\n",
       "\t knee\\_flexion  & pd      & 20\\\\\n",
       "\\end{tabular}\n"
      ],
      "text/markdown": [
       "\n",
       "A grouped_df: 8 × 3\n",
       "\n",
       "| limb_move &lt;chr&gt; | group &lt;chr&gt; | n() &lt;int&gt; |\n",
       "|---|---|---|\n",
       "| hip_abduction | control | 10 |\n",
       "| hip_abduction | pd      | 20 |\n",
       "| hip_flexion   | control | 10 |\n",
       "| hip_flexion   | pd      | 20 |\n",
       "| hip_rotation  | control | 10 |\n",
       "| hip_rotation  | pd      | 20 |\n",
       "| knee_flexion  | control | 10 |\n",
       "| knee_flexion  | pd      | 20 |\n",
       "\n"
      ],
      "text/plain": [
       "  limb_move     group   n()\n",
       "1 hip_abduction control 10 \n",
       "2 hip_abduction pd      20 \n",
       "3 hip_flexion   control 10 \n",
       "4 hip_flexion   pd      20 \n",
       "5 hip_rotation  control 10 \n",
       "6 hip_rotation  pd      20 \n",
       "7 knee_flexion  control 10 \n",
       "8 knee_flexion  pd      20 "
      ]
     },
     "metadata": {},
     "output_type": "display_data"
    }
   ],
   "source": [
    "joints.long %>% group_by(limb_move, group) %>% summarise(n())"
   ]
  },
  {
   "cell_type": "code",
   "execution_count": 101,
   "id": "c6655bfd-d29e-48e3-bbc2-bdf78f7d0591",
   "metadata": {
    "scrolled": true,
    "tags": []
   },
   "outputs": [
    {
     "data": {
      "text/plain": [
       ": hip_abduction\n",
       "\n",
       "\tTwo Sample t-test\n",
       "\n",
       "data:  x$left and x$right\n",
       "t = -1.3044, df = 16, p-value = 0.2105\n",
       "alternative hypothesis: true difference in means is not equal to 0\n",
       "95 percent confidence interval:\n",
       " -7.025131  1.672940\n",
       "sample estimates:\n",
       "mean of x mean of y \n",
       "-1.390407  1.285689 \n",
       "\n",
       "------------------------------------------------------------ \n",
       ": hip_flexion\n",
       "\n",
       "\tTwo Sample t-test\n",
       "\n",
       "data:  x$left and x$right\n",
       "t = 0.35043, df = 16, p-value = 0.7306\n",
       "alternative hypothesis: true difference in means is not equal to 0\n",
       "95 percent confidence interval:\n",
       " -5.223057  7.291858\n",
       "sample estimates:\n",
       "mean of x mean of y \n",
       "10.795926  9.761525 \n",
       "\n",
       "------------------------------------------------------------ \n",
       ": hip_rotation\n",
       "\n",
       "\tTwo Sample t-test\n",
       "\n",
       "data:  x$left and x$right\n",
       "t = 2.4607, df = 16, p-value = 0.02562\n",
       "alternative hypothesis: true difference in means is not equal to 0\n",
       "95 percent confidence interval:\n",
       "  2.805976 37.712168\n",
       "sample estimates:\n",
       "mean of x mean of y \n",
       " 10.11508 -10.14399 \n",
       "\n",
       "------------------------------------------------------------ \n",
       ": knee_flexion\n",
       "\n",
       "\tTwo Sample t-test\n",
       "\n",
       "data:  x$left and x$right\n",
       "t = -0.46499, df = 18, p-value = 0.6475\n",
       "alternative hypothesis: true difference in means is not equal to 0\n",
       "95 percent confidence interval:\n",
       " -9.033786  5.759638\n",
       "sample estimates:\n",
       "mean of x mean of y \n",
       " 10.77586  12.41294 \n"
      ]
     },
     "metadata": {},
     "output_type": "display_data"
    }
   ],
   "source": [
    "pd.result <- by(pd, list(pd$limb_move), \n",
    "    function(x) t.test(x$left, x$right, mu=0, alt=\"two.sided\",conf.level = 0.95, var.equal=TRUE, na.action=na.omit))\n",
    "pd.result"
   ]
  },
  {
   "cell_type": "code",
   "execution_count": 102,
   "id": "4c5f8981-f3ee-44c0-bcd6-ce354d6106c7",
   "metadata": {
    "scrolled": true,
    "tags": []
   },
   "outputs": [
    {
     "data": {
      "text/plain": [
       ": hip_abduction\n",
       "\n",
       "\tTwo Sample t-test\n",
       "\n",
       "data:  x$left and x$right\n",
       "t = -1.9673, df = 7, p-value = 0.08985\n",
       "alternative hypothesis: true difference in means is not equal to 0\n",
       "95 percent confidence interval:\n",
       " -8.0922170  0.7422454\n",
       "sample estimates:\n",
       " mean of x  mean of y \n",
       "-0.1703037  3.5046821 \n",
       "\n",
       "------------------------------------------------------------ \n",
       ": hip_flexion\n",
       "\n",
       "\tTwo Sample t-test\n",
       "\n",
       "data:  x$left and x$right\n",
       "t = 0.94134, df = 7, p-value = 0.3779\n",
       "alternative hypothesis: true difference in means is not equal to 0\n",
       "95 percent confidence interval:\n",
       " -7.589206 17.627946\n",
       "sample estimates:\n",
       "mean of x mean of y \n",
       " 22.53342  17.51405 \n",
       "\n",
       "------------------------------------------------------------ \n",
       ": hip_rotation\n",
       "\n",
       "\tTwo Sample t-test\n",
       "\n",
       "data:  x$left and x$right\n",
       "t = -1.0876, df = 7, p-value = 0.3128\n",
       "alternative hypothesis: true difference in means is not equal to 0\n",
       "95 percent confidence interval:\n",
       " -22.814354   8.439752\n",
       "sample estimates:\n",
       "  mean of x   mean of y \n",
       "-0.01361022  7.17369096 \n",
       "\n",
       "------------------------------------------------------------ \n",
       ": knee_flexion\n",
       "\n",
       "\tTwo Sample t-test\n",
       "\n",
       "data:  x$left and x$right\n",
       "t = -0.081111, df = 8, p-value = 0.9373\n",
       "alternative hypothesis: true difference in means is not equal to 0\n",
       "95 percent confidence interval:\n",
       " -10.122022   9.434155\n",
       "sample estimates:\n",
       "mean of x mean of y \n",
       " 16.64316  16.98710 \n"
      ]
     },
     "metadata": {},
     "output_type": "display_data"
    }
   ],
   "source": [
    "oa.result <- by(oa, list(oa$limb_move), \n",
    "    function(x) t.test(x$left, x$right, mu=0, alt=\"two.sided\",conf.level = 0.95, var.equal=TRUE))\n",
    "oa.result"
   ]
  },
  {
   "cell_type": "markdown",
   "id": "928f7469-39e8-4968-b8a5-c2035947dd28",
   "metadata": {},
   "source": [
    "## Graphing"
   ]
  },
  {
   "cell_type": "code",
   "execution_count": 106,
   "id": "7b2f8505-e274-4601-9a4a-c9647f90875e",
   "metadata": {},
   "outputs": [],
   "source": [
    "library(ggpubr)"
   ]
  },
  {
   "cell_type": "code",
   "execution_count": 107,
   "id": "9f8be693-a315-499a-b601-d3d1bd2d6e7e",
   "metadata": {},
   "outputs": [],
   "source": [
    "# symbols to use\n",
    "symnum.list <- list(cutpoints = c(0, 0.0001, 0.001, 0.01, 0.05, 1), symbols = c(\"****\", \"***\", \"**\", \"*\", \"ns\"))\n",
    "\n",
    "# prettier labels\n",
    "limb.labs2 <- c('Hip Abduction','Hip Flexion','Hip Rotation','Knee Flexion')\n",
    "names(limb.labs2) <- c('hip_abduction','hip_flexion','hip_rotation','knee_flexion')\n",
    "\n",
    "group.labs <- c('OA','PD')\n",
    "names(group.labs) <- c('control','pd')"
   ]
  },
  {
   "cell_type": "code",
   "execution_count": 108,
   "id": "8bd55d9c-2499-4eb5-907a-2fef3704d58c",
   "metadata": {},
   "outputs": [
    {
     "name": "stderr",
     "output_type": "stream",
     "text": [
      "Warning message:\n",
      "“Removed 9 rows containing non-finite values (stat_boxplot).”\n",
      "Warning message:\n",
      "“Removed 9 rows containing non-finite values (stat_compare_means).”\n"
     ]
    },
    {
     "data": {
      "image/png": "[encoded data removed]",
      "text/plain": [
       "plot without title"
      ]
     },
     "metadata": {
      "image/png": {
       "height": 420,
       "width": 420
      }
     },
     "output_type": "display_data"
    }
   ],
   "source": [
    "p.avg <- joints.long %>%\n",
    "    ggplot(aes(x=side,y=mean)) +\n",
    "        facet_grid(rows=vars(group), cols=vars(limb_move),labeller=labeller(limb_move=limb.labs2, group=group.labs)) +\n",
    "        # ggtitle(\"Left vs Right Mean Body Movement in PD and OA\") +\n",
    "        xlab('Side') +\n",
    "        ylab('Mean Value (deg)') +\n",
    "        geom_boxplot() +\n",
    "        stat_compare_means(method='t.test',symnum.args=symnum.list,\n",
    "                           label=\"p.format\", method.args=list(var.equal=TRUE),\n",
    "                           size=5.5) +\n",
    "        pub_theme(16)\n",
    "p.avg"
   ]
  },
  {
   "cell_type": "code",
   "execution_count": 109,
   "id": "4331a277-ca3c-4235-aac6-8f379c573dd0",
   "metadata": {},
   "outputs": [],
   "source": [
    "# cowplot::save_plot('figures/joint_mean_facet.jpeg',p,ncol=2, nrow=2, dpi=1000)"
   ]
  },
  {
   "cell_type": "code",
   "execution_count": 110,
   "id": "de0e23cc-4179-4703-87b2-40bac48c2540",
   "metadata": {},
   "outputs": [],
   "source": [
    "p.apen <- p.apen + pub_theme(22)\n",
    "p.avg <- p.avg + pub_theme(22)"
   ]
  },
  {
   "cell_type": "code",
   "execution_count": 111,
   "id": "b4ee0603-45af-40de-a05e-77c394ce10a9",
   "metadata": {},
   "outputs": [
    {
     "name": "stderr",
     "output_type": "stream",
     "text": [
      "Warning message:\n",
      "“Removed 9 rows containing non-finite values (stat_boxplot).”\n",
      "Warning message:\n",
      "“Removed 9 rows containing non-finite values (stat_compare_means).”\n"
     ]
    },
    {
     "data": {
      "image/png": "[encoded data removed]",
      "text/plain": [
       "plot without title"
      ]
     },
     "metadata": {
      "image/png": {
       "height": 420,
       "width": 420
      }
     },
     "output_type": "display_data"
    }
   ],
   "source": [
    "p.grid <- cowplot::plot_grid(p.apen, p.avg, nrow=2, labels='AUTO', label_size=22)\n",
    "p.grid"
   ]
  },
  {
   "cell_type": "code",
   "execution_count": 112,
   "id": "792d3d86-cc87-4410-9b14-774a6499d080",
   "metadata": {},
   "outputs": [],
   "source": [
    "cowplot::save_plot('figures/figure5.jpeg',p.grid,nrow=2, base_height=8, dpi=1000)"
   ]
  },
  {
   "cell_type": "code",
   "execution_count": 113,
   "id": "3d850185-9769-4a30-85e1-c7615bc85ea7",
   "metadata": {},
   "outputs": [],
   "source": [
    "df.new <- joints.long %>%\n",
    "    unite(\"dance_side\", c(\"dance_group\",\"side\"), remove=FALSE)"
   ]
  },
  {
   "cell_type": "code",
   "execution_count": 114,
   "id": "b7a6a67b-28e2-451e-b201-b756802bbcbb",
   "metadata": {},
   "outputs": [],
   "source": [
    "dance.labs <- c('Tango','Line','Foxtrot')\n",
    "names(dance.labs) <- c('tango','line','foxtrot')"
   ]
  },
  {
   "cell_type": "code",
   "execution_count": 115,
   "id": "8f03fede-64eb-41e5-b638-62219c2fcf10",
   "metadata": {},
   "outputs": [
    {
     "name": "stdout",
     "output_type": "stream",
     "text": [
      "Rows: 120\n",
      "Columns: 7\n",
      "Groups: dance_group, id [15]\n",
      "$ dance_group    \u001b[3m\u001b[90m<chr>\u001b[39m\u001b[23m \"foxtrot\", \"foxtrot\", \"foxtrot\", \"foxtrot\", \"foxtrot\", …\n",
      "$ id             \u001b[3m\u001b[90m<chr>\u001b[39m\u001b[23m \"pddance002\", \"pddance002\", \"pddance002\", \"pddance002\",…\n",
      "$ group          \u001b[3m\u001b[90m<chr>\u001b[39m\u001b[23m \"PD\", \"PD\", \"PD\", \"PD\", \"PD\", \"PD\", \"PD\", \"PD\", \"PD\", \"…\n",
      "$ limb_move_side \u001b[3m\u001b[90m<chr>\u001b[39m\u001b[23m \"left.hip.flex\", \"right.hip.flex\", \"left.hip.abd\", \"rig…\n",
      "$ mean           \u001b[3m\u001b[90m<dbl>\u001b[39m\u001b[23m 8.99551136, 5.47068781, -7.04229627, 6.83216949, -5.816…\n",
      "$ side           \u001b[3m\u001b[90m<chr>\u001b[39m\u001b[23m \"left\", \"right\", \"left\", \"right\", \"left\", \"right\", \"lef…\n",
      "$ limb_move      \u001b[3m\u001b[90m<chr>\u001b[39m\u001b[23m \"hip_flexion\", \"hip_flexion\", \"hip_abduction\", \"hip_abd…\n"
     ]
    }
   ],
   "source": [
    "joints.long %>% glimpse"
   ]
  },
  {
   "cell_type": "code",
   "execution_count": 116,
   "id": "eff6da0e-7520-4894-8c3a-26dcdfff205f",
   "metadata": {},
   "outputs": [
    {
     "name": "stderr",
     "output_type": "stream",
     "text": [
      "Warning message:\n",
      "“Removed 9 rows containing non-finite values (stat_boxplot).”\n",
      "Warning message:\n",
      "“Removed 9 rows containing non-finite values (stat_signif).”\n"
     ]
    },
    {
     "data": {
      "image/png": "[encoded data removed]",
      "text/plain": [
       "plot without title"
      ]
     },
     "metadata": {
      "image/png": {
       "height": 420,
       "width": 420
      }
     },
     "output_type": "display_data"
    }
   ],
   "source": [
    "q.means <- joints.long %>%\n",
    "    ggboxplot(x='side', y='mean') +\n",
    "        ggh4x::facet_nested(group ~ dance_group + limb_move, labeller=labeller(group=group.labs, limb_move = limb.labs2, dance_group = dance.labs)) +\n",
    "        stat_compare_means(comparisons=list(c('left','right'))) +\n",
    "        # theme(axis.text.x = element_text(angle=45, hjust=1)) +\n",
    "        ggtitle('Left vs Right Mean Body Movement by Dance and Group') +\n",
    "        xlab('Side') +\n",
    "        ylab('Mean Value (deg)') +\n",
    "        pub_theme(11)\n",
    "\n",
    "q.means"
   ]
  },
  {
   "cell_type": "code",
   "execution_count": null,
   "id": "c83dd239-56b8-4867-aa84-6e0e4ea37774",
   "metadata": {},
   "outputs": [],
   "source": []
  }
 ],
 "metadata": {
  "kernelspec": {
   "display_name": "R",
   "language": "R",
   "name": "ir"
  },
  "language_info": {
   "codemirror_mode": "r",
   "file_extension": ".r",
   "mimetype": "text/x-r-source",
   "name": "R",
   "pygments_lexer": "r",
   "version": "4.0.5"
  },
  "widgets": {
   "application/vnd.jupyter.widget-state+json": {
    "state": {},
    "version_major": 2,
    "version_minor": 0
   }
  }
 },
 "nbformat": 4,
 "nbformat_minor": 5
}
